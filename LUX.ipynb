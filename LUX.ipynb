{
  "nbformat": 4,
  "nbformat_minor": 0,
  "metadata": {
    "colab": {
      "name": "LUX",
      "provenance": [],
      "collapsed_sections": [],
      "authorship_tag": "ABX9TyPtZpoK7I8zS9UUglTTXYZX",
      "include_colab_link": true
    },
    "kernelspec": {
      "name": "python3",
      "display_name": "Python 3"
    },
    "language_info": {
      "name": "python"
    },
    "widgets": {
      "application/vnd.jupyter.widget-state+json": {
        "e9916974574c4d46941c706720073595": {
          "model_module": "@jupyter-widgets/controls",
          "model_name": "ButtonModel",
          "state": {
            "_view_name": "ButtonView",
            "style": "IPY_MODEL_8cbdebb2236543c998a1daea81f67e3c",
            "_dom_classes": [],
            "description": "Toggle Pandas/Lux",
            "_model_name": "ButtonModel",
            "button_style": "",
            "_view_module": "@jupyter-widgets/controls",
            "_model_module_version": "1.5.0",
            "tooltip": "",
            "_view_count": null,
            "disabled": false,
            "_view_module_version": "1.5.0",
            "layout": "IPY_MODEL_f2453699a9d24a73b3c4990a4d90101d",
            "_model_module": "@jupyter-widgets/controls",
            "icon": ""
          }
        },
        "8cbdebb2236543c998a1daea81f67e3c": {
          "model_module": "@jupyter-widgets/controls",
          "model_name": "ButtonStyleModel",
          "state": {
            "_view_name": "StyleView",
            "_model_name": "ButtonStyleModel",
            "_view_module": "@jupyter-widgets/base",
            "_model_module_version": "1.5.0",
            "_view_count": null,
            "button_color": null,
            "font_weight": "",
            "_view_module_version": "1.2.0",
            "_model_module": "@jupyter-widgets/controls"
          }
        },
        "f2453699a9d24a73b3c4990a4d90101d": {
          "model_module": "@jupyter-widgets/base",
          "model_name": "LayoutModel",
          "state": {
            "_view_name": "LayoutView",
            "grid_template_rows": null,
            "right": null,
            "justify_content": null,
            "_view_module": "@jupyter-widgets/base",
            "overflow": null,
            "_model_module_version": "1.2.0",
            "_view_count": null,
            "flex_flow": null,
            "width": "140px",
            "min_width": null,
            "border": null,
            "align_items": null,
            "bottom": null,
            "_model_module": "@jupyter-widgets/base",
            "top": "5px",
            "grid_column": null,
            "overflow_y": null,
            "overflow_x": null,
            "grid_auto_flow": null,
            "grid_area": null,
            "grid_template_columns": null,
            "flex": null,
            "_model_name": "LayoutModel",
            "justify_items": null,
            "grid_row": null,
            "max_height": null,
            "align_content": null,
            "visibility": null,
            "align_self": null,
            "height": null,
            "min_height": null,
            "padding": null,
            "grid_auto_rows": null,
            "grid_gap": null,
            "max_width": null,
            "order": null,
            "_view_module_version": "1.2.0",
            "grid_template_areas": null,
            "object_position": null,
            "object_fit": null,
            "grid_auto_columns": null,
            "margin": null,
            "display": null,
            "left": null
          }
        },
        "ae8cbdd774164f7492b4a824d21f580e": {
          "model_module": "@jupyter-widgets/output",
          "model_name": "OutputModel",
          "state": {
            "_view_name": "OutputView",
            "msg_id": "",
            "_dom_classes": [],
            "_model_name": "OutputModel",
            "outputs": [
              {
                "output_type": "display_data",
                "metadata": {
                  "tags": []
                },
                "text/html": "<div>\n<style scoped>\n    .dataframe tbody tr th:only-of-type {\n        vertical-align: middle;\n    }\n\n    .dataframe tbody tr th {\n        vertical-align: top;\n    }\n\n    .dataframe thead th {\n        text-align: right;\n    }\n</style>\n<table border=\"1\" class=\"dataframe\">\n  <thead>\n    <tr style=\"text-align: right;\">\n      <th></th>\n      <th>Age</th>\n      <th>Attrition</th>\n      <th>BusinessTravel</th>\n      <th>DailyRate</th>\n      <th>Department</th>\n      <th>DistanceFromHome</th>\n      <th>Education</th>\n      <th>EducationField</th>\n      <th>EmployeeCount</th>\n      <th>EmployeeNumber</th>\n      <th>EnvironmentSatisfaction</th>\n      <th>Gender</th>\n      <th>HourlyRate</th>\n      <th>JobInvolvement</th>\n      <th>JobLevel</th>\n      <th>JobRole</th>\n      <th>JobSatisfaction</th>\n      <th>MaritalStatus</th>\n      <th>MonthlyIncome</th>\n      <th>MonthlyRate</th>\n      <th>NumCompaniesWorked</th>\n      <th>Over18</th>\n      <th>OverTime</th>\n      <th>PercentSalaryHike</th>\n      <th>PerformanceRating</th>\n      <th>RelationshipSatisfaction</th>\n      <th>StandardHours</th>\n      <th>StockOptionLevel</th>\n      <th>TotalWorkingYears</th>\n      <th>TrainingTimesLastYear</th>\n      <th>WorkLifeBalance</th>\n      <th>YearsAtCompany</th>\n      <th>YearsInCurrentRole</th>\n      <th>YearsSinceLastPromotion</th>\n      <th>YearsWithCurrManager</th>\n    </tr>\n  </thead>\n  <tbody>\n    <tr>\n      <th>0</th>\n      <td>41</td>\n      <td>Yes</td>\n      <td>Travel_Rarely</td>\n      <td>1102</td>\n      <td>Sales</td>\n      <td>1</td>\n      <td>2</td>\n      <td>Life Sciences</td>\n      <td>1</td>\n      <td>1</td>\n      <td>2</td>\n      <td>Female</td>\n      <td>94</td>\n      <td>3</td>\n      <td>2</td>\n      <td>Sales Executive</td>\n      <td>4</td>\n      <td>Single</td>\n      <td>5993</td>\n      <td>19479</td>\n      <td>8</td>\n      <td>Y</td>\n      <td>Yes</td>\n      <td>11</td>\n      <td>3</td>\n      <td>1</td>\n      <td>80</td>\n      <td>0</td>\n      <td>8</td>\n      <td>0</td>\n      <td>1</td>\n      <td>6</td>\n      <td>4</td>\n      <td>0</td>\n      <td>5</td>\n    </tr>\n    <tr>\n      <th>1</th>\n      <td>49</td>\n      <td>No</td>\n      <td>Travel_Frequently</td>\n      <td>279</td>\n      <td>Research &amp; Development</td>\n      <td>8</td>\n      <td>1</td>\n      <td>Life Sciences</td>\n      <td>1</td>\n      <td>2</td>\n      <td>3</td>\n      <td>Male</td>\n      <td>61</td>\n      <td>2</td>\n      <td>2</td>\n      <td>Research Scientist</td>\n      <td>2</td>\n      <td>Married</td>\n      <td>5130</td>\n      <td>24907</td>\n      <td>1</td>\n      <td>Y</td>\n      <td>No</td>\n      <td>23</td>\n      <td>4</td>\n      <td>4</td>\n      <td>80</td>\n      <td>1</td>\n      <td>10</td>\n      <td>3</td>\n      <td>3</td>\n      <td>10</td>\n      <td>7</td>\n      <td>1</td>\n      <td>7</td>\n    </tr>\n    <tr>\n      <th>2</th>\n      <td>37</td>\n      <td>Yes</td>\n      <td>Travel_Rarely</td>\n      <td>1373</td>\n      <td>Research &amp; Development</td>\n      <td>2</td>\n      <td>2</td>\n      <td>Other</td>\n      <td>1</td>\n      <td>4</td>\n      <td>4</td>\n      <td>Male</td>\n      <td>92</td>\n      <td>2</td>\n      <td>1</td>\n      <td>Laboratory Technician</td>\n      <td>3</td>\n      <td>Single</td>\n      <td>2090</td>\n      <td>2396</td>\n      <td>6</td>\n      <td>Y</td>\n      <td>Yes</td>\n      <td>15</td>\n      <td>3</td>\n      <td>2</td>\n      <td>80</td>\n      <td>0</td>\n      <td>7</td>\n      <td>3</td>\n      <td>3</td>\n      <td>0</td>\n      <td>0</td>\n      <td>0</td>\n      <td>0</td>\n    </tr>\n    <tr>\n      <th>3</th>\n      <td>33</td>\n      <td>No</td>\n      <td>Travel_Frequently</td>\n      <td>1392</td>\n      <td>Research &amp; Development</td>\n      <td>3</td>\n      <td>4</td>\n      <td>Life Sciences</td>\n      <td>1</td>\n      <td>5</td>\n      <td>4</td>\n      <td>Female</td>\n      <td>56</td>\n      <td>3</td>\n      <td>1</td>\n      <td>Research Scientist</td>\n      <td>3</td>\n      <td>Married</td>\n      <td>2909</td>\n      <td>23159</td>\n      <td>1</td>\n      <td>Y</td>\n      <td>Yes</td>\n      <td>11</td>\n      <td>3</td>\n      <td>3</td>\n      <td>80</td>\n      <td>0</td>\n      <td>8</td>\n      <td>3</td>\n      <td>3</td>\n      <td>8</td>\n      <td>7</td>\n      <td>3</td>\n      <td>0</td>\n    </tr>\n    <tr>\n      <th>4</th>\n      <td>27</td>\n      <td>No</td>\n      <td>Travel_Rarely</td>\n      <td>591</td>\n      <td>Research &amp; Development</td>\n      <td>2</td>\n      <td>1</td>\n      <td>Medical</td>\n      <td>1</td>\n      <td>7</td>\n      <td>1</td>\n      <td>Male</td>\n      <td>40</td>\n      <td>3</td>\n      <td>1</td>\n      <td>Laboratory Technician</td>\n      <td>2</td>\n      <td>Married</td>\n      <td>3468</td>\n      <td>16632</td>\n      <td>9</td>\n      <td>Y</td>\n      <td>No</td>\n      <td>12</td>\n      <td>3</td>\n      <td>4</td>\n      <td>80</td>\n      <td>1</td>\n      <td>6</td>\n      <td>3</td>\n      <td>3</td>\n      <td>2</td>\n      <td>2</td>\n      <td>2</td>\n      <td>2</td>\n    </tr>\n    <tr>\n      <th>...</th>\n      <td>...</td>\n      <td>...</td>\n      <td>...</td>\n      <td>...</td>\n      <td>...</td>\n      <td>...</td>\n      <td>...</td>\n      <td>...</td>\n      <td>...</td>\n      <td>...</td>\n      <td>...</td>\n      <td>...</td>\n      <td>...</td>\n      <td>...</td>\n      <td>...</td>\n      <td>...</td>\n      <td>...</td>\n      <td>...</td>\n      <td>...</td>\n      <td>...</td>\n      <td>...</td>\n      <td>...</td>\n      <td>...</td>\n      <td>...</td>\n      <td>...</td>\n      <td>...</td>\n      <td>...</td>\n      <td>...</td>\n      <td>...</td>\n      <td>...</td>\n      <td>...</td>\n      <td>...</td>\n      <td>...</td>\n      <td>...</td>\n      <td>...</td>\n    </tr>\n    <tr>\n      <th>1465</th>\n      <td>36</td>\n      <td>No</td>\n      <td>Travel_Frequently</td>\n      <td>884</td>\n      <td>Research &amp; Development</td>\n      <td>23</td>\n      <td>2</td>\n      <td>Medical</td>\n      <td>1</td>\n      <td>2061</td>\n      <td>3</td>\n      <td>Male</td>\n      <td>41</td>\n      <td>4</td>\n      <td>2</td>\n      <td>Laboratory Technician</td>\n      <td>4</td>\n      <td>Married</td>\n      <td>2571</td>\n      <td>12290</td>\n      <td>4</td>\n      <td>Y</td>\n      <td>No</td>\n      <td>17</td>\n      <td>3</td>\n      <td>3</td>\n      <td>80</td>\n      <td>1</td>\n      <td>17</td>\n      <td>3</td>\n      <td>3</td>\n      <td>5</td>\n      <td>2</td>\n      <td>0</td>\n      <td>3</td>\n    </tr>\n    <tr>\n      <th>1466</th>\n      <td>39</td>\n      <td>No</td>\n      <td>Travel_Rarely</td>\n      <td>613</td>\n      <td>Research &amp; Development</td>\n      <td>6</td>\n      <td>1</td>\n      <td>Medical</td>\n      <td>1</td>\n      <td>2062</td>\n      <td>4</td>\n      <td>Male</td>\n      <td>42</td>\n      <td>2</td>\n      <td>3</td>\n      <td>Healthcare Representative</td>\n      <td>1</td>\n      <td>Married</td>\n      <td>9991</td>\n      <td>21457</td>\n      <td>4</td>\n      <td>Y</td>\n      <td>No</td>\n      <td>15</td>\n      <td>3</td>\n      <td>1</td>\n      <td>80</td>\n      <td>1</td>\n      <td>9</td>\n      <td>5</td>\n      <td>3</td>\n      <td>7</td>\n      <td>7</td>\n      <td>1</td>\n      <td>7</td>\n    </tr>\n    <tr>\n      <th>1467</th>\n      <td>27</td>\n      <td>No</td>\n      <td>Travel_Rarely</td>\n      <td>155</td>\n      <td>Research &amp; Development</td>\n      <td>4</td>\n      <td>3</td>\n      <td>Life Sciences</td>\n      <td>1</td>\n      <td>2064</td>\n      <td>2</td>\n      <td>Male</td>\n      <td>87</td>\n      <td>4</td>\n      <td>2</td>\n      <td>Manufacturing Director</td>\n      <td>2</td>\n      <td>Married</td>\n      <td>6142</td>\n      <td>5174</td>\n      <td>1</td>\n      <td>Y</td>\n      <td>Yes</td>\n      <td>20</td>\n      <td>4</td>\n      <td>2</td>\n      <td>80</td>\n      <td>1</td>\n      <td>6</td>\n      <td>0</td>\n      <td>3</td>\n      <td>6</td>\n      <td>2</td>\n      <td>0</td>\n      <td>3</td>\n    </tr>\n    <tr>\n      <th>1468</th>\n      <td>49</td>\n      <td>No</td>\n      <td>Travel_Frequently</td>\n      <td>1023</td>\n      <td>Sales</td>\n      <td>2</td>\n      <td>3</td>\n      <td>Medical</td>\n      <td>1</td>\n      <td>2065</td>\n      <td>4</td>\n      <td>Male</td>\n      <td>63</td>\n      <td>2</td>\n      <td>2</td>\n      <td>Sales Executive</td>\n      <td>2</td>\n      <td>Married</td>\n      <td>5390</td>\n      <td>13243</td>\n      <td>2</td>\n      <td>Y</td>\n      <td>No</td>\n      <td>14</td>\n      <td>3</td>\n      <td>4</td>\n      <td>80</td>\n      <td>0</td>\n      <td>17</td>\n      <td>3</td>\n      <td>2</td>\n      <td>9</td>\n      <td>6</td>\n      <td>0</td>\n      <td>8</td>\n    </tr>\n    <tr>\n      <th>1469</th>\n      <td>34</td>\n      <td>No</td>\n      <td>Travel_Rarely</td>\n      <td>628</td>\n      <td>Research &amp; Development</td>\n      <td>8</td>\n      <td>3</td>\n      <td>Medical</td>\n      <td>1</td>\n      <td>2068</td>\n      <td>2</td>\n      <td>Male</td>\n      <td>82</td>\n      <td>4</td>\n      <td>2</td>\n      <td>Laboratory Technician</td>\n      <td>3</td>\n      <td>Married</td>\n      <td>4404</td>\n      <td>10228</td>\n      <td>2</td>\n      <td>Y</td>\n      <td>No</td>\n      <td>12</td>\n      <td>3</td>\n      <td>1</td>\n      <td>80</td>\n      <td>0</td>\n      <td>6</td>\n      <td>3</td>\n      <td>4</td>\n      <td>4</td>\n      <td>3</td>\n      <td>1</td>\n      <td>2</td>\n    </tr>\n  </tbody>\n</table>\n<p>1470 rows × 35 columns</p>\n</div>",
                "text/plain": "      Age Attrition  ... YearsSinceLastPromotion  YearsWithCurrManager\n0      41       Yes  ...                       0                     5\n1      49        No  ...                       1                     7\n2      37       Yes  ...                       0                     0\n3      33        No  ...                       3                     0\n4      27        No  ...                       2                     2\n...   ...       ...  ...                     ...                   ...\n1465   36        No  ...                       0                     3\n1466   39        No  ...                       1                     7\n1467   27        No  ...                       0                     3\n1468   49        No  ...                       0                     8\n1469   34        No  ...                       1                     2\n\n[1470 rows x 35 columns]"
              }
            ],
            "_view_module": "@jupyter-widgets/output",
            "_model_module_version": "1.0.0",
            "_view_count": null,
            "_view_module_version": "1.0.0",
            "layout": "IPY_MODEL_1096c15e14ef4ba88f3970f78a9c3928",
            "_model_module": "@jupyter-widgets/output"
          }
        },
        "1096c15e14ef4ba88f3970f78a9c3928": {
          "model_module": "@jupyter-widgets/base",
          "model_name": "LayoutModel",
          "state": {
            "_view_name": "LayoutView",
            "grid_template_rows": null,
            "right": null,
            "justify_content": null,
            "_view_module": "@jupyter-widgets/base",
            "overflow": null,
            "_model_module_version": "1.2.0",
            "_view_count": null,
            "flex_flow": null,
            "width": null,
            "min_width": null,
            "border": null,
            "align_items": null,
            "bottom": null,
            "_model_module": "@jupyter-widgets/base",
            "top": null,
            "grid_column": null,
            "overflow_y": null,
            "overflow_x": null,
            "grid_auto_flow": null,
            "grid_area": null,
            "grid_template_columns": null,
            "flex": null,
            "_model_name": "LayoutModel",
            "justify_items": null,
            "grid_row": null,
            "max_height": null,
            "align_content": null,
            "visibility": null,
            "align_self": null,
            "height": null,
            "min_height": null,
            "padding": null,
            "grid_auto_rows": null,
            "grid_gap": null,
            "max_width": null,
            "order": null,
            "_view_module_version": "1.2.0",
            "grid_template_areas": null,
            "object_position": null,
            "object_fit": null,
            "grid_auto_columns": null,
            "margin": null,
            "display": null,
            "left": null
          }
        },
        "68816de7cd4d4f0da71a8dc800c176b6": {
          "model_module": "@jupyter-widgets/controls",
          "model_name": "ButtonModel",
          "state": {
            "_view_name": "ButtonView",
            "style": "IPY_MODEL_93225f37907f495294d3941194057cb4",
            "_dom_classes": [],
            "description": "Toggle Pandas/Lux",
            "_model_name": "ButtonModel",
            "button_style": "",
            "_view_module": "@jupyter-widgets/controls",
            "_model_module_version": "1.5.0",
            "tooltip": "",
            "_view_count": null,
            "disabled": false,
            "_view_module_version": "1.5.0",
            "layout": "IPY_MODEL_16362bb77b744a1c8deb1b1be1fdd3fc",
            "_model_module": "@jupyter-widgets/controls",
            "icon": ""
          }
        },
        "93225f37907f495294d3941194057cb4": {
          "model_module": "@jupyter-widgets/controls",
          "model_name": "ButtonStyleModel",
          "state": {
            "_view_name": "StyleView",
            "_model_name": "ButtonStyleModel",
            "_view_module": "@jupyter-widgets/base",
            "_model_module_version": "1.5.0",
            "_view_count": null,
            "button_color": null,
            "font_weight": "",
            "_view_module_version": "1.2.0",
            "_model_module": "@jupyter-widgets/controls"
          }
        },
        "16362bb77b744a1c8deb1b1be1fdd3fc": {
          "model_module": "@jupyter-widgets/base",
          "model_name": "LayoutModel",
          "state": {
            "_view_name": "LayoutView",
            "grid_template_rows": null,
            "right": null,
            "justify_content": null,
            "_view_module": "@jupyter-widgets/base",
            "overflow": null,
            "_model_module_version": "1.2.0",
            "_view_count": null,
            "flex_flow": null,
            "width": "140px",
            "min_width": null,
            "border": null,
            "align_items": null,
            "bottom": null,
            "_model_module": "@jupyter-widgets/base",
            "top": "5px",
            "grid_column": null,
            "overflow_y": null,
            "overflow_x": null,
            "grid_auto_flow": null,
            "grid_area": null,
            "grid_template_columns": null,
            "flex": null,
            "_model_name": "LayoutModel",
            "justify_items": null,
            "grid_row": null,
            "max_height": null,
            "align_content": null,
            "visibility": null,
            "align_self": null,
            "height": null,
            "min_height": null,
            "padding": null,
            "grid_auto_rows": null,
            "grid_gap": null,
            "max_width": null,
            "order": null,
            "_view_module_version": "1.2.0",
            "grid_template_areas": null,
            "object_position": null,
            "object_fit": null,
            "grid_auto_columns": null,
            "margin": null,
            "display": null,
            "left": null
          }
        },
        "5f965d4026d14877b2ce894e5473e774": {
          "model_module": "@jupyter-widgets/output",
          "model_name": "OutputModel",
          "state": {
            "_view_name": "OutputView",
            "msg_id": "",
            "_dom_classes": [],
            "_model_name": "OutputModel",
            "outputs": [
              {
                "output_type": "display_data",
                "metadata": {
                  "tags": []
                },
                "text/html": "<div>\n<style scoped>\n    .dataframe tbody tr th:only-of-type {\n        vertical-align: middle;\n    }\n\n    .dataframe tbody tr th {\n        vertical-align: top;\n    }\n\n    .dataframe thead th {\n        text-align: right;\n    }\n</style>\n<table border=\"1\" class=\"dataframe\">\n  <thead>\n    <tr style=\"text-align: right;\">\n      <th></th>\n      <th>Age</th>\n      <th>Attrition</th>\n      <th>BusinessTravel</th>\n      <th>DailyRate</th>\n      <th>Department</th>\n      <th>DistanceFromHome</th>\n      <th>Education</th>\n      <th>EducationField</th>\n      <th>EmployeeCount</th>\n      <th>EmployeeNumber</th>\n      <th>EnvironmentSatisfaction</th>\n      <th>Gender</th>\n      <th>HourlyRate</th>\n      <th>JobInvolvement</th>\n      <th>JobLevel</th>\n      <th>JobRole</th>\n      <th>JobSatisfaction</th>\n      <th>MaritalStatus</th>\n      <th>MonthlyIncome</th>\n      <th>MonthlyRate</th>\n      <th>NumCompaniesWorked</th>\n      <th>Over18</th>\n      <th>OverTime</th>\n      <th>PercentSalaryHike</th>\n      <th>PerformanceRating</th>\n      <th>RelationshipSatisfaction</th>\n      <th>StandardHours</th>\n      <th>StockOptionLevel</th>\n      <th>TotalWorkingYears</th>\n      <th>TrainingTimesLastYear</th>\n      <th>WorkLifeBalance</th>\n      <th>YearsAtCompany</th>\n      <th>YearsInCurrentRole</th>\n      <th>YearsSinceLastPromotion</th>\n      <th>YearsWithCurrManager</th>\n    </tr>\n  </thead>\n  <tbody>\n    <tr>\n      <th>0</th>\n      <td>41</td>\n      <td>Yes</td>\n      <td>Travel_Rarely</td>\n      <td>1102</td>\n      <td>Sales</td>\n      <td>1</td>\n      <td>2</td>\n      <td>Life Sciences</td>\n      <td>1</td>\n      <td>1</td>\n      <td>2</td>\n      <td>Female</td>\n      <td>94</td>\n      <td>3</td>\n      <td>2</td>\n      <td>Sales Executive</td>\n      <td>4</td>\n      <td>Single</td>\n      <td>5993</td>\n      <td>19479</td>\n      <td>8</td>\n      <td>Y</td>\n      <td>Yes</td>\n      <td>11</td>\n      <td>3</td>\n      <td>1</td>\n      <td>80</td>\n      <td>0</td>\n      <td>8</td>\n      <td>0</td>\n      <td>1</td>\n      <td>6</td>\n      <td>4</td>\n      <td>0</td>\n      <td>5</td>\n    </tr>\n    <tr>\n      <th>1</th>\n      <td>49</td>\n      <td>No</td>\n      <td>Travel_Frequently</td>\n      <td>279</td>\n      <td>Research &amp; Development</td>\n      <td>8</td>\n      <td>1</td>\n      <td>Life Sciences</td>\n      <td>1</td>\n      <td>2</td>\n      <td>3</td>\n      <td>Male</td>\n      <td>61</td>\n      <td>2</td>\n      <td>2</td>\n      <td>Research Scientist</td>\n      <td>2</td>\n      <td>Married</td>\n      <td>5130</td>\n      <td>24907</td>\n      <td>1</td>\n      <td>Y</td>\n      <td>No</td>\n      <td>23</td>\n      <td>4</td>\n      <td>4</td>\n      <td>80</td>\n      <td>1</td>\n      <td>10</td>\n      <td>3</td>\n      <td>3</td>\n      <td>10</td>\n      <td>7</td>\n      <td>1</td>\n      <td>7</td>\n    </tr>\n    <tr>\n      <th>2</th>\n      <td>37</td>\n      <td>Yes</td>\n      <td>Travel_Rarely</td>\n      <td>1373</td>\n      <td>Research &amp; Development</td>\n      <td>2</td>\n      <td>2</td>\n      <td>Other</td>\n      <td>1</td>\n      <td>4</td>\n      <td>4</td>\n      <td>Male</td>\n      <td>92</td>\n      <td>2</td>\n      <td>1</td>\n      <td>Laboratory Technician</td>\n      <td>3</td>\n      <td>Single</td>\n      <td>2090</td>\n      <td>2396</td>\n      <td>6</td>\n      <td>Y</td>\n      <td>Yes</td>\n      <td>15</td>\n      <td>3</td>\n      <td>2</td>\n      <td>80</td>\n      <td>0</td>\n      <td>7</td>\n      <td>3</td>\n      <td>3</td>\n      <td>0</td>\n      <td>0</td>\n      <td>0</td>\n      <td>0</td>\n    </tr>\n    <tr>\n      <th>3</th>\n      <td>33</td>\n      <td>No</td>\n      <td>Travel_Frequently</td>\n      <td>1392</td>\n      <td>Research &amp; Development</td>\n      <td>3</td>\n      <td>4</td>\n      <td>Life Sciences</td>\n      <td>1</td>\n      <td>5</td>\n      <td>4</td>\n      <td>Female</td>\n      <td>56</td>\n      <td>3</td>\n      <td>1</td>\n      <td>Research Scientist</td>\n      <td>3</td>\n      <td>Married</td>\n      <td>2909</td>\n      <td>23159</td>\n      <td>1</td>\n      <td>Y</td>\n      <td>Yes</td>\n      <td>11</td>\n      <td>3</td>\n      <td>3</td>\n      <td>80</td>\n      <td>0</td>\n      <td>8</td>\n      <td>3</td>\n      <td>3</td>\n      <td>8</td>\n      <td>7</td>\n      <td>3</td>\n      <td>0</td>\n    </tr>\n    <tr>\n      <th>4</th>\n      <td>27</td>\n      <td>No</td>\n      <td>Travel_Rarely</td>\n      <td>591</td>\n      <td>Research &amp; Development</td>\n      <td>2</td>\n      <td>1</td>\n      <td>Medical</td>\n      <td>1</td>\n      <td>7</td>\n      <td>1</td>\n      <td>Male</td>\n      <td>40</td>\n      <td>3</td>\n      <td>1</td>\n      <td>Laboratory Technician</td>\n      <td>2</td>\n      <td>Married</td>\n      <td>3468</td>\n      <td>16632</td>\n      <td>9</td>\n      <td>Y</td>\n      <td>No</td>\n      <td>12</td>\n      <td>3</td>\n      <td>4</td>\n      <td>80</td>\n      <td>1</td>\n      <td>6</td>\n      <td>3</td>\n      <td>3</td>\n      <td>2</td>\n      <td>2</td>\n      <td>2</td>\n      <td>2</td>\n    </tr>\n    <tr>\n      <th>...</th>\n      <td>...</td>\n      <td>...</td>\n      <td>...</td>\n      <td>...</td>\n      <td>...</td>\n      <td>...</td>\n      <td>...</td>\n      <td>...</td>\n      <td>...</td>\n      <td>...</td>\n      <td>...</td>\n      <td>...</td>\n      <td>...</td>\n      <td>...</td>\n      <td>...</td>\n      <td>...</td>\n      <td>...</td>\n      <td>...</td>\n      <td>...</td>\n      <td>...</td>\n      <td>...</td>\n      <td>...</td>\n      <td>...</td>\n      <td>...</td>\n      <td>...</td>\n      <td>...</td>\n      <td>...</td>\n      <td>...</td>\n      <td>...</td>\n      <td>...</td>\n      <td>...</td>\n      <td>...</td>\n      <td>...</td>\n      <td>...</td>\n      <td>...</td>\n    </tr>\n    <tr>\n      <th>1465</th>\n      <td>36</td>\n      <td>No</td>\n      <td>Travel_Frequently</td>\n      <td>884</td>\n      <td>Research &amp; Development</td>\n      <td>23</td>\n      <td>2</td>\n      <td>Medical</td>\n      <td>1</td>\n      <td>2061</td>\n      <td>3</td>\n      <td>Male</td>\n      <td>41</td>\n      <td>4</td>\n      <td>2</td>\n      <td>Laboratory Technician</td>\n      <td>4</td>\n      <td>Married</td>\n      <td>2571</td>\n      <td>12290</td>\n      <td>4</td>\n      <td>Y</td>\n      <td>No</td>\n      <td>17</td>\n      <td>3</td>\n      <td>3</td>\n      <td>80</td>\n      <td>1</td>\n      <td>17</td>\n      <td>3</td>\n      <td>3</td>\n      <td>5</td>\n      <td>2</td>\n      <td>0</td>\n      <td>3</td>\n    </tr>\n    <tr>\n      <th>1466</th>\n      <td>39</td>\n      <td>No</td>\n      <td>Travel_Rarely</td>\n      <td>613</td>\n      <td>Research &amp; Development</td>\n      <td>6</td>\n      <td>1</td>\n      <td>Medical</td>\n      <td>1</td>\n      <td>2062</td>\n      <td>4</td>\n      <td>Male</td>\n      <td>42</td>\n      <td>2</td>\n      <td>3</td>\n      <td>Healthcare Representative</td>\n      <td>1</td>\n      <td>Married</td>\n      <td>9991</td>\n      <td>21457</td>\n      <td>4</td>\n      <td>Y</td>\n      <td>No</td>\n      <td>15</td>\n      <td>3</td>\n      <td>1</td>\n      <td>80</td>\n      <td>1</td>\n      <td>9</td>\n      <td>5</td>\n      <td>3</td>\n      <td>7</td>\n      <td>7</td>\n      <td>1</td>\n      <td>7</td>\n    </tr>\n    <tr>\n      <th>1467</th>\n      <td>27</td>\n      <td>No</td>\n      <td>Travel_Rarely</td>\n      <td>155</td>\n      <td>Research &amp; Development</td>\n      <td>4</td>\n      <td>3</td>\n      <td>Life Sciences</td>\n      <td>1</td>\n      <td>2064</td>\n      <td>2</td>\n      <td>Male</td>\n      <td>87</td>\n      <td>4</td>\n      <td>2</td>\n      <td>Manufacturing Director</td>\n      <td>2</td>\n      <td>Married</td>\n      <td>6142</td>\n      <td>5174</td>\n      <td>1</td>\n      <td>Y</td>\n      <td>Yes</td>\n      <td>20</td>\n      <td>4</td>\n      <td>2</td>\n      <td>80</td>\n      <td>1</td>\n      <td>6</td>\n      <td>0</td>\n      <td>3</td>\n      <td>6</td>\n      <td>2</td>\n      <td>0</td>\n      <td>3</td>\n    </tr>\n    <tr>\n      <th>1468</th>\n      <td>49</td>\n      <td>No</td>\n      <td>Travel_Frequently</td>\n      <td>1023</td>\n      <td>Sales</td>\n      <td>2</td>\n      <td>3</td>\n      <td>Medical</td>\n      <td>1</td>\n      <td>2065</td>\n      <td>4</td>\n      <td>Male</td>\n      <td>63</td>\n      <td>2</td>\n      <td>2</td>\n      <td>Sales Executive</td>\n      <td>2</td>\n      <td>Married</td>\n      <td>5390</td>\n      <td>13243</td>\n      <td>2</td>\n      <td>Y</td>\n      <td>No</td>\n      <td>14</td>\n      <td>3</td>\n      <td>4</td>\n      <td>80</td>\n      <td>0</td>\n      <td>17</td>\n      <td>3</td>\n      <td>2</td>\n      <td>9</td>\n      <td>6</td>\n      <td>0</td>\n      <td>8</td>\n    </tr>\n    <tr>\n      <th>1469</th>\n      <td>34</td>\n      <td>No</td>\n      <td>Travel_Rarely</td>\n      <td>628</td>\n      <td>Research &amp; Development</td>\n      <td>8</td>\n      <td>3</td>\n      <td>Medical</td>\n      <td>1</td>\n      <td>2068</td>\n      <td>2</td>\n      <td>Male</td>\n      <td>82</td>\n      <td>4</td>\n      <td>2</td>\n      <td>Laboratory Technician</td>\n      <td>3</td>\n      <td>Married</td>\n      <td>4404</td>\n      <td>10228</td>\n      <td>2</td>\n      <td>Y</td>\n      <td>No</td>\n      <td>12</td>\n      <td>3</td>\n      <td>1</td>\n      <td>80</td>\n      <td>0</td>\n      <td>6</td>\n      <td>3</td>\n      <td>4</td>\n      <td>4</td>\n      <td>3</td>\n      <td>1</td>\n      <td>2</td>\n    </tr>\n  </tbody>\n</table>\n<p>1470 rows × 35 columns</p>\n</div>",
                "text/plain": "      Age Attrition  ... YearsSinceLastPromotion  YearsWithCurrManager\n0      41       Yes  ...                       0                     5\n1      49        No  ...                       1                     7\n2      37       Yes  ...                       0                     0\n3      33        No  ...                       3                     0\n4      27        No  ...                       2                     2\n...   ...       ...  ...                     ...                   ...\n1465   36        No  ...                       0                     3\n1466   39        No  ...                       1                     7\n1467   27        No  ...                       0                     3\n1468   49        No  ...                       0                     8\n1469   34        No  ...                       1                     2\n\n[1470 rows x 35 columns]"
              }
            ],
            "_view_module": "@jupyter-widgets/output",
            "_model_module_version": "1.0.0",
            "_view_count": null,
            "_view_module_version": "1.0.0",
            "layout": "IPY_MODEL_cd46ad303b5e47f3bddf4ff50925b94f",
            "_model_module": "@jupyter-widgets/output"
          }
        },
        "cd46ad303b5e47f3bddf4ff50925b94f": {
          "model_module": "@jupyter-widgets/base",
          "model_name": "LayoutModel",
          "state": {
            "_view_name": "LayoutView",
            "grid_template_rows": null,
            "right": null,
            "justify_content": null,
            "_view_module": "@jupyter-widgets/base",
            "overflow": null,
            "_model_module_version": "1.2.0",
            "_view_count": null,
            "flex_flow": null,
            "width": null,
            "min_width": null,
            "border": null,
            "align_items": null,
            "bottom": null,
            "_model_module": "@jupyter-widgets/base",
            "top": null,
            "grid_column": null,
            "overflow_y": null,
            "overflow_x": null,
            "grid_auto_flow": null,
            "grid_area": null,
            "grid_template_columns": null,
            "flex": null,
            "_model_name": "LayoutModel",
            "justify_items": null,
            "grid_row": null,
            "max_height": null,
            "align_content": null,
            "visibility": null,
            "align_self": null,
            "height": null,
            "min_height": null,
            "padding": null,
            "grid_auto_rows": null,
            "grid_gap": null,
            "max_width": null,
            "order": null,
            "_view_module_version": "1.2.0",
            "grid_template_areas": null,
            "object_position": null,
            "object_fit": null,
            "grid_auto_columns": null,
            "margin": null,
            "display": null,
            "left": null
          }
        },
        "dac2d2e7ef0f442e9a54b591809d92ac": {
          "model_module": "@jupyter-widgets/controls",
          "model_name": "ButtonModel",
          "state": {
            "_view_name": "ButtonView",
            "style": "IPY_MODEL_0badfee281624d15b58f56d3528a7dd0",
            "_dom_classes": [],
            "description": "Toggle Pandas/Lux",
            "_model_name": "ButtonModel",
            "button_style": "",
            "_view_module": "@jupyter-widgets/controls",
            "_model_module_version": "1.5.0",
            "tooltip": "",
            "_view_count": null,
            "disabled": false,
            "_view_module_version": "1.5.0",
            "layout": "IPY_MODEL_2bfc25f96b77453e9eca0dc4eb519c53",
            "_model_module": "@jupyter-widgets/controls",
            "icon": ""
          }
        },
        "0badfee281624d15b58f56d3528a7dd0": {
          "model_module": "@jupyter-widgets/controls",
          "model_name": "ButtonStyleModel",
          "state": {
            "_view_name": "StyleView",
            "_model_name": "ButtonStyleModel",
            "_view_module": "@jupyter-widgets/base",
            "_model_module_version": "1.5.0",
            "_view_count": null,
            "button_color": null,
            "font_weight": "",
            "_view_module_version": "1.2.0",
            "_model_module": "@jupyter-widgets/controls"
          }
        },
        "2bfc25f96b77453e9eca0dc4eb519c53": {
          "model_module": "@jupyter-widgets/base",
          "model_name": "LayoutModel",
          "state": {
            "_view_name": "LayoutView",
            "grid_template_rows": null,
            "right": null,
            "justify_content": null,
            "_view_module": "@jupyter-widgets/base",
            "overflow": null,
            "_model_module_version": "1.2.0",
            "_view_count": null,
            "flex_flow": null,
            "width": "140px",
            "min_width": null,
            "border": null,
            "align_items": null,
            "bottom": null,
            "_model_module": "@jupyter-widgets/base",
            "top": "5px",
            "grid_column": null,
            "overflow_y": null,
            "overflow_x": null,
            "grid_auto_flow": null,
            "grid_area": null,
            "grid_template_columns": null,
            "flex": null,
            "_model_name": "LayoutModel",
            "justify_items": null,
            "grid_row": null,
            "max_height": null,
            "align_content": null,
            "visibility": null,
            "align_self": null,
            "height": null,
            "min_height": null,
            "padding": null,
            "grid_auto_rows": null,
            "grid_gap": null,
            "max_width": null,
            "order": null,
            "_view_module_version": "1.2.0",
            "grid_template_areas": null,
            "object_position": null,
            "object_fit": null,
            "grid_auto_columns": null,
            "margin": null,
            "display": null,
            "left": null
          }
        },
        "da355caddfed4321a03bbbc1302f1aa3": {
          "model_module": "@jupyter-widgets/output",
          "model_name": "OutputModel",
          "state": {
            "_view_name": "OutputView",
            "msg_id": "",
            "_dom_classes": [],
            "_model_name": "OutputModel",
            "outputs": [
              {
                "output_type": "stream",
                "metadata": {
                  "tags": []
                },
                "text": "0       0.750000\n1       1.000000\n2       0.000000\n3       1.000000\n4       0.333333\n          ...   \n1465    0.294118\n1466    0.777778\n1467    1.000000\n1468    0.529412\n1469    0.666667\nLength: 1470, dtype: float64\n",
                "stream": "stdout"
              }
            ],
            "_view_module": "@jupyter-widgets/output",
            "_model_module_version": "1.0.0",
            "_view_count": null,
            "_view_module_version": "1.0.0",
            "layout": "IPY_MODEL_ecc598ea7c6046b38bdf54e4d662df16",
            "_model_module": "@jupyter-widgets/output"
          }
        },
        "ecc598ea7c6046b38bdf54e4d662df16": {
          "model_module": "@jupyter-widgets/base",
          "model_name": "LayoutModel",
          "state": {
            "_view_name": "LayoutView",
            "grid_template_rows": null,
            "right": null,
            "justify_content": null,
            "_view_module": "@jupyter-widgets/base",
            "overflow": null,
            "_model_module_version": "1.2.0",
            "_view_count": null,
            "flex_flow": null,
            "width": null,
            "min_width": null,
            "border": null,
            "align_items": null,
            "bottom": null,
            "_model_module": "@jupyter-widgets/base",
            "top": null,
            "grid_column": null,
            "overflow_y": null,
            "overflow_x": null,
            "grid_auto_flow": null,
            "grid_area": null,
            "grid_template_columns": null,
            "flex": null,
            "_model_name": "LayoutModel",
            "justify_items": null,
            "grid_row": null,
            "max_height": null,
            "align_content": null,
            "visibility": null,
            "align_self": null,
            "height": null,
            "min_height": null,
            "padding": null,
            "grid_auto_rows": null,
            "grid_gap": null,
            "max_width": null,
            "order": null,
            "_view_module_version": "1.2.0",
            "grid_template_areas": null,
            "object_position": null,
            "object_fit": null,
            "grid_auto_columns": null,
            "margin": null,
            "display": null,
            "left": null
          }
        },
        "acd4b312d1c14764afa9df9240dd44c5": {
          "model_module": "luxwidget",
          "model_name": "LuxModel",
          "state": {
            "_view_name": "LuxWidgetView",
            "_dom_classes": [],
            "_selectedVisIdxs": {},
            "_model_name": "LuxModel",
            "all_column": false,
            "data": [],
            "selectedIntentIndex": {},
            "_view_module": "luxwidget",
            "_model_module_version": "0.1.6",
            "_view_count": null,
            "deletedIndices": {},
            "plotting_scale": 1,
            "_view_module_version": "0.1.6",
            "intent": "",
            "recommendations": [],
            "layout": "IPY_MODEL_32cc8c9acb4044109edcdb0efc33db9e",
            "message": "",
            "current_vis": {
              "selection": {
                "selector016": {
                  "bind": "scales",
                  "type": "interval",
                  "encodings": [
                    "x",
                    "y"
                  ]
                }
              },
              "encoding": {
                "y": {
                  "field": "Age",
                  "scale": {
                    "domain": [
                      18,
                      60
                    ]
                  },
                  "type": "quantitative",
                  "axis": {
                    "title": "Age"
                  }
                },
                "x": {
                  "field": "%WorkingYearsAtCompany",
                  "scale": {
                    "domain": [
                      0,
                      1
                    ]
                  },
                  "type": "quantitative",
                  "axis": {
                    "title": "%WorkingYearsAtCompany"
                  }
                }
              },
              "config": {
                "mark": {
                  "tooltip": {
                    "content": "encoding"
                  }
                },
                "axis": {
                  "labelFont": "Helvetica Neue",
                  "labelFontSize": 9,
                  "labelColor": "#505050",
                  "titleFont": "Helvetica Neue",
                  "labelFontWeight": 400,
                  "titleFontSize": 11,
                  "titleFontWeight": 500
                },
                "title": {
                  "fontWeight": 500,
                  "font": "Helvetica Neue",
                  "fontSize": 13
                },
                "legend": {
                  "labelFont": "Helvetica Neue",
                  "labelFontSize": 9,
                  "titleFont": "Helvetica Neue",
                  "labelFontWeight": 400,
                  "titleFontSize": 10,
                  "titleFontWeight": 500
                },
                "view": {
                  "continuousWidth": 400,
                  "continuousHeight": 300
                }
              },
              "height": 150,
              "width": 160,
              "datasets": {
                "data-7f82e64c143d6a0043fdc34d23299cbb": [
                  {
                    "%WorkingYearsAtCompany": 0.75,
                    "Age": 41
                  },
                  {
                    "%WorkingYearsAtCompany": 1,
                    "Age": 49
                  },
                  {
                    "%WorkingYearsAtCompany": 0,
                    "Age": 37
                  },
                  {
                    "%WorkingYearsAtCompany": 1,
                    "Age": 33
                  },
                  {
                    "%WorkingYearsAtCompany": 0.3333333333333333,
                    "Age": 27
                  },
                  {
                    "%WorkingYearsAtCompany": 0.875,
                    "Age": 32
                  },
                  {
                    "%WorkingYearsAtCompany": 0.08333333333333333,
                    "Age": 59
                  },
                  {
                    "%WorkingYearsAtCompany": 1,
                    "Age": 30
                  },
                  {
                    "%WorkingYearsAtCompany": 0.9,
                    "Age": 38
                  },
                  {
                    "%WorkingYearsAtCompany": 0.4117647058823529,
                    "Age": 36
                  },
                  {
                    "%WorkingYearsAtCompany": 0.8333333333333334,
                    "Age": 35
                  },
                  {
                    "%WorkingYearsAtCompany": 0.9,
                    "Age": 29
                  },
                  {
                    "%WorkingYearsAtCompany": 1,
                    "Age": 31
                  },
                  {
                    "%WorkingYearsAtCompany": 0.6666666666666666,
                    "Age": 34
                  },
                  {
                    "%WorkingYearsAtCompany": 0.6666666666666666,
                    "Age": 28
                  },
                  {
                    "%WorkingYearsAtCompany": 1,
                    "Age": 29
                  },
                  {
                    "%WorkingYearsAtCompany": 0.8571428571428571,
                    "Age": 32
                  },
                  {
                    "%WorkingYearsAtCompany": 1,
                    "Age": 22
                  },
                  {
                    "%WorkingYearsAtCompany": 0.8064516129032258,
                    "Age": 53
                  },
                  {
                    "%WorkingYearsAtCompany": 0.5,
                    "Age": 38
                  },
                  {
                    "%WorkingYearsAtCompany": 0.8,
                    "Age": 24
                  },
                  {
                    "%WorkingYearsAtCompany": 0.5,
                    "Age": 36
                  },
                  {
                    "%WorkingYearsAtCompany": 0.9230769230769231,
                    "Age": 34
                  },
                  {
                    "%WorkingYearsAtCompany": null,
                    "Age": 21
                  },
                  {
                    "%WorkingYearsAtCompany": 0.5,
                    "Age": 34
                  },
                  {
                    "%WorkingYearsAtCompany": 0.5384615384615384,
                    "Age": 53
                  },
                  {
                    "%WorkingYearsAtCompany": 1,
                    "Age": 32
                  },
                  {
                    "%WorkingYearsAtCompany": 0.9,
                    "Age": 42
                  },
                  {
                    "%WorkingYearsAtCompany": 0.9166666666666666,
                    "Age": 44
                  },
                  {
                    "%WorkingYearsAtCompany": 0.09090909090909091,
                    "Age": 46
                  },
                  {
                    "%WorkingYearsAtCompany": 0.14285714285714285,
                    "Age": 33
                  },
                  {
                    "%WorkingYearsAtCompany": 0.4444444444444444,
                    "Age": 44
                  },
                  {
                    "%WorkingYearsAtCompany": 1,
                    "Age": 30
                  },
                  {
                    "%WorkingYearsAtCompany": 0.05263157894736842,
                    "Age": 39
                  },
                  {
                    "%WorkingYearsAtCompany": 0.3333333333333333,
                    "Age": 24
                  },
                  {
                    "%WorkingYearsAtCompany": 0.8333333333333334,
                    "Age": 43
                  },
                  {
                    "%WorkingYearsAtCompany": 1,
                    "Age": 50
                  },
                  {
                    "%WorkingYearsAtCompany": 1,
                    "Age": 35
                  },
                  {
                    "%WorkingYearsAtCompany": 0.16666666666666666,
                    "Age": 36
                  },
                  {
                    "%WorkingYearsAtCompany": 0.5,
                    "Age": 33
                  },
                  {
                    "%WorkingYearsAtCompany": 1,
                    "Age": 35
                  },
                  {
                    "%WorkingYearsAtCompany": 1,
                    "Age": 27
                  },
                  {
                    "%WorkingYearsAtCompany": 1,
                    "Age": 26
                  },
                  {
                    "%WorkingYearsAtCompany": 1,
                    "Age": 27
                  },
                  {
                    "%WorkingYearsAtCompany": 1,
                    "Age": 30
                  },
                  {
                    "%WorkingYearsAtCompany": 0.9565217391304348,
                    "Age": 41
                  },
                  {
                    "%WorkingYearsAtCompany": 0.9,
                    "Age": 34
                  },
                  {
                    "%WorkingYearsAtCompany": 0.125,
                    "Age": 37
                  },
                  {
                    "%WorkingYearsAtCompany": 0.6428571428571429,
                    "Age": 46
                  },
                  {
                    "%WorkingYearsAtCompany": 1,
                    "Age": 35
                  },
                  {
                    "%WorkingYearsAtCompany": 0.043478260869565216,
                    "Age": 48
                  },
                  {
                    "%WorkingYearsAtCompany": 1,
                    "Age": 28
                  },
                  {
                    "%WorkingYearsAtCompany": 0.4444444444444444,
                    "Age": 44
                  },
                  {
                    "%WorkingYearsAtCompany": 0.4,
                    "Age": 35
                  },
                  {
                    "%WorkingYearsAtCompany": 0.4,
                    "Age": 26
                  },
                  {
                    "%WorkingYearsAtCompany": 1,
                    "Age": 33
                  },
                  {
                    "%WorkingYearsAtCompany": 1,
                    "Age": 35
                  },
                  {
                    "%WorkingYearsAtCompany": 0.5,
                    "Age": 35
                  },
                  {
                    "%WorkingYearsAtCompany": 0.7,
                    "Age": 31
                  },
                  {
                    "%WorkingYearsAtCompany": 1,
                    "Age": 37
                  },
                  {
                    "%WorkingYearsAtCompany": 1,
                    "Age": 32
                  },
                  {
                    "%WorkingYearsAtCompany": 1,
                    "Age": 38
                  },
                  {
                    "%WorkingYearsAtCompany": 0.9310344827586207,
                    "Age": 50
                  },
                  {
                    "%WorkingYearsAtCompany": 0.75,
                    "Age": 59
                  },
                  {
                    "%WorkingYearsAtCompany": 1,
                    "Age": 36
                  },
                  {
                    "%WorkingYearsAtCompany": 0.23809523809523808,
                    "Age": 55
                  },
                  {
                    "%WorkingYearsAtCompany": 1,
                    "Age": 36
                  },
                  {
                    "%WorkingYearsAtCompany": 0.04,
                    "Age": 45
                  },
                  {
                    "%WorkingYearsAtCompany": 0.6,
                    "Age": 35
                  },
                  {
                    "%WorkingYearsAtCompany": 0.5,
                    "Age": 36
                  },
                  {
                    "%WorkingYearsAtCompany": 0.2,
                    "Age": 59
                  },
                  {
                    "%WorkingYearsAtCompany": 0.8333333333333334,
                    "Age": 29
                  },
                  {
                    "%WorkingYearsAtCompany": 1,
                    "Age": 31
                  },
                  {
                    "%WorkingYearsAtCompany": 1,
                    "Age": 32
                  },
                  {
                    "%WorkingYearsAtCompany": 0.2,
                    "Age": 36
                  },
                  {
                    "%WorkingYearsAtCompany": 1,
                    "Age": 31
                  },
                  {
                    "%WorkingYearsAtCompany": 0.9375,
                    "Age": 35
                  },
                  {
                    "%WorkingYearsAtCompany": 0,
                    "Age": 45
                  },
                  {
                    "%WorkingYearsAtCompany": 0.3125,
                    "Age": 37
                  },
                  {
                    "%WorkingYearsAtCompany": 0.25,
                    "Age": 46
                  },
                  {
                    "%WorkingYearsAtCompany": 1,
                    "Age": 30
                  },
                  {
                    "%WorkingYearsAtCompany": 1,
                    "Age": 35
                  },
                  {
                    "%WorkingYearsAtCompany": 0.041666666666666664,
                    "Age": 55
                  },
                  {
                    "%WorkingYearsAtCompany": 0.7647058823529411,
                    "Age": 38
                  },
                  {
                    "%WorkingYearsAtCompany": 1,
                    "Age": 34
                  },
                  {
                    "%WorkingYearsAtCompany": 0.16216216216216217,
                    "Age": 56
                  },
                  {
                    "%WorkingYearsAtCompany": 0,
                    "Age": 23
                  },
                  {
                    "%WorkingYearsAtCompany": 0.4,
                    "Age": 51
                  },
                  {
                    "%WorkingYearsAtCompany": 1,
                    "Age": 30
                  },
                  {
                    "%WorkingYearsAtCompany": 1,
                    "Age": 46
                  },
                  {
                    "%WorkingYearsAtCompany": 1,
                    "Age": 40
                  },
                  {
                    "%WorkingYearsAtCompany": 0.9090909090909091,
                    "Age": 51
                  },
                  {
                    "%WorkingYearsAtCompany": 1,
                    "Age": 30
                  },
                  {
                    "%WorkingYearsAtCompany": 0.47619047619047616,
                    "Age": 46
                  },
                  {
                    "%WorkingYearsAtCompany": 0.9166666666666666,
                    "Age": 32
                  },
                  {
                    "%WorkingYearsAtCompany": 0.25,
                    "Age": 54
                  },
                  {
                    "%WorkingYearsAtCompany": 0.75,
                    "Age": 24
                  },
                  {
                    "%WorkingYearsAtCompany": 1,
                    "Age": 28
                  },
                  {
                    "%WorkingYearsAtCompany": 0.9736842105263158,
                    "Age": 58
                  },
                  {
                    "%WorkingYearsAtCompany": 0.17647058823529413,
                    "Age": 44
                  },
                  {
                    "%WorkingYearsAtCompany": 0.42857142857142855,
                    "Age": 37
                  },
                  {
                    "%WorkingYearsAtCompany": 1,
                    "Age": 32
                  },
                  {
                    "%WorkingYearsAtCompany": 1,
                    "Age": 20
                  },
                  {
                    "%WorkingYearsAtCompany": 1,
                    "Age": 34
                  },
                  {
                    "%WorkingYearsAtCompany": 0.058823529411764705,
                    "Age": 37
                  },
                  {
                    "%WorkingYearsAtCompany": 0.1,
                    "Age": 59
                  },
                  {
                    "%WorkingYearsAtCompany": 0.2857142857142857,
                    "Age": 50
                  },
                  {
                    "%WorkingYearsAtCompany": 1,
                    "Age": 25
                  },
                  {
                    "%WorkingYearsAtCompany": 1,
                    "Age": 25
                  },
                  {
                    "%WorkingYearsAtCompany": 0,
                    "Age": 22
                  },
                  {
                    "%WorkingYearsAtCompany": 0.5652173913043478,
                    "Age": 51
                  },
                  {
                    "%WorkingYearsAtCompany": 1,
                    "Age": 34
                  },
                  {
                    "%WorkingYearsAtCompany": 0.21739130434782608,
                    "Age": 54
                  },
                  {
                    "%WorkingYearsAtCompany": 0.8333333333333334,
                    "Age": 24
                  },
                  {
                    "%WorkingYearsAtCompany": 0.08333333333333333,
                    "Age": 34
                  },
                  {
                    "%WorkingYearsAtCompany": 0.4166666666666667,
                    "Age": 37
                  },
                  {
                    "%WorkingYearsAtCompany": 0.7857142857142857,
                    "Age": 34
                  },
                  {
                    "%WorkingYearsAtCompany": 0.9,
                    "Age": 36
                  },
                  {
                    "%WorkingYearsAtCompany": 0.14285714285714285,
                    "Age": 36
                  },
                  {
                    "%WorkingYearsAtCompany": 1,
                    "Age": 43
                  },
                  {
                    "%WorkingYearsAtCompany": 1,
                    "Age": 30
                  },
                  {
                    "%WorkingYearsAtCompany": 0.875,
                    "Age": 33
                  },
                  {
                    "%WorkingYearsAtCompany": 0.7142857142857143,
                    "Age": 56
                  },
                  {
                    "%WorkingYearsAtCompany": 0.8695652173913043,
                    "Age": 51
                  },
                  {
                    "%WorkingYearsAtCompany": 0.5833333333333334,
                    "Age": 31
                  },
                  {
                    "%WorkingYearsAtCompany": 1,
                    "Age": 26
                  },
                  {
                    "%WorkingYearsAtCompany": 1,
                    "Age": 58
                  },
                  {
                    "%WorkingYearsAtCompany": null,
                    "Age": 19
                  },
                  {
                    "%WorkingYearsAtCompany": 0.6666666666666666,
                    "Age": 22
                  },
                  {
                    "%WorkingYearsAtCompany": 0.9375,
                    "Age": 49
                  },
                  {
                    "%WorkingYearsAtCompany": 0.16666666666666666,
                    "Age": 43
                  },
                  {
                    "%WorkingYearsAtCompany": 0.125,
                    "Age": 50
                  },
                  {
                    "%WorkingYearsAtCompany": 0.5,
                    "Age": 31
                  },
                  {
                    "%WorkingYearsAtCompany": 0.75,
                    "Age": 41
                  },
                  {
                    "%WorkingYearsAtCompany": 1,
                    "Age": 26
                  },
                  {
                    "%WorkingYearsAtCompany": 0.42857142857142855,
                    "Age": 36
                  },
                  {
                    "%WorkingYearsAtCompany": 0.2222222222222222,
                    "Age": 51
                  },
                  {
                    "%WorkingYearsAtCompany": 0.8823529411764706,
                    "Age": 39
                  },
                  {
                    "%WorkingYearsAtCompany": 0.3333333333333333,
                    "Age": 25
                  },
                  {
                    "%WorkingYearsAtCompany": 0.9166666666666666,
                    "Age": 30
                  },
                  {
                    "%WorkingYearsAtCompany": 0.5,
                    "Age": 32
                  },
                  {
                    "%WorkingYearsAtCompany": 0.6666666666666666,
                    "Age": 45
                  },
                  {
                    "%WorkingYearsAtCompany": 0.15789473684210525,
                    "Age": 38
                  },
                  {
                    "%WorkingYearsAtCompany": 1,
                    "Age": 30
                  },
                  {
                    "%WorkingYearsAtCompany": 0.8888888888888888,
                    "Age": 32
                  },
                  {
                    "%WorkingYearsAtCompany": 0.375,
                    "Age": 30
                  },
                  {
                    "%WorkingYearsAtCompany": 0.8333333333333334,
                    "Age": 30
                  },
                  {
                    "%WorkingYearsAtCompany": 0.3333333333333333,
                    "Age": 41
                  },
                  {
                    "%WorkingYearsAtCompany": 0.7142857142857143,
                    "Age": 41
                  },
                  {
                    "%WorkingYearsAtCompany": 1,
                    "Age": 19
                  },
                  {
                    "%WorkingYearsAtCompany": 1,
                    "Age": 40
                  },
                  {
                    "%WorkingYearsAtCompany": 1,
                    "Age": 35
                  },
                  {
                    "%WorkingYearsAtCompany": 0.5384615384615384,
                    "Age": 53
                  },
                  {
                    "%WorkingYearsAtCompany": 0.85,
                    "Age": 45
                  },
                  {
                    "%WorkingYearsAtCompany": 1,
                    "Age": 32
                  },
                  {
                    "%WorkingYearsAtCompany": 1,
                    "Age": 29
                  },
                  {
                    "%WorkingYearsAtCompany": 0.1,
                    "Age": 51
                  },
                  {
                    "%WorkingYearsAtCompany": 0.1111111111111111,
                    "Age": 58
                  },
                  {
                    "%WorkingYearsAtCompany": 0.8,
                    "Age": 40
                  },
                  {
                    "%WorkingYearsAtCompany": 0.6666666666666666,
                    "Age": 34
                  },
                  {
                    "%WorkingYearsAtCompany": 1,
                    "Age": 22
                  },
                  {
                    "%WorkingYearsAtCompany": 0.3333333333333333,
                    "Age": 27
                  },
                  {
                    "%WorkingYearsAtCompany": 1,
                    "Age": 28
                  },
                  {
                    "%WorkingYearsAtCompany": 0.4166666666666667,
                    "Age": 57
                  },
                  {
                    "%WorkingYearsAtCompany": 1,
                    "Age": 27
                  },
                  {
                    "%WorkingYearsAtCompany": 0.23809523809523808,
                    "Age": 50
                  },
                  {
                    "%WorkingYearsAtCompany": 0.6923076923076923,
                    "Age": 41
                  },
                  {
                    "%WorkingYearsAtCompany": 0.8333333333333334,
                    "Age": 30
                  },
                  {
                    "%WorkingYearsAtCompany": 0.6666666666666666,
                    "Age": 38
                  },
                  {
                    "%WorkingYearsAtCompany": 0.625,
                    "Age": 32
                  },
                  {
                    "%WorkingYearsAtCompany": 0.8333333333333334,
                    "Age": 27
                  },
                  {
                    "%WorkingYearsAtCompany": 0,
                    "Age": 19
                  },
                  {
                    "%WorkingYearsAtCompany": 0.6153846153846154,
                    "Age": 36
                  },
                  {
                    "%WorkingYearsAtCompany": 1,
                    "Age": 30
                  },
                  {
                    "%WorkingYearsAtCompany": 0.5555555555555556,
                    "Age": 45
                  },
                  {
                    "%WorkingYearsAtCompany": 0.10526315789473684,
                    "Age": 56
                  },
                  {
                    "%WorkingYearsAtCompany": 0.75,
                    "Age": 33
                  },
                  {
                    "%WorkingYearsAtCompany": 1,
                    "Age": 19
                  },
                  {
                    "%WorkingYearsAtCompany": 1,
                    "Age": 46
                  },
                  {
                    "%WorkingYearsAtCompany": 1,
                    "Age": 38
                  },
                  {
                    "%WorkingYearsAtCompany": 0.5714285714285714,
                    "Age": 31
                  },
                  {
                    "%WorkingYearsAtCompany": 0.3333333333333333,
                    "Age": 34
                  },
                  {
                    "%WorkingYearsAtCompany": 1,
                    "Age": 41
                  },
                  {
                    "%WorkingYearsAtCompany": 0.6,
                    "Age": 50
                  },
                  {
                    "%WorkingYearsAtCompany": 0.8,
                    "Age": 53
                  },
                  {
                    "%WorkingYearsAtCompany": 1,
                    "Age": 33
                  },
                  {
                    "%WorkingYearsAtCompany": 0.9523809523809523,
                    "Age": 40
                  },
                  {
                    "%WorkingYearsAtCompany": 0.6666666666666666,
                    "Age": 55
                  },
                  {
                    "%WorkingYearsAtCompany": 1,
                    "Age": 34
                  },
                  {
                    "%WorkingYearsAtCompany": 0.3333333333333333,
                    "Age": 51
                  },
                  {
                    "%WorkingYearsAtCompany": 0.9705882352941176,
                    "Age": 52
                  },
                  {
                    "%WorkingYearsAtCompany": 1,
                    "Age": 27
                  },
                  {
                    "%WorkingYearsAtCompany": 0.125,
                    "Age": 35
                  },
                  {
                    "%WorkingYearsAtCompany": 0.7142857142857143,
                    "Age": 43
                  },
                  {
                    "%WorkingYearsAtCompany": 0.9090909090909091,
                    "Age": 45
                  },
                  {
                    "%WorkingYearsAtCompany": 1,
                    "Age": 37
                  },
                  {
                    "%WorkingYearsAtCompany": 0.6,
                    "Age": 35
                  },
                  {
                    "%WorkingYearsAtCompany": 0.45454545454545453,
                    "Age": 42
                  },
                  {
                    "%WorkingYearsAtCompany": 0.07142857142857142,
                    "Age": 38
                  },
                  {
                    "%WorkingYearsAtCompany": 0.7777777777777778,
                    "Age": 38
                  },
                  {
                    "%WorkingYearsAtCompany": 0.3333333333333333,
                    "Age": 27
                  },
                  {
                    "%WorkingYearsAtCompany": 1,
                    "Age": 49
                  },
                  {
                    "%WorkingYearsAtCompany": 1,
                    "Age": 34
                  },
                  {
                    "%WorkingYearsAtCompany": 0.4666666666666667,
                    "Age": 40
                  },
                  {
                    "%WorkingYearsAtCompany": 0.058823529411764705,
                    "Age": 38
                  },
                  {
                    "%WorkingYearsAtCompany": 1,
                    "Age": 29
                  },
                  {
                    "%WorkingYearsAtCompany": 1,
                    "Age": 22
                  },
                  {
                    "%WorkingYearsAtCompany": 1,
                    "Age": 36
                  },
                  {
                    "%WorkingYearsAtCompany": 0.6,
                    "Age": 40
                  },
                  {
                    "%WorkingYearsAtCompany": 0.23529411764705882,
                    "Age": 46
                  },
                  {
                    "%WorkingYearsAtCompany": 1,
                    "Age": 32
                  },
                  {
                    "%WorkingYearsAtCompany": 0.9166666666666666,
                    "Age": 30
                  },
                  {
                    "%WorkingYearsAtCompany": 1,
                    "Age": 27
                  },
                  {
                    "%WorkingYearsAtCompany": 0.625,
                    "Age": 51
                  },
                  {
                    "%WorkingYearsAtCompany": 0.625,
                    "Age": 30
                  },
                  {
                    "%WorkingYearsAtCompany": 0.0625,
                    "Age": 41
                  },
                  {
                    "%WorkingYearsAtCompany": 0.6666666666666666,
                    "Age": 30
                  },
                  {
                    "%WorkingYearsAtCompany": 0.8571428571428571,
                    "Age": 29
                  },
                  {
                    "%WorkingYearsAtCompany": 0.8260869565217391,
                    "Age": 45
                  },
                  {
                    "%WorkingYearsAtCompany": 0.375,
                    "Age": 54
                  },
                  {
                    "%WorkingYearsAtCompany": 0.8125,
                    "Age": 36
                  },
                  {
                    "%WorkingYearsAtCompany": 0.42857142857142855,
                    "Age": 33
                  },
                  {
                    "%WorkingYearsAtCompany": 1,
                    "Age": 37
                  },
                  {
                    "%WorkingYearsAtCompany": 0.9411764705882353,
                    "Age": 38
                  },
                  {
                    "%WorkingYearsAtCompany": 0.8333333333333334,
                    "Age": 31
                  },
                  {
                    "%WorkingYearsAtCompany": 0.14285714285714285,
                    "Age": 59
                  },
                  {
                    "%WorkingYearsAtCompany": 0.6923076923076923,
                    "Age": 37
                  },
                  {
                    "%WorkingYearsAtCompany": 1,
                    "Age": 29
                  },
                  {
                    "%WorkingYearsAtCompany": 1,
                    "Age": 35
                  },
                  {
                    "%WorkingYearsAtCompany": 1,
                    "Age": 29
                  },
                  {
                    "%WorkingYearsAtCompany": 0.3333333333333333,
                    "Age": 52
                  },
                  {
                    "%WorkingYearsAtCompany": 1,
                    "Age": 42
                  },
                  {
                    "%WorkingYearsAtCompany": 0.2857142857142857,
                    "Age": 59
                  },
                  {
                    "%WorkingYearsAtCompany": 0.21875,
                    "Age": 50
                  },
                  {
                    "%WorkingYearsAtCompany": 0.625,
                    "Age": 33
                  },
                  {
                    "%WorkingYearsAtCompany": 0.7727272727272727,
                    "Age": 43
                  },
                  {
                    "%WorkingYearsAtCompany": 0.6923076923076923,
                    "Age": 33
                  },
                  {
                    "%WorkingYearsAtCompany": 1,
                    "Age": 52
                  },
                  {
                    "%WorkingYearsAtCompany": 0.6666666666666666,
                    "Age": 32
                  },
                  {
                    "%WorkingYearsAtCompany": 0.75,
                    "Age": 32
                  },
                  {
                    "%WorkingYearsAtCompany": 0.42857142857142855,
                    "Age": 39
                  },
                  {
                    "%WorkingYearsAtCompany": 0.75,
                    "Age": 32
                  },
                  {
                    "%WorkingYearsAtCompany": 0.058823529411764705,
                    "Age": 41
                  },
                  {
                    "%WorkingYearsAtCompany": 1,
                    "Age": 40
                  },
                  {
                    "%WorkingYearsAtCompany": 0.96,
                    "Age": 45
                  },
                  {
                    "%WorkingYearsAtCompany": 0.2222222222222222,
                    "Age": 31
                  },
                  {
                    "%WorkingYearsAtCompany": 1,
                    "Age": 33
                  },
                  {
                    "%WorkingYearsAtCompany": 0.8461538461538461,
                    "Age": 34
                  },
                  {
                    "%WorkingYearsAtCompany": 0.17647058823529413,
                    "Age": 37
                  },
                  {
                    "%WorkingYearsAtCompany": 0.3333333333333333,
                    "Age": 45
                  },
                  {
                    "%WorkingYearsAtCompany": 0.058823529411764705,
                    "Age": 37
                  },
                  {
                    "%WorkingYearsAtCompany": 0.95,
                    "Age": 39
                  },
                  {
                    "%WorkingYearsAtCompany": 1,
                    "Age": 29
                  },
                  {
                    "%WorkingYearsAtCompany": 0.3,
                    "Age": 42
                  },
                  {
                    "%WorkingYearsAtCompany": 0.3,
                    "Age": 29
                  },
                  {
                    "%WorkingYearsAtCompany": 0.8,
                    "Age": 25
                  },
                  {
                    "%WorkingYearsAtCompany": 0.9,
                    "Age": 42
                  },
                  {
                    "%WorkingYearsAtCompany": 0.9545454545454546,
                    "Age": 40
                  },
                  {
                    "%WorkingYearsAtCompany": 1,
                    "Age": 51
                  },
                  {
                    "%WorkingYearsAtCompany": 0.8333333333333334,
                    "Age": 31
                  },
                  {
                    "%WorkingYearsAtCompany": 1,
                    "Age": 32
                  },
                  {
                    "%WorkingYearsAtCompany": 0.6153846153846154,
                    "Age": 38
                  },
                  {
                    "%WorkingYearsAtCompany": 0.6666666666666666,
                    "Age": 32
                  },
                  {
                    "%WorkingYearsAtCompany": 0.25,
                    "Age": 46
                  },
                  {
                    "%WorkingYearsAtCompany": 0,
                    "Age": 28
                  },
                  {
                    "%WorkingYearsAtCompany": 0,
                    "Age": 29
                  },
                  {
                    "%WorkingYearsAtCompany": 0.9,
                    "Age": 31
                  },
                  {
                    "%WorkingYearsAtCompany": 1,
                    "Age": 25
                  },
                  {
                    "%WorkingYearsAtCompany": 0.9523809523809523,
                    "Age": 45
                  },
                  {
                    "%WorkingYearsAtCompany": 0.9375,
                    "Age": 36
                  },
                  {
                    "%WorkingYearsAtCompany": 0.972972972972973,
                    "Age": 55
                  },
                  {
                    "%WorkingYearsAtCompany": 1,
                    "Age": 47
                  },
                  {
                    "%WorkingYearsAtCompany": 1,
                    "Age": 28
                  },
                  {
                    "%WorkingYearsAtCompany": 0.7142857142857143,
                    "Age": 37
                  },
                  {
                    "%WorkingYearsAtCompany": 1,
                    "Age": 21
                  },
                  {
                    "%WorkingYearsAtCompany": 0.3333333333333333,
                    "Age": 37
                  },
                  {
                    "%WorkingYearsAtCompany": 0.7,
                    "Age": 35
                  },
                  {
                    "%WorkingYearsAtCompany": 1,
                    "Age": 38
                  },
                  {
                    "%WorkingYearsAtCompany": 1,
                    "Age": 26
                  },
                  {
                    "%WorkingYearsAtCompany": 0.35714285714285715,
                    "Age": 50
                  },
                  {
                    "%WorkingYearsAtCompany": 0.23809523809523808,
                    "Age": 53
                  },
                  {
                    "%WorkingYearsAtCompany": 1,
                    "Age": 42
                  },
                  {
                    "%WorkingYearsAtCompany": 1,
                    "Age": 29
                  },
                  {
                    "%WorkingYearsAtCompany": 0.8333333333333334,
                    "Age": 55
                  },
                  {
                    "%WorkingYearsAtCompany": 1,
                    "Age": 26
                  },
                  {
                    "%WorkingYearsAtCompany": 1,
                    "Age": 37
                  },
                  {
                    "%WorkingYearsAtCompany": 0.05263157894736842,
                    "Age": 44
                  },
                  {
                    "%WorkingYearsAtCompany": 0.2,
                    "Age": 38
                  },
                  {
                    "%WorkingYearsAtCompany": 0.6,
                    "Age": 26
                  },
                  {
                    "%WorkingYearsAtCompany": 1,
                    "Age": 28
                  },
                  {
                    "%WorkingYearsAtCompany": 0.13636363636363635,
                    "Age": 49
                  },
                  {
                    "%WorkingYearsAtCompany": 0.8,
                    "Age": 36
                  },
                  {
                    "%WorkingYearsAtCompany": 1,
                    "Age": 31
                  },
                  {
                    "%WorkingYearsAtCompany": 1,
                    "Age": 26
                  },
                  {
                    "%WorkingYearsAtCompany": 1,
                    "Age": 37
                  },
                  {
                    "%WorkingYearsAtCompany": 0.8695652173913043,
                    "Age": 42
                  },
                  {
                    "%WorkingYearsAtCompany": null,
                    "Age": 18
                  },
                  {
                    "%WorkingYearsAtCompany": 0.9166666666666666,
                    "Age": 35
                  },
                  {
                    "%WorkingYearsAtCompany": 0.25,
                    "Age": 36
                  },
                  {
                    "%WorkingYearsAtCompany": 0.3076923076923077,
                    "Age": 51
                  },
                  {
                    "%WorkingYearsAtCompany": 1,
                    "Age": 41
                  },
                  {
                    "%WorkingYearsAtCompany": null,
                    "Age": 18
                  },
                  {
                    "%WorkingYearsAtCompany": 0.8888888888888888,
                    "Age": 28
                  },
                  {
                    "%WorkingYearsAtCompany": 0.8,
                    "Age": 31
                  },
                  {
                    "%WorkingYearsAtCompany": 0.9473684210526315,
                    "Age": 39
                  },
                  {
                    "%WorkingYearsAtCompany": 0.8181818181818182,
                    "Age": 36
                  },
                  {
                    "%WorkingYearsAtCompany": 1,
                    "Age": 32
                  },
                  {
                    "%WorkingYearsAtCompany": 0.5263157894736842,
                    "Age": 38
                  },
                  {
                    "%WorkingYearsAtCompany": 0.4166666666666667,
                    "Age": 58
                  },
                  {
                    "%WorkingYearsAtCompany": 0.8333333333333334,
                    "Age": 31
                  },
                  {
                    "%WorkingYearsAtCompany": 0.2222222222222222,
                    "Age": 31
                  },
                  {
                    "%WorkingYearsAtCompany": 1,
                    "Age": 45
                  },
                  {
                    "%WorkingYearsAtCompany": 0.6666666666666666,
                    "Age": 31
                  },
                  {
                    "%WorkingYearsAtCompany": 0.8333333333333334,
                    "Age": 33
                  },
                  {
                    "%WorkingYearsAtCompany": 1,
                    "Age": 39
                  },
                  {
                    "%WorkingYearsAtCompany": 0.8888888888888888,
                    "Age": 43
                  },
                  {
                    "%WorkingYearsAtCompany": 0.28,
                    "Age": 49
                  },
                  {
                    "%WorkingYearsAtCompany": 0.7272727272727273,
                    "Age": 52
                  },
                  {
                    "%WorkingYearsAtCompany": 1,
                    "Age": 27
                  },
                  {
                    "%WorkingYearsAtCompany": 1,
                    "Age": 32
                  },
                  {
                    "%WorkingYearsAtCompany": 1,
                    "Age": 27
                  },
                  {
                    "%WorkingYearsAtCompany": 0.5384615384615384,
                    "Age": 31
                  },
                  {
                    "%WorkingYearsAtCompany": 0.7,
                    "Age": 32
                  },
                  {
                    "%WorkingYearsAtCompany": 0.6,
                    "Age": 28
                  },
                  {
                    "%WorkingYearsAtCompany": 0.9090909090909091,
                    "Age": 30
                  },
                  {
                    "%WorkingYearsAtCompany": 1,
                    "Age": 31
                  },
                  {
                    "%WorkingYearsAtCompany": 1,
                    "Age": 39
                  },
                  {
                    "%WorkingYearsAtCompany": 0.08333333333333333,
                    "Age": 39
                  },
                  {
                    "%WorkingYearsAtCompany": 0.7777777777777778,
                    "Age": 33
                  },
                  {
                    "%WorkingYearsAtCompany": 0.14285714285714285,
                    "Age": 47
                  },
                  {
                    "%WorkingYearsAtCompany": 1,
                    "Age": 43
                  },
                  {
                    "%WorkingYearsAtCompany": 0.8333333333333334,
                    "Age": 27
                  },
                  {
                    "%WorkingYearsAtCompany": 0.2,
                    "Age": 54
                  },
                  {
                    "%WorkingYearsAtCompany": 0.1,
                    "Age": 43
                  },
                  {
                    "%WorkingYearsAtCompany": 0.8333333333333334,
                    "Age": 45
                  },
                  {
                    "%WorkingYearsAtCompany": 0.6666666666666666,
                    "Age": 40
                  },
                  {
                    "%WorkingYearsAtCompany": 1,
                    "Age": 29
                  },
                  {
                    "%WorkingYearsAtCompany": 0.75,
                    "Age": 29
                  },
                  {
                    "%WorkingYearsAtCompany": 1,
                    "Age": 30
                  },
                  {
                    "%WorkingYearsAtCompany": 1,
                    "Age": 27
                  },
                  {
                    "%WorkingYearsAtCompany": 0.75,
                    "Age": 37
                  },
                  {
                    "%WorkingYearsAtCompany": 0.9166666666666666,
                    "Age": 38
                  },
                  {
                    "%WorkingYearsAtCompany": 1,
                    "Age": 31
                  },
                  {
                    "%WorkingYearsAtCompany": 1,
                    "Age": 29
                  },
                  {
                    "%WorkingYearsAtCompany": 0.9411764705882353,
                    "Age": 35
                  },
                  {
                    "%WorkingYearsAtCompany": 1,
                    "Age": 23
                  },
                  {
                    "%WorkingYearsAtCompany": 0.625,
                    "Age": 41
                  },
                  {
                    "%WorkingYearsAtCompany": 0,
                    "Age": 47
                  },
                  {
                    "%WorkingYearsAtCompany": 0.0625,
                    "Age": 42
                  },
                  {
                    "%WorkingYearsAtCompany": 1,
                    "Age": 29
                  },
                  {
                    "%WorkingYearsAtCompany": 0.75,
                    "Age": 42
                  },
                  {
                    "%WorkingYearsAtCompany": 1,
                    "Age": 32
                  },
                  {
                    "%WorkingYearsAtCompany": 0,
                    "Age": 48
                  },
                  {
                    "%WorkingYearsAtCompany": 0.5384615384615384,
                    "Age": 37
                  },
                  {
                    "%WorkingYearsAtCompany": 0.5,
                    "Age": 30
                  },
                  {
                    "%WorkingYearsAtCompany": 1,
                    "Age": 26
                  },
                  {
                    "%WorkingYearsAtCompany": 0.07142857142857142,
                    "Age": 42
                  },
                  {
                    "%WorkingYearsAtCompany": 1,
                    "Age": 21
                  },
                  {
                    "%WorkingYearsAtCompany": 0.14285714285714285,
                    "Age": 36
                  },
                  {
                    "%WorkingYearsAtCompany": 0.8125,
                    "Age": 36
                  },
                  {
                    "%WorkingYearsAtCompany": 0.2,
                    "Age": 57
                  },
                  {
                    "%WorkingYearsAtCompany": 0.7,
                    "Age": 40
                  },
                  {
                    "%WorkingYearsAtCompany": 1,
                    "Age": 21
                  },
                  {
                    "%WorkingYearsAtCompany": 1,
                    "Age": 33
                  },
                  {
                    "%WorkingYearsAtCompany": 0.29411764705882354,
                    "Age": 37
                  },
                  {
                    "%WorkingYearsAtCompany": 0.14285714285714285,
                    "Age": 46
                  },
                  {
                    "%WorkingYearsAtCompany": 1,
                    "Age": 41
                  },
                  {
                    "%WorkingYearsAtCompany": 0.2,
                    "Age": 50
                  },
                  {
                    "%WorkingYearsAtCompany": 0.75,
                    "Age": 40
                  },
                  {
                    "%WorkingYearsAtCompany": 0.6666666666666666,
                    "Age": 31
                  },
                  {
                    "%WorkingYearsAtCompany": 1,
                    "Age": 21
                  },
                  {
                    "%WorkingYearsAtCompany": 0.5,
                    "Age": 29
                  },
                  {
                    "%WorkingYearsAtCompany": 0.1,
                    "Age": 35
                  },
                  {
                    "%WorkingYearsAtCompany": 1,
                    "Age": 27
                  },
                  {
                    "%WorkingYearsAtCompany": 1,
                    "Age": 28
                  },
                  {
                    "%WorkingYearsAtCompany": 0.19230769230769232,
                    "Age": 49
                  },
                  {
                    "%WorkingYearsAtCompany": 0.3888888888888889,
                    "Age": 51
                  },
                  {
                    "%WorkingYearsAtCompany": 0.3333333333333333,
                    "Age": 36
                  },
                  {
                    "%WorkingYearsAtCompany": 0.5555555555555556,
                    "Age": 34
                  },
                  {
                    "%WorkingYearsAtCompany": 0.16666666666666666,
                    "Age": 55
                  },
                  {
                    "%WorkingYearsAtCompany": 1,
                    "Age": 24
                  },
                  {
                    "%WorkingYearsAtCompany": 1,
                    "Age": 30
                  },
                  {
                    "%WorkingYearsAtCompany": 0.8571428571428571,
                    "Age": 26
                  },
                  {
                    "%WorkingYearsAtCompany": 1,
                    "Age": 22
                  },
                  {
                    "%WorkingYearsAtCompany": 1,
                    "Age": 36
                  },
                  {
                    "%WorkingYearsAtCompany": 0.3333333333333333,
                    "Age": 30
                  },
                  {
                    "%WorkingYearsAtCompany": 1,
                    "Age": 37
                  },
                  {
                    "%WorkingYearsAtCompany": 0.625,
                    "Age": 40
                  },
                  {
                    "%WorkingYearsAtCompany": 0.625,
                    "Age": 42
                  },
                  {
                    "%WorkingYearsAtCompany": 0.05555555555555555,
                    "Age": 37
                  },
                  {
                    "%WorkingYearsAtCompany": 1,
                    "Age": 43
                  },
                  {
                    "%WorkingYearsAtCompany": 0.05,
                    "Age": 40
                  },
                  {
                    "%WorkingYearsAtCompany": 0.16666666666666666,
                    "Age": 54
                  },
                  {
                    "%WorkingYearsAtCompany": 0.5,
                    "Age": 34
                  },
                  {
                    "%WorkingYearsAtCompany": 1,
                    "Age": 31
                  },
                  {
                    "%WorkingYearsAtCompany": 0.375,
                    "Age": 43
                  },
                  {
                    "%WorkingYearsAtCompany": 0.625,
                    "Age": 43
                  },
                  {
                    "%WorkingYearsAtCompany": 1,
                    "Age": 25
                  },
                  {
                    "%WorkingYearsAtCompany": 0.8666666666666667,
                    "Age": 37
                  },
                  {
                    "%WorkingYearsAtCompany": 1,
                    "Age": 31
                  },
                  {
                    "%WorkingYearsAtCompany": 1,
                    "Age": 39
                  },
                  {
                    "%WorkingYearsAtCompany": 0.19444444444444445,
                    "Age": 56
                  },
                  {
                    "%WorkingYearsAtCompany": 0.8333333333333334,
                    "Age": 30
                  },
                  {
                    "%WorkingYearsAtCompany": 1,
                    "Age": 41
                  },
                  {
                    "%WorkingYearsAtCompany": 1,
                    "Age": 28
                  },
                  {
                    "%WorkingYearsAtCompany": 0.3333333333333333,
                    "Age": 25
                  },
                  {
                    "%WorkingYearsAtCompany": 0.17857142857142858,
                    "Age": 52
                  },
                  {
                    "%WorkingYearsAtCompany": 0.25,
                    "Age": 45
                  },
                  {
                    "%WorkingYearsAtCompany": 0.16129032258064516,
                    "Age": 52
                  },
                  {
                    "%WorkingYearsAtCompany": 0.2631578947368421,
                    "Age": 42
                  },
                  {
                    "%WorkingYearsAtCompany": 0.45454545454545453,
                    "Age": 30
                  },
                  {
                    "%WorkingYearsAtCompany": 0.8787878787878788,
                    "Age": 60
                  },
                  {
                    "%WorkingYearsAtCompany": 0.5263157894736842,
                    "Age": 46
                  },
                  {
                    "%WorkingYearsAtCompany": 0.8571428571428571,
                    "Age": 42
                  },
                  {
                    "%WorkingYearsAtCompany": 0.8333333333333334,
                    "Age": 24
                  },
                  {
                    "%WorkingYearsAtCompany": 0.6666666666666666,
                    "Age": 34
                  },
                  {
                    "%WorkingYearsAtCompany": 1,
                    "Age": 38
                  },
                  {
                    "%WorkingYearsAtCompany": 0.9523809523809523,
                    "Age": 40
                  },
                  {
                    "%WorkingYearsAtCompany": 1,
                    "Age": 26
                  },
                  {
                    "%WorkingYearsAtCompany": 0.5555555555555556,
                    "Age": 30
                  },
                  {
                    "%WorkingYearsAtCompany": 1,
                    "Age": 29
                  },
                  {
                    "%WorkingYearsAtCompany": 0.3333333333333333,
                    "Age": 29
                  },
                  {
                    "%WorkingYearsAtCompany": 1,
                    "Age": 19
                  },
                  {
                    "%WorkingYearsAtCompany": 0.9,
                    "Age": 30
                  },
                  {
                    "%WorkingYearsAtCompany": 0.03125,
                    "Age": 57
                  },
                  {
                    "%WorkingYearsAtCompany": 0.9642857142857143,
                    "Age": 50
                  },
                  {
                    "%WorkingYearsAtCompany": 0.9166666666666666,
                    "Age": 30
                  },
                  {
                    "%WorkingYearsAtCompany": 0.8181818181818182,
                    "Age": 60
                  },
                  {
                    "%WorkingYearsAtCompany": 0.25,
                    "Age": 47
                  },
                  {
                    "%WorkingYearsAtCompany": 0.11538461538461539,
                    "Age": 46
                  },
                  {
                    "%WorkingYearsAtCompany": 0.8333333333333334,
                    "Age": 35
                  },
                  {
                    "%WorkingYearsAtCompany": 0.05263157894736842,
                    "Age": 54
                  },
                  {
                    "%WorkingYearsAtCompany": 0.5,
                    "Age": 34
                  },
                  {
                    "%WorkingYearsAtCompany": 0.2,
                    "Age": 46
                  },
                  {
                    "%WorkingYearsAtCompany": 1,
                    "Age": 31
                  },
                  {
                    "%WorkingYearsAtCompany": 0.4666666666666667,
                    "Age": 33
                  },
                  {
                    "%WorkingYearsAtCompany": 0.5,
                    "Age": 33
                  },
                  {
                    "%WorkingYearsAtCompany": 0.75,
                    "Age": 30
                  },
                  {
                    "%WorkingYearsAtCompany": 0.8,
                    "Age": 35
                  },
                  {
                    "%WorkingYearsAtCompany": 0.08333333333333333,
                    "Age": 31
                  },
                  {
                    "%WorkingYearsAtCompany": 0.2727272727272727,
                    "Age": 34
                  },
                  {
                    "%WorkingYearsAtCompany": 0.25,
                    "Age": 42
                  },
                  {
                    "%WorkingYearsAtCompany": 1,
                    "Age": 36
                  },
                  {
                    "%WorkingYearsAtCompany": 0.5,
                    "Age": 22
                  },
                  {
                    "%WorkingYearsAtCompany": 0.6428571428571429,
                    "Age": 48
                  },
                  {
                    "%WorkingYearsAtCompany": 0.2702702702702703,
                    "Age": 55
                  },
                  {
                    "%WorkingYearsAtCompany": 0.875,
                    "Age": 41
                  },
                  {
                    "%WorkingYearsAtCompany": 0.7333333333333333,
                    "Age": 35
                  },
                  {
                    "%WorkingYearsAtCompany": 0.9090909090909091,
                    "Age": 40
                  },
                  {
                    "%WorkingYearsAtCompany": 1,
                    "Age": 39
                  },
                  {
                    "%WorkingYearsAtCompany": 0.6,
                    "Age": 31
                  },
                  {
                    "%WorkingYearsAtCompany": 1,
                    "Age": 42
                  },
                  {
                    "%WorkingYearsAtCompany": 0.8888888888888888,
                    "Age": 45
                  },
                  {
                    "%WorkingYearsAtCompany": 0.875,
                    "Age": 26
                  },
                  {
                    "%WorkingYearsAtCompany": 0.375,
                    "Age": 29
                  },
                  {
                    "%WorkingYearsAtCompany": 0.6,
                    "Age": 33
                  },
                  {
                    "%WorkingYearsAtCompany": 0.5,
                    "Age": 31
                  },
                  {
                    "%WorkingYearsAtCompany": null,
                    "Age": 18
                  },
                  {
                    "%WorkingYearsAtCompany": 0.05,
                    "Age": 40
                  },
                  {
                    "%WorkingYearsAtCompany": 0.8,
                    "Age": 41
                  },
                  {
                    "%WorkingYearsAtCompany": 0,
                    "Age": 26
                  },
                  {
                    "%WorkingYearsAtCompany": 1,
                    "Age": 35
                  },
                  {
                    "%WorkingYearsAtCompany": 1,
                    "Age": 34
                  },
                  {
                    "%WorkingYearsAtCompany": 1,
                    "Age": 26
                  },
                  {
                    "%WorkingYearsAtCompany": 0.5,
                    "Age": 37
                  },
                  {
                    "%WorkingYearsAtCompany": 0.07142857142857142,
                    "Age": 46
                  },
                  {
                    "%WorkingYearsAtCompany": 0.8181818181818182,
                    "Age": 41
                  },
                  {
                    "%WorkingYearsAtCompany": 1,
                    "Age": 37
                  },
                  {
                    "%WorkingYearsAtCompany": 0.5555555555555556,
                    "Age": 52
                  },
                  {
                    "%WorkingYearsAtCompany": 0.6666666666666666,
                    "Age": 32
                  },
                  {
                    "%WorkingYearsAtCompany": 0.6666666666666666,
                    "Age": 24
                  },
                  {
                    "%WorkingYearsAtCompany": 0.05555555555555555,
                    "Age": 38
                  },
                  {
                    "%WorkingYearsAtCompany": 0.75,
                    "Age": 37
                  },
                  {
                    "%WorkingYearsAtCompany": 1,
                    "Age": 49
                  },
                  {
                    "%WorkingYearsAtCompany": 1,
                    "Age": 24
                  },
                  {
                    "%WorkingYearsAtCompany": 0.8333333333333334,
                    "Age": 26
                  },
                  {
                    "%WorkingYearsAtCompany": 1,
                    "Age": 24
                  },
                  {
                    "%WorkingYearsAtCompany": 1,
                    "Age": 50
                  },
                  {
                    "%WorkingYearsAtCompany": 1,
                    "Age": 25
                  },
                  {
                    "%WorkingYearsAtCompany": 1,
                    "Age": 24
                  },
                  {
                    "%WorkingYearsAtCompany": 1,
                    "Age": 30
                  },
                  {
                    "%WorkingYearsAtCompany": 1,
                    "Age": 34
                  },
                  {
                    "%WorkingYearsAtCompany": 0.3333333333333333,
                    "Age": 31
                  },
                  {
                    "%WorkingYearsAtCompany": 0.3333333333333333,
                    "Age": 35
                  },
                  {
                    "%WorkingYearsAtCompany": 0.5384615384615384,
                    "Age": 31
                  },
                  {
                    "%WorkingYearsAtCompany": 0.8333333333333334,
                    "Age": 27
                  },
                  {
                    "%WorkingYearsAtCompany": 0.17647058823529413,
                    "Age": 37
                  },
                  {
                    "%WorkingYearsAtCompany": 1,
                    "Age": 20
                  },
                  {
                    "%WorkingYearsAtCompany": 1,
                    "Age": 42
                  },
                  {
                    "%WorkingYearsAtCompany": 0.047619047619047616,
                    "Age": 43
                  },
                  {
                    "%WorkingYearsAtCompany": 0,
                    "Age": 38
                  },
                  {
                    "%WorkingYearsAtCompany": 0.8,
                    "Age": 43
                  },
                  {
                    "%WorkingYearsAtCompany": 0.14285714285714285,
                    "Age": 48
                  },
                  {
                    "%WorkingYearsAtCompany": 0.2,
                    "Age": 44
                  },
                  {
                    "%WorkingYearsAtCompany": 1,
                    "Age": 34
                  },
                  {
                    "%WorkingYearsAtCompany": 0.8,
                    "Age": 27
                  },
                  {
                    "%WorkingYearsAtCompany": 1,
                    "Age": 21
                  },
                  {
                    "%WorkingYearsAtCompany": 0.07692307692307693,
                    "Age": 44
                  },
                  {
                    "%WorkingYearsAtCompany": 0.6666666666666666,
                    "Age": 22
                  },
                  {
                    "%WorkingYearsAtCompany": 0.8333333333333334,
                    "Age": 33
                  },
                  {
                    "%WorkingYearsAtCompany": 1,
                    "Age": 32
                  },
                  {
                    "%WorkingYearsAtCompany": 1,
                    "Age": 30
                  },
                  {
                    "%WorkingYearsAtCompany": 0.7777777777777778,
                    "Age": 53
                  },
                  {
                    "%WorkingYearsAtCompany": 1,
                    "Age": 34
                  },
                  {
                    "%WorkingYearsAtCompany": 0.2,
                    "Age": 45
                  },
                  {
                    "%WorkingYearsAtCompany": 1,
                    "Age": 26
                  },
                  {
                    "%WorkingYearsAtCompany": 1,
                    "Age": 37
                  },
                  {
                    "%WorkingYearsAtCompany": 1,
                    "Age": 29
                  },
                  {
                    "%WorkingYearsAtCompany": 1,
                    "Age": 35
                  },
                  {
                    "%WorkingYearsAtCompany": 0.8666666666666667,
                    "Age": 33
                  },
                  {
                    "%WorkingYearsAtCompany": 0.5625,
                    "Age": 54
                  },
                  {
                    "%WorkingYearsAtCompany": 0.23076923076923078,
                    "Age": 36
                  },
                  {
                    "%WorkingYearsAtCompany": 0.8,
                    "Age": 27
                  },
                  {
                    "%WorkingYearsAtCompany": 1,
                    "Age": 20
                  },
                  {
                    "%WorkingYearsAtCompany": 1,
                    "Age": 33
                  },
                  {
                    "%WorkingYearsAtCompany": 1,
                    "Age": 35
                  },
                  {
                    "%WorkingYearsAtCompany": 0.6,
                    "Age": 23
                  },
                  {
                    "%WorkingYearsAtCompany": 0.75,
                    "Age": 25
                  },
                  {
                    "%WorkingYearsAtCompany": 0.875,
                    "Age": 38
                  },
                  {
                    "%WorkingYearsAtCompany": 1,
                    "Age": 29
                  },
                  {
                    "%WorkingYearsAtCompany": 0.16666666666666666,
                    "Age": 48
                  },
                  {
                    "%WorkingYearsAtCompany": 1,
                    "Age": 27
                  },
                  {
                    "%WorkingYearsAtCompany": 0.25,
                    "Age": 37
                  },
                  {
                    "%WorkingYearsAtCompany": 1,
                    "Age": 50
                  },
                  {
                    "%WorkingYearsAtCompany": 0.8888888888888888,
                    "Age": 34
                  },
                  {
                    "%WorkingYearsAtCompany": 0.5,
                    "Age": 24
                  },
                  {
                    "%WorkingYearsAtCompany": 1,
                    "Age": 39
                  },
                  {
                    "%WorkingYearsAtCompany": 1,
                    "Age": 32
                  },
                  {
                    "%WorkingYearsAtCompany": 0.2222222222222222,
                    "Age": 50
                  },
                  {
                    "%WorkingYearsAtCompany": 0.9,
                    "Age": 38
                  },
                  {
                    "%WorkingYearsAtCompany": 1,
                    "Age": 27
                  },
                  {
                    "%WorkingYearsAtCompany": 0.7,
                    "Age": 32
                  },
                  {
                    "%WorkingYearsAtCompany": 0.35,
                    "Age": 47
                  },
                  {
                    "%WorkingYearsAtCompany": 0.9,
                    "Age": 40
                  },
                  {
                    "%WorkingYearsAtCompany": 0.15625,
                    "Age": 53
                  },
                  {
                    "%WorkingYearsAtCompany": 0.9130434782608695,
                    "Age": 41
                  },
                  {
                    "%WorkingYearsAtCompany": 0.2,
                    "Age": 60
                  },
                  {
                    "%WorkingYearsAtCompany": 1,
                    "Age": 27
                  },
                  {
                    "%WorkingYearsAtCompany": 1,
                    "Age": 41
                  },
                  {
                    "%WorkingYearsAtCompany": 0.5,
                    "Age": 50
                  },
                  {
                    "%WorkingYearsAtCompany": 0.7,
                    "Age": 28
                  },
                  {
                    "%WorkingYearsAtCompany": 0.8,
                    "Age": 36
                  },
                  {
                    "%WorkingYearsAtCompany": 0.1,
                    "Age": 38
                  },
                  {
                    "%WorkingYearsAtCompany": 0.5555555555555556,
                    "Age": 44
                  },
                  {
                    "%WorkingYearsAtCompany": 0.7857142857142857,
                    "Age": 47
                  },
                  {
                    "%WorkingYearsAtCompany": 0.8,
                    "Age": 30
                  },
                  {
                    "%WorkingYearsAtCompany": 1,
                    "Age": 29
                  },
                  {
                    "%WorkingYearsAtCompany": 0.2857142857142857,
                    "Age": 42
                  },
                  {
                    "%WorkingYearsAtCompany": 0.2857142857142857,
                    "Age": 43
                  },
                  {
                    "%WorkingYearsAtCompany": 0.5,
                    "Age": 34
                  },
                  {
                    "%WorkingYearsAtCompany": 0.8,
                    "Age": 23
                  },
                  {
                    "%WorkingYearsAtCompany": 0.6666666666666666,
                    "Age": 39
                  },
                  {
                    "%WorkingYearsAtCompany": 0.3333333333333333,
                    "Age": 56
                  },
                  {
                    "%WorkingYearsAtCompany": 0.8,
                    "Age": 40
                  },
                  {
                    "%WorkingYearsAtCompany": 0.7777777777777778,
                    "Age": 27
                  },
                  {
                    "%WorkingYearsAtCompany": 1,
                    "Age": 29
                  },
                  {
                    "%WorkingYearsAtCompany": 0.10526315789473684,
                    "Age": 53
                  },
                  {
                    "%WorkingYearsAtCompany": 0.0625,
                    "Age": 35
                  },
                  {
                    "%WorkingYearsAtCompany": 1,
                    "Age": 32
                  },
                  {
                    "%WorkingYearsAtCompany": 0.16666666666666666,
                    "Age": 38
                  },
                  {
                    "%WorkingYearsAtCompany": 0,
                    "Age": 34
                  },
                  {
                    "%WorkingYearsAtCompany": 1,
                    "Age": 52
                  },
                  {
                    "%WorkingYearsAtCompany": 1,
                    "Age": 33
                  },
                  {
                    "%WorkingYearsAtCompany": 1,
                    "Age": 25
                  },
                  {
                    "%WorkingYearsAtCompany": 0.8888888888888888,
                    "Age": 45
                  },
                  {
                    "%WorkingYearsAtCompany": 1,
                    "Age": 23
                  },
                  {
                    "%WorkingYearsAtCompany": 0.625,
                    "Age": 47
                  },
                  {
                    "%WorkingYearsAtCompany": 1,
                    "Age": 34
                  },
                  {
                    "%WorkingYearsAtCompany": 0.20833333333333334,
                    "Age": 55
                  },
                  {
                    "%WorkingYearsAtCompany": 1,
                    "Age": 36
                  },
                  {
                    "%WorkingYearsAtCompany": 0.8,
                    "Age": 52
                  },
                  {
                    "%WorkingYearsAtCompany": 0.4,
                    "Age": 26
                  },
                  {
                    "%WorkingYearsAtCompany": 0.7272727272727273,
                    "Age": 29
                  },
                  {
                    "%WorkingYearsAtCompany": 0.6666666666666666,
                    "Age": 26
                  },
                  {
                    "%WorkingYearsAtCompany": 0.4,
                    "Age": 34
                  },
                  {
                    "%WorkingYearsAtCompany": 0.5555555555555556,
                    "Age": 54
                  },
                  {
                    "%WorkingYearsAtCompany": 0.8,
                    "Age": 27
                  },
                  {
                    "%WorkingYearsAtCompany": 0.8333333333333334,
                    "Age": 37
                  },
                  {
                    "%WorkingYearsAtCompany": 0.8823529411764706,
                    "Age": 38
                  },
                  {
                    "%WorkingYearsAtCompany": 1,
                    "Age": 34
                  },
                  {
                    "%WorkingYearsAtCompany": 1,
                    "Age": 35
                  },
                  {
                    "%WorkingYearsAtCompany": 0.2857142857142857,
                    "Age": 30
                  },
                  {
                    "%WorkingYearsAtCompany": 1,
                    "Age": 40
                  },
                  {
                    "%WorkingYearsAtCompany": 0.5,
                    "Age": 34
                  },
                  {
                    "%WorkingYearsAtCompany": 1,
                    "Age": 42
                  },
                  {
                    "%WorkingYearsAtCompany": 0,
                    "Age": 23
                  },
                  {
                    "%WorkingYearsAtCompany": 1,
                    "Age": 24
                  },
                  {
                    "%WorkingYearsAtCompany": 0.5555555555555556,
                    "Age": 52
                  },
                  {
                    "%WorkingYearsAtCompany": 0.13333333333333333,
                    "Age": 50
                  },
                  {
                    "%WorkingYearsAtCompany": 1,
                    "Age": 29
                  },
                  {
                    "%WorkingYearsAtCompany": 0.9285714285714286,
                    "Age": 33
                  },
                  {
                    "%WorkingYearsAtCompany": 0.5,
                    "Age": 33
                  },
                  {
                    "%WorkingYearsAtCompany": 1,
                    "Age": 47
                  },
                  {
                    "%WorkingYearsAtCompany": 0.9,
                    "Age": 36
                  },
                  {
                    "%WorkingYearsAtCompany": 1,
                    "Age": 29
                  },
                  {
                    "%WorkingYearsAtCompany": 0.775,
                    "Age": 58
                  },
                  {
                    "%WorkingYearsAtCompany": 0.2857142857142857,
                    "Age": 35
                  },
                  {
                    "%WorkingYearsAtCompany": 0.5,
                    "Age": 42
                  },
                  {
                    "%WorkingYearsAtCompany": 0.4,
                    "Age": 28
                  },
                  {
                    "%WorkingYearsAtCompany": 0.625,
                    "Age": 36
                  },
                  {
                    "%WorkingYearsAtCompany": 1,
                    "Age": 32
                  },
                  {
                    "%WorkingYearsAtCompany": 0.1,
                    "Age": 40
                  },
                  {
                    "%WorkingYearsAtCompany": 0,
                    "Age": 30
                  },
                  {
                    "%WorkingYearsAtCompany": 1,
                    "Age": 45
                  },
                  {
                    "%WorkingYearsAtCompany": 0.9,
                    "Age": 42
                  },
                  {
                    "%WorkingYearsAtCompany": 0.3076923076923077,
                    "Age": 38
                  },
                  {
                    "%WorkingYearsAtCompany": 0.8333333333333334,
                    "Age": 34
                  },
                  {
                    "%WorkingYearsAtCompany": 1,
                    "Age": 49
                  },
                  {
                    "%WorkingYearsAtCompany": 0.75,
                    "Age": 55
                  },
                  {
                    "%WorkingYearsAtCompany": 0.18181818181818182,
                    "Age": 43
                  },
                  {
                    "%WorkingYearsAtCompany": 1,
                    "Age": 27
                  },
                  {
                    "%WorkingYearsAtCompany": 0.47058823529411764,
                    "Age": 35
                  },
                  {
                    "%WorkingYearsAtCompany": 1,
                    "Age": 28
                  },
                  {
                    "%WorkingYearsAtCompany": 0.75,
                    "Age": 34
                  },
                  {
                    "%WorkingYearsAtCompany": 1,
                    "Age": 26
                  },
                  {
                    "%WorkingYearsAtCompany": null,
                    "Age": 27
                  },
                  {
                    "%WorkingYearsAtCompany": 0.6896551724137931,
                    "Age": 51
                  },
                  {
                    "%WorkingYearsAtCompany": 0.5,
                    "Age": 44
                  },
                  {
                    "%WorkingYearsAtCompany": 0.6666666666666666,
                    "Age": 25
                  },
                  {
                    "%WorkingYearsAtCompany": 1,
                    "Age": 33
                  },
                  {
                    "%WorkingYearsAtCompany": 1,
                    "Age": 35
                  },
                  {
                    "%WorkingYearsAtCompany": 1,
                    "Age": 36
                  },
                  {
                    "%WorkingYearsAtCompany": 0.625,
                    "Age": 32
                  },
                  {
                    "%WorkingYearsAtCompany": 0.5,
                    "Age": 30
                  },
                  {
                    "%WorkingYearsAtCompany": 0.14285714285714285,
                    "Age": 53
                  },
                  {
                    "%WorkingYearsAtCompany": 0.2777777777777778,
                    "Age": 45
                  },
                  {
                    "%WorkingYearsAtCompany": 0.5555555555555556,
                    "Age": 32
                  },
                  {
                    "%WorkingYearsAtCompany": 0.2903225806451613,
                    "Age": 52
                  },
                  {
                    "%WorkingYearsAtCompany": 0.1111111111111111,
                    "Age": 37
                  },
                  {
                    "%WorkingYearsAtCompany": 0.8333333333333334,
                    "Age": 28
                  },
                  {
                    "%WorkingYearsAtCompany": 0.5,
                    "Age": 22
                  },
                  {
                    "%WorkingYearsAtCompany": 0.3,
                    "Age": 44
                  },
                  {
                    "%WorkingYearsAtCompany": 0.25,
                    "Age": 42
                  },
                  {
                    "%WorkingYearsAtCompany": 0.8333333333333334,
                    "Age": 36
                  },
                  {
                    "%WorkingYearsAtCompany": 1,
                    "Age": 25
                  },
                  {
                    "%WorkingYearsAtCompany": 1,
                    "Age": 35
                  },
                  {
                    "%WorkingYearsAtCompany": 1,
                    "Age": 35
                  },
                  {
                    "%WorkingYearsAtCompany": 0.75,
                    "Age": 32
                  },
                  {
                    "%WorkingYearsAtCompany": 1,
                    "Age": 25
                  },
                  {
                    "%WorkingYearsAtCompany": 0.5714285714285714,
                    "Age": 49
                  },
                  {
                    "%WorkingYearsAtCompany": 0.8333333333333334,
                    "Age": 24
                  },
                  {
                    "%WorkingYearsAtCompany": 1,
                    "Age": 32
                  },
                  {
                    "%WorkingYearsAtCompany": 0.6666666666666666,
                    "Age": 38
                  },
                  {
                    "%WorkingYearsAtCompany": 0.29411764705882354,
                    "Age": 42
                  },
                  {
                    "%WorkingYearsAtCompany": 0.75,
                    "Age": 31
                  },
                  {
                    "%WorkingYearsAtCompany": 0.6,
                    "Age": 29
                  },
                  {
                    "%WorkingYearsAtCompany": 0.07142857142857142,
                    "Age": 53
                  },
                  {
                    "%WorkingYearsAtCompany": 0.8125,
                    "Age": 35
                  },
                  {
                    "%WorkingYearsAtCompany": 0.5,
                    "Age": 37
                  },
                  {
                    "%WorkingYearsAtCompany": 0.36363636363636365,
                    "Age": 53
                  },
                  {
                    "%WorkingYearsAtCompany": 0.4166666666666667,
                    "Age": 43
                  },
                  {
                    "%WorkingYearsAtCompany": 0.875,
                    "Age": 47
                  },
                  {
                    "%WorkingYearsAtCompany": 1,
                    "Age": 37
                  },
                  {
                    "%WorkingYearsAtCompany": 1,
                    "Age": 50
                  },
                  {
                    "%WorkingYearsAtCompany": 0.38461538461538464,
                    "Age": 39
                  },
                  {
                    "%WorkingYearsAtCompany": 0.5714285714285714,
                    "Age": 33
                  },
                  {
                    "%WorkingYearsAtCompany": 1,
                    "Age": 32
                  },
                  {
                    "%WorkingYearsAtCompany": 0.5,
                    "Age": 29
                  },
                  {
                    "%WorkingYearsAtCompany": 1,
                    "Age": 44
                  },
                  {
                    "%WorkingYearsAtCompany": 1,
                    "Age": 28
                  },
                  {
                    "%WorkingYearsAtCompany": 0.3333333333333333,
                    "Age": 58
                  },
                  {
                    "%WorkingYearsAtCompany": 0.25,
                    "Age": 43
                  },
                  {
                    "%WorkingYearsAtCompany": 1,
                    "Age": 20
                  },
                  {
                    "%WorkingYearsAtCompany": 1,
                    "Age": 21
                  },
                  {
                    "%WorkingYearsAtCompany": 0.9411764705882353,
                    "Age": 36
                  },
                  {
                    "%WorkingYearsAtCompany": 1,
                    "Age": 47
                  },
                  {
                    "%WorkingYearsAtCompany": 0.75,
                    "Age": 22
                  },
                  {
                    "%WorkingYearsAtCompany": 0.7,
                    "Age": 41
                  },
                  {
                    "%WorkingYearsAtCompany": 0.3333333333333333,
                    "Age": 28
                  },
                  {
                    "%WorkingYearsAtCompany": 0.25,
                    "Age": 39
                  },
                  {
                    "%WorkingYearsAtCompany": 1,
                    "Age": 27
                  },
                  {
                    "%WorkingYearsAtCompany": 1,
                    "Age": 34
                  },
                  {
                    "%WorkingYearsAtCompany": 0.5,
                    "Age": 42
                  },
                  {
                    "%WorkingYearsAtCompany": 0.5,
                    "Age": 33
                  },
                  {
                    "%WorkingYearsAtCompany": 0.25,
                    "Age": 58
                  },
                  {
                    "%WorkingYearsAtCompany": 0.5384615384615384,
                    "Age": 31
                  },
                  {
                    "%WorkingYearsAtCompany": 1,
                    "Age": 35
                  },
                  {
                    "%WorkingYearsAtCompany": 0.896551724137931,
                    "Age": 49
                  },
                  {
                    "%WorkingYearsAtCompany": 0,
                    "Age": 48
                  },
                  {
                    "%WorkingYearsAtCompany": 1,
                    "Age": 31
                  },
                  {
                    "%WorkingYearsAtCompany": 0.75,
                    "Age": 36
                  },
                  {
                    "%WorkingYearsAtCompany": 1,
                    "Age": 38
                  },
                  {
                    "%WorkingYearsAtCompany": 0.6,
                    "Age": 32
                  },
                  {
                    "%WorkingYearsAtCompany": 1,
                    "Age": 25
                  },
                  {
                    "%WorkingYearsAtCompany": 0.09090909090909091,
                    "Age": 40
                  },
                  {
                    "%WorkingYearsAtCompany": 1,
                    "Age": 26
                  },
                  {
                    "%WorkingYearsAtCompany": 0.9,
                    "Age": 41
                  },
                  {
                    "%WorkingYearsAtCompany": 0.6875,
                    "Age": 36
                  },
                  {
                    "%WorkingYearsAtCompany": 1,
                    "Age": 19
                  },
                  {
                    "%WorkingYearsAtCompany": 1,
                    "Age": 20
                  },
                  {
                    "%WorkingYearsAtCompany": 0.9,
                    "Age": 31
                  },
                  {
                    "%WorkingYearsAtCompany": 0.3333333333333333,
                    "Age": 40
                  },
                  {
                    "%WorkingYearsAtCompany": 1,
                    "Age": 32
                  },
                  {
                    "%WorkingYearsAtCompany": 1,
                    "Age": 36
                  },
                  {
                    "%WorkingYearsAtCompany": 0.8333333333333334,
                    "Age": 33
                  },
                  {
                    "%WorkingYearsAtCompany": 0.8235294117647058,
                    "Age": 37
                  },
                  {
                    "%WorkingYearsAtCompany": 1,
                    "Age": 45
                  },
                  {
                    "%WorkingYearsAtCompany": 1,
                    "Age": 29
                  },
                  {
                    "%WorkingYearsAtCompany": 1,
                    "Age": 35
                  },
                  {
                    "%WorkingYearsAtCompany": 0.34615384615384615,
                    "Age": 52
                  },
                  {
                    "%WorkingYearsAtCompany": 0.14285714285714285,
                    "Age": 58
                  },
                  {
                    "%WorkingYearsAtCompany": 0.7727272727272727,
                    "Age": 53
                  },
                  {
                    "%WorkingYearsAtCompany": 0.8,
                    "Age": 30
                  },
                  {
                    "%WorkingYearsAtCompany": 0.8333333333333334,
                    "Age": 38
                  },
                  {
                    "%WorkingYearsAtCompany": 0.8333333333333334,
                    "Age": 35
                  },
                  {
                    "%WorkingYearsAtCompany": 0.8888888888888888,
                    "Age": 39
                  },
                  {
                    "%WorkingYearsAtCompany": 0.045454545454545456,
                    "Age": 40
                  },
                  {
                    "%WorkingYearsAtCompany": 0.95,
                    "Age": 47
                  },
                  {
                    "%WorkingYearsAtCompany": 0.5833333333333334,
                    "Age": 36
                  },
                  {
                    "%WorkingYearsAtCompany": 0.75,
                    "Age": 31
                  },
                  {
                    "%WorkingYearsAtCompany": 1,
                    "Age": 33
                  },
                  {
                    "%WorkingYearsAtCompany": 0,
                    "Age": 29
                  },
                  {
                    "%WorkingYearsAtCompany": 0.6,
                    "Age": 33
                  },
                  {
                    "%WorkingYearsAtCompany": 0.625,
                    "Age": 45
                  },
                  {
                    "%WorkingYearsAtCompany": 0.15625,
                    "Age": 50
                  },
                  {
                    "%WorkingYearsAtCompany": 1,
                    "Age": 33
                  },
                  {
                    "%WorkingYearsAtCompany": 0.8571428571428571,
                    "Age": 41
                  },
                  {
                    "%WorkingYearsAtCompany": 0.5,
                    "Age": 27
                  },
                  {
                    "%WorkingYearsAtCompany": 1,
                    "Age": 45
                  },
                  {
                    "%WorkingYearsAtCompany": 1,
                    "Age": 47
                  },
                  {
                    "%WorkingYearsAtCompany": 0.7142857142857143,
                    "Age": 30
                  },
                  {
                    "%WorkingYearsAtCompany": 0.5454545454545454,
                    "Age": 50
                  },
                  {
                    "%WorkingYearsAtCompany": 0.6666666666666666,
                    "Age": 38
                  },
                  {
                    "%WorkingYearsAtCompany": 0.6153846153846154,
                    "Age": 46
                  },
                  {
                    "%WorkingYearsAtCompany": 0.8,
                    "Age": 24
                  },
                  {
                    "%WorkingYearsAtCompany": 0.8,
                    "Age": 35
                  },
                  {
                    "%WorkingYearsAtCompany": 1,
                    "Age": 31
                  },
                  {
                    "%WorkingYearsAtCompany": null,
                    "Age": 18
                  },
                  {
                    "%WorkingYearsAtCompany": 0.45454545454545453,
                    "Age": 54
                  },
                  {
                    "%WorkingYearsAtCompany": 1,
                    "Age": 35
                  },
                  {
                    "%WorkingYearsAtCompany": 0.8888888888888888,
                    "Age": 30
                  },
                  {
                    "%WorkingYearsAtCompany": 1,
                    "Age": 20
                  },
                  {
                    "%WorkingYearsAtCompany": 0.75,
                    "Age": 30
                  },
                  {
                    "%WorkingYearsAtCompany": 1,
                    "Age": 26
                  },
                  {
                    "%WorkingYearsAtCompany": 1,
                    "Age": 22
                  },
                  {
                    "%WorkingYearsAtCompany": 0.10526315789473684,
                    "Age": 48
                  },
                  {
                    "%WorkingYearsAtCompany": 0.5555555555555556,
                    "Age": 48
                  },
                  {
                    "%WorkingYearsAtCompany": 0.25,
                    "Age": 41
                  },
                  {
                    "%WorkingYearsAtCompany": 1,
                    "Age": 39
                  },
                  {
                    "%WorkingYearsAtCompany": 0.75,
                    "Age": 27
                  },
                  {
                    "%WorkingYearsAtCompany": 1,
                    "Age": 35
                  },
                  {
                    "%WorkingYearsAtCompany": 0.047619047619047616,
                    "Age": 42
                  },
                  {
                    "%WorkingYearsAtCompany": 0.125,
                    "Age": 50
                  },
                  {
                    "%WorkingYearsAtCompany": 0.16666666666666666,
                    "Age": 59
                  },
                  {
                    "%WorkingYearsAtCompany": 0.06666666666666667,
                    "Age": 37
                  },
                  {
                    "%WorkingYearsAtCompany": 0.47058823529411764,
                    "Age": 55
                  },
                  {
                    "%WorkingYearsAtCompany": 1,
                    "Age": 41
                  },
                  {
                    "%WorkingYearsAtCompany": 0.05263157894736842,
                    "Age": 38
                  },
                  {
                    "%WorkingYearsAtCompany": 0.2857142857142857,
                    "Age": 26
                  },
                  {
                    "%WorkingYearsAtCompany": 0.9696969696969697,
                    "Age": 52
                  },
                  {
                    "%WorkingYearsAtCompany": 0.5217391304347826,
                    "Age": 44
                  },
                  {
                    "%WorkingYearsAtCompany": 0.9473684210526315,
                    "Age": 50
                  },
                  {
                    "%WorkingYearsAtCompany": 0.9444444444444444,
                    "Age": 36
                  },
                  {
                    "%WorkingYearsAtCompany": 1,
                    "Age": 39
                  },
                  {
                    "%WorkingYearsAtCompany": 0.6666666666666666,
                    "Age": 33
                  },
                  {
                    "%WorkingYearsAtCompany": 0.34615384615384615,
                    "Age": 45
                  },
                  {
                    "%WorkingYearsAtCompany": 0.8,
                    "Age": 32
                  },
                  {
                    "%WorkingYearsAtCompany": 0.9375,
                    "Age": 34
                  },
                  {
                    "%WorkingYearsAtCompany": 0.42857142857142855,
                    "Age": 59
                  },
                  {
                    "%WorkingYearsAtCompany": 1,
                    "Age": 45
                  },
                  {
                    "%WorkingYearsAtCompany": 0.5,
                    "Age": 53
                  },
                  {
                    "%WorkingYearsAtCompany": 0.1111111111111111,
                    "Age": 36
                  },
                  {
                    "%WorkingYearsAtCompany": 0.5,
                    "Age": 26
                  },
                  {
                    "%WorkingYearsAtCompany": 1,
                    "Age": 34
                  },
                  {
                    "%WorkingYearsAtCompany": 1,
                    "Age": 28
                  },
                  {
                    "%WorkingYearsAtCompany": 0.25,
                    "Age": 38
                  },
                  {
                    "%WorkingYearsAtCompany": 0.27586206896551724,
                    "Age": 50
                  },
                  {
                    "%WorkingYearsAtCompany": 0.5,
                    "Age": 37
                  },
                  {
                    "%WorkingYearsAtCompany": 0.875,
                    "Age": 40
                  },
                  {
                    "%WorkingYearsAtCompany": 1,
                    "Age": 26
                  },
                  {
                    "%WorkingYearsAtCompany": 0.08695652173913043,
                    "Age": 46
                  },
                  {
                    "%WorkingYearsAtCompany": 0.6923076923076923,
                    "Age": 54
                  },
                  {
                    "%WorkingYearsAtCompany": 0.2777777777777778,
                    "Age": 56
                  },
                  {
                    "%WorkingYearsAtCompany": 0.9333333333333333,
                    "Age": 36
                  },
                  {
                    "%WorkingYearsAtCompany": 0.2903225806451613,
                    "Age": 55
                  },
                  {
                    "%WorkingYearsAtCompany": 0.05555555555555555,
                    "Age": 43
                  },
                  {
                    "%WorkingYearsAtCompany": 1,
                    "Age": 20
                  },
                  {
                    "%WorkingYearsAtCompany": 1,
                    "Age": 21
                  },
                  {
                    "%WorkingYearsAtCompany": 0.8421052631578947,
                    "Age": 46
                  },
                  {
                    "%WorkingYearsAtCompany": 0.5555555555555556,
                    "Age": 51
                  },
                  {
                    "%WorkingYearsAtCompany": 1,
                    "Age": 28
                  },
                  {
                    "%WorkingYearsAtCompany": 0.8333333333333334,
                    "Age": 26
                  },
                  {
                    "%WorkingYearsAtCompany": 0.8571428571428571,
                    "Age": 30
                  },
                  {
                    "%WorkingYearsAtCompany": 1,
                    "Age": 41
                  },
                  {
                    "%WorkingYearsAtCompany": 0.95,
                    "Age": 38
                  },
                  {
                    "%WorkingYearsAtCompany": 0.7857142857142857,
                    "Age": 40
                  },
                  {
                    "%WorkingYearsAtCompany": 1,
                    "Age": 27
                  },
                  {
                    "%WorkingYearsAtCompany": 0.13043478260869565,
                    "Age": 55
                  },
                  {
                    "%WorkingYearsAtCompany": 0.8,
                    "Age": 28
                  },
                  {
                    "%WorkingYearsAtCompany": 0.8333333333333334,
                    "Age": 44
                  },
                  {
                    "%WorkingYearsAtCompany": 0.3333333333333333,
                    "Age": 33
                  },
                  {
                    "%WorkingYearsAtCompany": 0.8888888888888888,
                    "Age": 35
                  },
                  {
                    "%WorkingYearsAtCompany": 0.9285714285714286,
                    "Age": 33
                  },
                  {
                    "%WorkingYearsAtCompany": 1,
                    "Age": 28
                  },
                  {
                    "%WorkingYearsAtCompany": 0.8571428571428571,
                    "Age": 34
                  },
                  {
                    "%WorkingYearsAtCompany": 0.125,
                    "Age": 37
                  },
                  {
                    "%WorkingYearsAtCompany": 1,
                    "Age": 25
                  },
                  {
                    "%WorkingYearsAtCompany": 1,
                    "Age": 26
                  },
                  {
                    "%WorkingYearsAtCompany": 0.4,
                    "Age": 33
                  },
                  {
                    "%WorkingYearsAtCompany": 0.9565217391304348,
                    "Age": 42
                  },
                  {
                    "%WorkingYearsAtCompany": 1,
                    "Age": 28
                  },
                  {
                    "%WorkingYearsAtCompany": 0,
                    "Age": 50
                  },
                  {
                    "%WorkingYearsAtCompany": 0.75,
                    "Age": 33
                  },
                  {
                    "%WorkingYearsAtCompany": 0,
                    "Age": 34
                  },
                  {
                    "%WorkingYearsAtCompany": 0.18518518518518517,
                    "Age": 48
                  },
                  {
                    "%WorkingYearsAtCompany": 1,
                    "Age": 45
                  },
                  {
                    "%WorkingYearsAtCompany": 0.4444444444444444,
                    "Age": 52
                  },
                  {
                    "%WorkingYearsAtCompany": 0.8888888888888888,
                    "Age": 38
                  },
                  {
                    "%WorkingYearsAtCompany": 0.6363636363636364,
                    "Age": 29
                  },
                  {
                    "%WorkingYearsAtCompany": 0.9,
                    "Age": 28
                  },
                  {
                    "%WorkingYearsAtCompany": 0.5217391304347826,
                    "Age": 46
                  },
                  {
                    "%WorkingYearsAtCompany": 0.1,
                    "Age": 38
                  },
                  {
                    "%WorkingYearsAtCompany": 0.4444444444444444,
                    "Age": 43
                  },
                  {
                    "%WorkingYearsAtCompany": 0.8571428571428571,
                    "Age": 39
                  },
                  {
                    "%WorkingYearsAtCompany": 0.9523809523809523,
                    "Age": 40
                  },
                  {
                    "%WorkingYearsAtCompany": 1,
                    "Age": 21
                  },
                  {
                    "%WorkingYearsAtCompany": 0.5555555555555556,
                    "Age": 39
                  },
                  {
                    "%WorkingYearsAtCompany": 0.6111111111111112,
                    "Age": 36
                  },
                  {
                    "%WorkingYearsAtCompany": 0.6666666666666666,
                    "Age": 31
                  },
                  {
                    "%WorkingYearsAtCompany": 0.8333333333333334,
                    "Age": 28
                  },
                  {
                    "%WorkingYearsAtCompany": 1,
                    "Age": 35
                  },
                  {
                    "%WorkingYearsAtCompany": 0.4090909090909091,
                    "Age": 49
                  },
                  {
                    "%WorkingYearsAtCompany": 0.6,
                    "Age": 34
                  },
                  {
                    "%WorkingYearsAtCompany": 0.875,
                    "Age": 29
                  },
                  {
                    "%WorkingYearsAtCompany": 0.0625,
                    "Age": 42
                  },
                  {
                    "%WorkingYearsAtCompany": 1,
                    "Age": 29
                  },
                  {
                    "%WorkingYearsAtCompany": 1,
                    "Age": 38
                  },
                  {
                    "%WorkingYearsAtCompany": 1,
                    "Age": 28
                  },
                  {
                    "%WorkingYearsAtCompany": null,
                    "Age": 18
                  },
                  {
                    "%WorkingYearsAtCompany": 0.8333333333333334,
                    "Age": 33
                  },
                  {
                    "%WorkingYearsAtCompany": 0.16666666666666666,
                    "Age": 41
                  },
                  {
                    "%WorkingYearsAtCompany": 1,
                    "Age": 31
                  },
                  {
                    "%WorkingYearsAtCompany": 0.6666666666666666,
                    "Age": 37
                  },
                  {
                    "%WorkingYearsAtCompany": 1,
                    "Age": 27
                  },
                  {
                    "%WorkingYearsAtCompany": 1,
                    "Age": 34
                  },
                  {
                    "%WorkingYearsAtCompany": 0.8333333333333334,
                    "Age": 35
                  },
                  {
                    "%WorkingYearsAtCompany": 1,
                    "Age": 29
                  },
                  {
                    "%WorkingYearsAtCompany": 0.9,
                    "Age": 40
                  },
                  {
                    "%WorkingYearsAtCompany": 0.9545454545454546,
                    "Age": 42
                  },
                  {
                    "%WorkingYearsAtCompany": 0.6666666666666666,
                    "Age": 42
                  },
                  {
                    "%WorkingYearsAtCompany": 0.8,
                    "Age": 35
                  },
                  {
                    "%WorkingYearsAtCompany": 0.6666666666666666,
                    "Age": 24
                  },
                  {
                    "%WorkingYearsAtCompany": 1,
                    "Age": 28
                  },
                  {
                    "%WorkingYearsAtCompany": 1,
                    "Age": 26
                  },
                  {
                    "%WorkingYearsAtCompany": 1,
                    "Age": 30
                  },
                  {
                    "%WorkingYearsAtCompany": 0.0625,
                    "Age": 40
                  },
                  {
                    "%WorkingYearsAtCompany": 0.4666666666666667,
                    "Age": 35
                  },
                  {
                    "%WorkingYearsAtCompany": 0.9285714285714286,
                    "Age": 34
                  },
                  {
                    "%WorkingYearsAtCompany": 1,
                    "Age": 35
                  },
                  {
                    "%WorkingYearsAtCompany": 0.5714285714285714,
                    "Age": 43
                  },
                  {
                    "%WorkingYearsAtCompany": 1,
                    "Age": 32
                  },
                  {
                    "%WorkingYearsAtCompany": 0.17857142857142858,
                    "Age": 56
                  },
                  {
                    "%WorkingYearsAtCompany": 1,
                    "Age": 29
                  },
                  {
                    "%WorkingYearsAtCompany": 1,
                    "Age": 19
                  },
                  {
                    "%WorkingYearsAtCompany": 0.42857142857142855,
                    "Age": 45
                  },
                  {
                    "%WorkingYearsAtCompany": 1,
                    "Age": 37
                  },
                  {
                    "%WorkingYearsAtCompany": 1,
                    "Age": 20
                  },
                  {
                    "%WorkingYearsAtCompany": 1,
                    "Age": 44
                  },
                  {
                    "%WorkingYearsAtCompany": 0.2692307692307692,
                    "Age": 53
                  },
                  {
                    "%WorkingYearsAtCompany": 0.8333333333333334,
                    "Age": 29
                  },
                  {
                    "%WorkingYearsAtCompany": 0,
                    "Age": 22
                  },
                  {
                    "%WorkingYearsAtCompany": 0.9285714285714286,
                    "Age": 46
                  },
                  {
                    "%WorkingYearsAtCompany": 0,
                    "Age": 44
                  },
                  {
                    "%WorkingYearsAtCompany": 1,
                    "Age": 33
                  },
                  {
                    "%WorkingYearsAtCompany": 0.2,
                    "Age": 41
                  },
                  {
                    "%WorkingYearsAtCompany": 0.5,
                    "Age": 30
                  },
                  {
                    "%WorkingYearsAtCompany": 0,
                    "Age": 40
                  },
                  {
                    "%WorkingYearsAtCompany": 0.0625,
                    "Age": 50
                  },
                  {
                    "%WorkingYearsAtCompany": 1,
                    "Age": 28
                  },
                  {
                    "%WorkingYearsAtCompany": 0.16,
                    "Age": 46
                  },
                  {
                    "%WorkingYearsAtCompany": 0.4666666666666667,
                    "Age": 35
                  },
                  {
                    "%WorkingYearsAtCompany": 1,
                    "Age": 24
                  },
                  {
                    "%WorkingYearsAtCompany": 1,
                    "Age": 33
                  },
                  {
                    "%WorkingYearsAtCompany": 1,
                    "Age": 36
                  },
                  {
                    "%WorkingYearsAtCompany": 1,
                    "Age": 30
                  },
                  {
                    "%WorkingYearsAtCompany": 1,
                    "Age": 44
                  },
                  {
                    "%WorkingYearsAtCompany": 1,
                    "Age": 20
                  },
                  {
                    "%WorkingYearsAtCompany": 0.5,
                    "Age": 46
                  },
                  {
                    "%WorkingYearsAtCompany": 0.4,
                    "Age": 42
                  },
                  {
                    "%WorkingYearsAtCompany": 0.9166666666666666,
                    "Age": 60
                  },
                  {
                    "%WorkingYearsAtCompany": 1,
                    "Age": 32
                  },
                  {
                    "%WorkingYearsAtCompany": 0.8,
                    "Age": 32
                  },
                  {
                    "%WorkingYearsAtCompany": 0.4117647058823529,
                    "Age": 36
                  },
                  {
                    "%WorkingYearsAtCompany": 0.9333333333333333,
                    "Age": 33
                  },
                  {
                    "%WorkingYearsAtCompany": 0.7142857142857143,
                    "Age": 40
                  },
                  {
                    "%WorkingYearsAtCompany": 0.8,
                    "Age": 25
                  },
                  {
                    "%WorkingYearsAtCompany": 0.9166666666666666,
                    "Age": 30
                  },
                  {
                    "%WorkingYearsAtCompany": 0.05,
                    "Age": 42
                  },
                  {
                    "%WorkingYearsAtCompany": 0.8125,
                    "Age": 35
                  },
                  {
                    "%WorkingYearsAtCompany": 1,
                    "Age": 27
                  },
                  {
                    "%WorkingYearsAtCompany": 0.15151515151515152,
                    "Age": 54
                  },
                  {
                    "%WorkingYearsAtCompany": 1,
                    "Age": 44
                  },
                  {
                    "%WorkingYearsAtCompany": 1,
                    "Age": 19
                  },
                  {
                    "%WorkingYearsAtCompany": 1,
                    "Age": 29
                  },
                  {
                    "%WorkingYearsAtCompany": 0.2777777777777778,
                    "Age": 54
                  },
                  {
                    "%WorkingYearsAtCompany": 1,
                    "Age": 31
                  },
                  {
                    "%WorkingYearsAtCompany": 1,
                    "Age": 31
                  },
                  {
                    "%WorkingYearsAtCompany": 0.46153846153846156,
                    "Age": 59
                  },
                  {
                    "%WorkingYearsAtCompany": 0.32,
                    "Age": 43
                  },
                  {
                    "%WorkingYearsAtCompany": 0.043478260869565216,
                    "Age": 49
                  },
                  {
                    "%WorkingYearsAtCompany": 0.9166666666666666,
                    "Age": 36
                  },
                  {
                    "%WorkingYearsAtCompany": 0.14285714285714285,
                    "Age": 48
                  },
                  {
                    "%WorkingYearsAtCompany": 1,
                    "Age": 27
                  },
                  {
                    "%WorkingYearsAtCompany": 1,
                    "Age": 29
                  },
                  {
                    "%WorkingYearsAtCompany": 0.04,
                    "Age": 48
                  },
                  {
                    "%WorkingYearsAtCompany": 0.7777777777777778,
                    "Age": 29
                  },
                  {
                    "%WorkingYearsAtCompany": 0.5,
                    "Age": 34
                  },
                  {
                    "%WorkingYearsAtCompany": 0.8461538461538461,
                    "Age": 44
                  },
                  {
                    "%WorkingYearsAtCompany": 0.9,
                    "Age": 33
                  },
                  {
                    "%WorkingYearsAtCompany": 1,
                    "Age": 19
                  },
                  {
                    "%WorkingYearsAtCompany": 1,
                    "Age": 23
                  },
                  {
                    "%WorkingYearsAtCompany": 1,
                    "Age": 25
                  },
                  {
                    "%WorkingYearsAtCompany": 1,
                    "Age": 26
                  },
                  {
                    "%WorkingYearsAtCompany": 0.9230769230769231,
                    "Age": 45
                  },
                  {
                    "%WorkingYearsAtCompany": 0.9705882352941176,
                    "Age": 55
                  },
                  {
                    "%WorkingYearsAtCompany": 1,
                    "Age": 21
                  },
                  {
                    "%WorkingYearsAtCompany": 0.4230769230769231,
                    "Age": 46
                  },
                  {
                    "%WorkingYearsAtCompany": 0.75,
                    "Age": 34
                  },
                  {
                    "%WorkingYearsAtCompany": 0.9354838709677419,
                    "Age": 51
                  },
                  {
                    "%WorkingYearsAtCompany": 0.36,
                    "Age": 59
                  },
                  {
                    "%WorkingYearsAtCompany": 0.7333333333333333,
                    "Age": 34
                  },
                  {
                    "%WorkingYearsAtCompany": 0.8,
                    "Age": 28
                  },
                  {
                    "%WorkingYearsAtCompany": 0.9615384615384616,
                    "Age": 44
                  },
                  {
                    "%WorkingYearsAtCompany": 0.7142857142857143,
                    "Age": 34
                  },
                  {
                    "%WorkingYearsAtCompany": 0.75,
                    "Age": 35
                  },
                  {
                    "%WorkingYearsAtCompany": 0.05555555555555555,
                    "Age": 42
                  },
                  {
                    "%WorkingYearsAtCompany": 0.9130434782608695,
                    "Age": 43
                  },
                  {
                    "%WorkingYearsAtCompany": 0.8888888888888888,
                    "Age": 36
                  },
                  {
                    "%WorkingYearsAtCompany": 1,
                    "Age": 44
                  },
                  {
                    "%WorkingYearsAtCompany": 1,
                    "Age": 28
                  },
                  {
                    "%WorkingYearsAtCompany": 0.875,
                    "Age": 51
                  },
                  {
                    "%WorkingYearsAtCompany": 0.8,
                    "Age": 30
                  },
                  {
                    "%WorkingYearsAtCompany": 0.7,
                    "Age": 29
                  },
                  {
                    "%WorkingYearsAtCompany": 0.6,
                    "Age": 28
                  },
                  {
                    "%WorkingYearsAtCompany": 1,
                    "Age": 25
                  },
                  {
                    "%WorkingYearsAtCompany": 1,
                    "Age": 32
                  },
                  {
                    "%WorkingYearsAtCompany": 0,
                    "Age": 45
                  },
                  {
                    "%WorkingYearsAtCompany": 0.9047619047619048,
                    "Age": 39
                  },
                  {
                    "%WorkingYearsAtCompany": 1,
                    "Age": 58
                  },
                  {
                    "%WorkingYearsAtCompany": 1,
                    "Age": 32
                  },
                  {
                    "%WorkingYearsAtCompany": 0.8333333333333334,
                    "Age": 39
                  },
                  {
                    "%WorkingYearsAtCompany": 0.9,
                    "Age": 30
                  },
                  {
                    "%WorkingYearsAtCompany": 0.7,
                    "Age": 36
                  },
                  {
                    "%WorkingYearsAtCompany": 0.7,
                    "Age": 46
                  },
                  {
                    "%WorkingYearsAtCompany": 0.9,
                    "Age": 28
                  },
                  {
                    "%WorkingYearsAtCompany": 0.12,
                    "Age": 50
                  },
                  {
                    "%WorkingYearsAtCompany": 0.5555555555555556,
                    "Age": 40
                  },
                  {
                    "%WorkingYearsAtCompany": 0.8,
                    "Age": 52
                  },
                  {
                    "%WorkingYearsAtCompany": 1,
                    "Age": 30
                  },
                  {
                    "%WorkingYearsAtCompany": 0.8888888888888888,
                    "Age": 39
                  },
                  {
                    "%WorkingYearsAtCompany": 1,
                    "Age": 31
                  },
                  {
                    "%WorkingYearsAtCompany": 1,
                    "Age": 41
                  },
                  {
                    "%WorkingYearsAtCompany": 1,
                    "Age": 31
                  },
                  {
                    "%WorkingYearsAtCompany": 0.3,
                    "Age": 44
                  },
                  {
                    "%WorkingYearsAtCompany": 0.9523809523809523,
                    "Age": 42
                  },
                  {
                    "%WorkingYearsAtCompany": 0.8260869565217391,
                    "Age": 55
                  },
                  {
                    "%WorkingYearsAtCompany": 0.19444444444444445,
                    "Age": 56
                  },
                  {
                    "%WorkingYearsAtCompany": 0.6666666666666666,
                    "Age": 40
                  },
                  {
                    "%WorkingYearsAtCompany": 0.9,
                    "Age": 34
                  },
                  {
                    "%WorkingYearsAtCompany": 1,
                    "Age": 40
                  },
                  {
                    "%WorkingYearsAtCompany": 0.9,
                    "Age": 41
                  },
                  {
                    "%WorkingYearsAtCompany": 1,
                    "Age": 35
                  },
                  {
                    "%WorkingYearsAtCompany": 1,
                    "Age": 51
                  },
                  {
                    "%WorkingYearsAtCompany": 0.6363636363636364,
                    "Age": 38
                  },
                  {
                    "%WorkingYearsAtCompany": 1,
                    "Age": 34
                  },
                  {
                    "%WorkingYearsAtCompany": 0.42857142857142855,
                    "Age": 25
                  },
                  {
                    "%WorkingYearsAtCompany": 0.3225806451612903,
                    "Age": 58
                  },
                  {
                    "%WorkingYearsAtCompany": 0.5714285714285714,
                    "Age": 40
                  },
                  {
                    "%WorkingYearsAtCompany": 0.8823529411764706,
                    "Age": 36
                  },
                  {
                    "%WorkingYearsAtCompany": 0.9090909090909091,
                    "Age": 48
                  },
                  {
                    "%WorkingYearsAtCompany": 0.2,
                    "Age": 27
                  },
                  {
                    "%WorkingYearsAtCompany": 0.1724137931034483,
                    "Age": 51
                  },
                  {
                    "%WorkingYearsAtCompany": null,
                    "Age": 18
                  },
                  {
                    "%WorkingYearsAtCompany": 0.9,
                    "Age": 35
                  },
                  {
                    "%WorkingYearsAtCompany": 0.75,
                    "Age": 27
                  },
                  {
                    "%WorkingYearsAtCompany": 0.7916666666666666,
                    "Age": 55
                  },
                  {
                    "%WorkingYearsAtCompany": 0.5757575757575758,
                    "Age": 56
                  },
                  {
                    "%WorkingYearsAtCompany": 1,
                    "Age": 34
                  },
                  {
                    "%WorkingYearsAtCompany": 0.8,
                    "Age": 40
                  },
                  {
                    "%WorkingYearsAtCompany": 0.8,
                    "Age": 34
                  },
                  {
                    "%WorkingYearsAtCompany": 0.3333333333333333,
                    "Age": 31
                  },
                  {
                    "%WorkingYearsAtCompany": 0.8,
                    "Age": 35
                  },
                  {
                    "%WorkingYearsAtCompany": 1,
                    "Age": 38
                  },
                  {
                    "%WorkingYearsAtCompany": 1,
                    "Age": 34
                  },
                  {
                    "%WorkingYearsAtCompany": 1,
                    "Age": 28
                  },
                  {
                    "%WorkingYearsAtCompany": 1,
                    "Age": 31
                  },
                  {
                    "%WorkingYearsAtCompany": 0.625,
                    "Age": 39
                  },
                  {
                    "%WorkingYearsAtCompany": 0.2857142857142857,
                    "Age": 51
                  },
                  {
                    "%WorkingYearsAtCompany": 0.5,
                    "Age": 41
                  },
                  {
                    "%WorkingYearsAtCompany": 0.75,
                    "Age": 37
                  },
                  {
                    "%WorkingYearsAtCompany": 0.625,
                    "Age": 33
                  },
                  {
                    "%WorkingYearsAtCompany": 0.75,
                    "Age": 32
                  },
                  {
                    "%WorkingYearsAtCompany": 0.46153846153846156,
                    "Age": 39
                  },
                  {
                    "%WorkingYearsAtCompany": 0.5,
                    "Age": 25
                  },
                  {
                    "%WorkingYearsAtCompany": 0.20833333333333334,
                    "Age": 52
                  },
                  {
                    "%WorkingYearsAtCompany": 1,
                    "Age": 43
                  },
                  {
                    "%WorkingYearsAtCompany": 1,
                    "Age": 27
                  },
                  {
                    "%WorkingYearsAtCompany": 1,
                    "Age": 27
                  },
                  {
                    "%WorkingYearsAtCompany": 0.8,
                    "Age": 26
                  },
                  {
                    "%WorkingYearsAtCompany": 0.9523809523809523,
                    "Age": 42
                  },
                  {
                    "%WorkingYearsAtCompany": 0.4166666666666667,
                    "Age": 52
                  },
                  {
                    "%WorkingYearsAtCompany": 0.375,
                    "Age": 37
                  },
                  {
                    "%WorkingYearsAtCompany": 0.2,
                    "Age": 35
                  },
                  {
                    "%WorkingYearsAtCompany": 0.42857142857142855,
                    "Age": 25
                  },
                  {
                    "%WorkingYearsAtCompany": 0.875,
                    "Age": 26
                  },
                  {
                    "%WorkingYearsAtCompany": 1,
                    "Age": 29
                  },
                  {
                    "%WorkingYearsAtCompany": 0.2,
                    "Age": 49
                  },
                  {
                    "%WorkingYearsAtCompany": 0.8888888888888888,
                    "Age": 29
                  },
                  {
                    "%WorkingYearsAtCompany": 0.6896551724137931,
                    "Age": 54
                  },
                  {
                    "%WorkingYearsAtCompany": 0.28125,
                    "Age": 58
                  },
                  {
                    "%WorkingYearsAtCompany": 0.22580645161290322,
                    "Age": 55
                  },
                  {
                    "%WorkingYearsAtCompany": 0.3333333333333333,
                    "Age": 36
                  },
                  {
                    "%WorkingYearsAtCompany": 1,
                    "Age": 31
                  },
                  {
                    "%WorkingYearsAtCompany": 0.375,
                    "Age": 30
                  },
                  {
                    "%WorkingYearsAtCompany": 0.3333333333333333,
                    "Age": 31
                  },
                  {
                    "%WorkingYearsAtCompany": 0.4,
                    "Age": 34
                  },
                  {
                    "%WorkingYearsAtCompany": 1,
                    "Age": 31
                  },
                  {
                    "%WorkingYearsAtCompany": 0.8333333333333334,
                    "Age": 27
                  },
                  {
                    "%WorkingYearsAtCompany": 1,
                    "Age": 36
                  },
                  {
                    "%WorkingYearsAtCompany": 0.2727272727272727,
                    "Age": 36
                  },
                  {
                    "%WorkingYearsAtCompany": 0.35294117647058826,
                    "Age": 47
                  },
                  {
                    "%WorkingYearsAtCompany": 0.5,
                    "Age": 25
                  },
                  {
                    "%WorkingYearsAtCompany": 0.8571428571428571,
                    "Age": 37
                  },
                  {
                    "%WorkingYearsAtCompany": 0.6,
                    "Age": 56
                  },
                  {
                    "%WorkingYearsAtCompany": 0.7692307692307693,
                    "Age": 47
                  },
                  {
                    "%WorkingYearsAtCompany": 1,
                    "Age": 24
                  },
                  {
                    "%WorkingYearsAtCompany": 0.5714285714285714,
                    "Age": 32
                  },
                  {
                    "%WorkingYearsAtCompany": 0.7142857142857143,
                    "Age": 34
                  },
                  {
                    "%WorkingYearsAtCompany": 0.5714285714285714,
                    "Age": 41
                  },
                  {
                    "%WorkingYearsAtCompany": 0.7272727272727273,
                    "Age": 40
                  },
                  {
                    "%WorkingYearsAtCompany": 1,
                    "Age": 31
                  },
                  {
                    "%WorkingYearsAtCompany": 0.25,
                    "Age": 46
                  },
                  {
                    "%WorkingYearsAtCompany": 0.09090909090909091,
                    "Age": 39
                  },
                  {
                    "%WorkingYearsAtCompany": 1,
                    "Age": 31
                  },
                  {
                    "%WorkingYearsAtCompany": 0.2916666666666667,
                    "Age": 45
                  },
                  {
                    "%WorkingYearsAtCompany": 0.375,
                    "Age": 31
                  },
                  {
                    "%WorkingYearsAtCompany": 0.2857142857142857,
                    "Age": 31
                  },
                  {
                    "%WorkingYearsAtCompany": 0.3,
                    "Age": 45
                  },
                  {
                    "%WorkingYearsAtCompany": 0.13333333333333333,
                    "Age": 48
                  },
                  {
                    "%WorkingYearsAtCompany": 1,
                    "Age": 34
                  },
                  {
                    "%WorkingYearsAtCompany": 0.5625,
                    "Age": 40
                  },
                  {
                    "%WorkingYearsAtCompany": 0.8333333333333334,
                    "Age": 28
                  },
                  {
                    "%WorkingYearsAtCompany": 0.7142857142857143,
                    "Age": 44
                  },
                  {
                    "%WorkingYearsAtCompany": 0.2571428571428571,
                    "Age": 53
                  },
                  {
                    "%WorkingYearsAtCompany": 0.15,
                    "Age": 49
                  },
                  {
                    "%WorkingYearsAtCompany": 0.375,
                    "Age": 40
                  },
                  {
                    "%WorkingYearsAtCompany": 0.8333333333333334,
                    "Age": 44
                  },
                  {
                    "%WorkingYearsAtCompany": 0.8,
                    "Age": 33
                  },
                  {
                    "%WorkingYearsAtCompany": 0.8666666666666667,
                    "Age": 34
                  },
                  {
                    "%WorkingYearsAtCompany": 0.5,
                    "Age": 30
                  },
                  {
                    "%WorkingYearsAtCompany": 1,
                    "Age": 42
                  },
                  {
                    "%WorkingYearsAtCompany": 0.09090909090909091,
                    "Age": 44
                  },
                  {
                    "%WorkingYearsAtCompany": 1,
                    "Age": 30
                  },
                  {
                    "%WorkingYearsAtCompany": 0.9230769230769231,
                    "Age": 57
                  },
                  {
                    "%WorkingYearsAtCompany": 0.27586206896551724,
                    "Age": 49
                  },
                  {
                    "%WorkingYearsAtCompany": 0.875,
                    "Age": 34
                  },
                  {
                    "%WorkingYearsAtCompany": 0.6,
                    "Age": 28
                  },
                  {
                    "%WorkingYearsAtCompany": 0.7142857142857143,
                    "Age": 29
                  },
                  {
                    "%WorkingYearsAtCompany": 0.9375,
                    "Age": 34
                  },
                  {
                    "%WorkingYearsAtCompany": 1,
                    "Age": 35
                  },
                  {
                    "%WorkingYearsAtCompany": 0,
                    "Age": 24
                  },
                  {
                    "%WorkingYearsAtCompany": 1,
                    "Age": 24
                  },
                  {
                    "%WorkingYearsAtCompany": 0.125,
                    "Age": 44
                  },
                  {
                    "%WorkingYearsAtCompany": 1,
                    "Age": 29
                  },
                  {
                    "%WorkingYearsAtCompany": 0.8333333333333334,
                    "Age": 30
                  },
                  {
                    "%WorkingYearsAtCompany": 0.75,
                    "Age": 55
                  },
                  {
                    "%WorkingYearsAtCompany": 0.625,
                    "Age": 33
                  },
                  {
                    "%WorkingYearsAtCompany": 0.45454545454545453,
                    "Age": 47
                  },
                  {
                    "%WorkingYearsAtCompany": 0,
                    "Age": 28
                  },
                  {
                    "%WorkingYearsAtCompany": 1,
                    "Age": 28
                  },
                  {
                    "%WorkingYearsAtCompany": 0.8,
                    "Age": 28
                  },
                  {
                    "%WorkingYearsAtCompany": 0.3,
                    "Age": 49
                  },
                  {
                    "%WorkingYearsAtCompany": 0.75,
                    "Age": 29
                  },
                  {
                    "%WorkingYearsAtCompany": 1,
                    "Age": 28
                  },
                  {
                    "%WorkingYearsAtCompany": 0,
                    "Age": 33
                  },
                  {
                    "%WorkingYearsAtCompany": 0.5,
                    "Age": 32
                  },
                  {
                    "%WorkingYearsAtCompany": 0.5384615384615384,
                    "Age": 54
                  },
                  {
                    "%WorkingYearsAtCompany": 0.8181818181818182,
                    "Age": 29
                  },
                  {
                    "%WorkingYearsAtCompany": 0.8333333333333334,
                    "Age": 44
                  },
                  {
                    "%WorkingYearsAtCompany": 0.2222222222222222,
                    "Age": 39
                  },
                  {
                    "%WorkingYearsAtCompany": 0.5652173913043478,
                    "Age": 46
                  },
                  {
                    "%WorkingYearsAtCompany": 1,
                    "Age": 35
                  },
                  {
                    "%WorkingYearsAtCompany": 0.8,
                    "Age": 23
                  },
                  {
                    "%WorkingYearsAtCompany": 0.3333333333333333,
                    "Age": 40
                  },
                  {
                    "%WorkingYearsAtCompany": 1,
                    "Age": 34
                  },
                  {
                    "%WorkingYearsAtCompany": 1,
                    "Age": 31
                  },
                  {
                    "%WorkingYearsAtCompany": 1,
                    "Age": 50
                  },
                  {
                    "%WorkingYearsAtCompany": 0.9166666666666666,
                    "Age": 34
                  },
                  {
                    "%WorkingYearsAtCompany": 0.25,
                    "Age": 42
                  },
                  {
                    "%WorkingYearsAtCompany": 1,
                    "Age": 37
                  },
                  {
                    "%WorkingYearsAtCompany": 0.7777777777777778,
                    "Age": 29
                  },
                  {
                    "%WorkingYearsAtCompany": 1,
                    "Age": 33
                  },
                  {
                    "%WorkingYearsAtCompany": 0.625,
                    "Age": 45
                  },
                  {
                    "%WorkingYearsAtCompany": 0.8333333333333334,
                    "Age": 42
                  },
                  {
                    "%WorkingYearsAtCompany": 0.8888888888888888,
                    "Age": 40
                  },
                  {
                    "%WorkingYearsAtCompany": 1,
                    "Age": 33
                  },
                  {
                    "%WorkingYearsAtCompany": 1,
                    "Age": 40
                  },
                  {
                    "%WorkingYearsAtCompany": 0.5,
                    "Age": 24
                  },
                  {
                    "%WorkingYearsAtCompany": 0.25,
                    "Age": 40
                  },
                  {
                    "%WorkingYearsAtCompany": 1,
                    "Age": 45
                  },
                  {
                    "%WorkingYearsAtCompany": 0.8333333333333334,
                    "Age": 35
                  },
                  {
                    "%WorkingYearsAtCompany": 0.5833333333333334,
                    "Age": 32
                  },
                  {
                    "%WorkingYearsAtCompany": 0.42857142857142855,
                    "Age": 36
                  },
                  {
                    "%WorkingYearsAtCompany": 0.4444444444444444,
                    "Age": 48
                  },
                  {
                    "%WorkingYearsAtCompany": 0.2,
                    "Age": 29
                  },
                  {
                    "%WorkingYearsAtCompany": 0.25,
                    "Age": 33
                  },
                  {
                    "%WorkingYearsAtCompany": 1,
                    "Age": 30
                  },
                  {
                    "%WorkingYearsAtCompany": 0.6,
                    "Age": 38
                  },
                  {
                    "%WorkingYearsAtCompany": 1,
                    "Age": 35
                  },
                  {
                    "%WorkingYearsAtCompany": 0.4444444444444444,
                    "Age": 30
                  },
                  {
                    "%WorkingYearsAtCompany": 1,
                    "Age": 35
                  },
                  {
                    "%WorkingYearsAtCompany": 0.9705882352941176,
                    "Age": 53
                  },
                  {
                    "%WorkingYearsAtCompany": 0.7142857142857143,
                    "Age": 38
                  },
                  {
                    "%WorkingYearsAtCompany": 0.6666666666666666,
                    "Age": 32
                  },
                  {
                    "%WorkingYearsAtCompany": 0.8,
                    "Age": 48
                  },
                  {
                    "%WorkingYearsAtCompany": 1,
                    "Age": 34
                  },
                  {
                    "%WorkingYearsAtCompany": 1,
                    "Age": 55
                  },
                  {
                    "%WorkingYearsAtCompany": 0.2222222222222222,
                    "Age": 34
                  },
                  {
                    "%WorkingYearsAtCompany": 1,
                    "Age": 26
                  },
                  {
                    "%WorkingYearsAtCompany": 0.9,
                    "Age": 38
                  },
                  {
                    "%WorkingYearsAtCompany": 0.375,
                    "Age": 38
                  },
                  {
                    "%WorkingYearsAtCompany": 0.06666666666666667,
                    "Age": 36
                  },
                  {
                    "%WorkingYearsAtCompany": 1,
                    "Age": 29
                  },
                  {
                    "%WorkingYearsAtCompany": 0.5,
                    "Age": 35
                  },
                  {
                    "%WorkingYearsAtCompany": 0.6363636363636364,
                    "Age": 39
                  },
                  {
                    "%WorkingYearsAtCompany": 1,
                    "Age": 29
                  },
                  {
                    "%WorkingYearsAtCompany": 0.037037037037037035,
                    "Age": 50
                  },
                  {
                    "%WorkingYearsAtCompany": 0.5,
                    "Age": 23
                  },
                  {
                    "%WorkingYearsAtCompany": 0.3333333333333333,
                    "Age": 36
                  },
                  {
                    "%WorkingYearsAtCompany": 0.041666666666666664,
                    "Age": 42
                  },
                  {
                    "%WorkingYearsAtCompany": 1,
                    "Age": 35
                  },
                  {
                    "%WorkingYearsAtCompany": 1,
                    "Age": 34
                  },
                  {
                    "%WorkingYearsAtCompany": 1,
                    "Age": 40
                  },
                  {
                    "%WorkingYearsAtCompany": 0.75,
                    "Age": 43
                  },
                  {
                    "%WorkingYearsAtCompany": 1,
                    "Age": 35
                  },
                  {
                    "%WorkingYearsAtCompany": 0.9629629629629629,
                    "Age": 46
                  },
                  {
                    "%WorkingYearsAtCompany": 1,
                    "Age": 28
                  },
                  {
                    "%WorkingYearsAtCompany": 1,
                    "Age": 22
                  },
                  {
                    "%WorkingYearsAtCompany": 0.9375,
                    "Age": 50
                  },
                  {
                    "%WorkingYearsAtCompany": 0.5,
                    "Age": 32
                  },
                  {
                    "%WorkingYearsAtCompany": 0.9565217391304348,
                    "Age": 44
                  },
                  {
                    "%WorkingYearsAtCompany": 1,
                    "Age": 30
                  },
                  {
                    "%WorkingYearsAtCompany": 1,
                    "Age": 45
                  },
                  {
                    "%WorkingYearsAtCompany": 1,
                    "Age": 45
                  },
                  {
                    "%WorkingYearsAtCompany": 0.5,
                    "Age": 31
                  },
                  {
                    "%WorkingYearsAtCompany": 0.42857142857142855,
                    "Age": 36
                  },
                  {
                    "%WorkingYearsAtCompany": 1,
                    "Age": 34
                  },
                  {
                    "%WorkingYearsAtCompany": 0.9,
                    "Age": 49
                  },
                  {
                    "%WorkingYearsAtCompany": 0.7,
                    "Age": 39
                  },
                  {
                    "%WorkingYearsAtCompany": 1,
                    "Age": 27
                  },
                  {
                    "%WorkingYearsAtCompany": 1,
                    "Age": 35
                  },
                  {
                    "%WorkingYearsAtCompany": 0.8333333333333334,
                    "Age": 28
                  },
                  {
                    "%WorkingYearsAtCompany": 0.6666666666666666,
                    "Age": 21
                  },
                  {
                    "%WorkingYearsAtCompany": null,
                    "Age": 18
                  },
                  {
                    "%WorkingYearsAtCompany": 0.18518518518518517,
                    "Age": 47
                  },
                  {
                    "%WorkingYearsAtCompany": 0.9090909090909091,
                    "Age": 39
                  },
                  {
                    "%WorkingYearsAtCompany": 1,
                    "Age": 40
                  },
                  {
                    "%WorkingYearsAtCompany": 0.9333333333333333,
                    "Age": 35
                  },
                  {
                    "%WorkingYearsAtCompany": 0.4444444444444444,
                    "Age": 37
                  },
                  {
                    "%WorkingYearsAtCompany": 0.9,
                    "Age": 39
                  },
                  {
                    "%WorkingYearsAtCompany": 1,
                    "Age": 45
                  },
                  {
                    "%WorkingYearsAtCompany": 0.5,
                    "Age": 38
                  },
                  {
                    "%WorkingYearsAtCompany": 0.8666666666666667,
                    "Age": 35
                  },
                  {
                    "%WorkingYearsAtCompany": 1,
                    "Age": 37
                  },
                  {
                    "%WorkingYearsAtCompany": 0.2222222222222222,
                    "Age": 40
                  },
                  {
                    "%WorkingYearsAtCompany": 0.7142857142857143,
                    "Age": 44
                  },
                  {
                    "%WorkingYearsAtCompany": 0.08695652173913043,
                    "Age": 48
                  },
                  {
                    "%WorkingYearsAtCompany": 0.2857142857142857,
                    "Age": 35
                  },
                  {
                    "%WorkingYearsAtCompany": 1,
                    "Age": 24
                  },
                  {
                    "%WorkingYearsAtCompany": 0.6,
                    "Age": 27
                  },
                  {
                    "%WorkingYearsAtCompany": 0.6666666666666666,
                    "Age": 27
                  },
                  {
                    "%WorkingYearsAtCompany": 0.4,
                    "Age": 40
                  },
                  {
                    "%WorkingYearsAtCompany": 0.625,
                    "Age": 29
                  },
                  {
                    "%WorkingYearsAtCompany": 0.3333333333333333,
                    "Age": 36
                  },
                  {
                    "%WorkingYearsAtCompany": 1,
                    "Age": 25
                  },
                  {
                    "%WorkingYearsAtCompany": 0.7142857142857143,
                    "Age": 39
                  },
                  {
                    "%WorkingYearsAtCompany": 0.14814814814814814,
                    "Age": 49
                  },
                  {
                    "%WorkingYearsAtCompany": 0.7368421052631579,
                    "Age": 50
                  },
                  {
                    "%WorkingYearsAtCompany": 1,
                    "Age": 20
                  },
                  {
                    "%WorkingYearsAtCompany": 1,
                    "Age": 34
                  },
                  {
                    "%WorkingYearsAtCompany": 0.26666666666666666,
                    "Age": 36
                  },
                  {
                    "%WorkingYearsAtCompany": 0.5,
                    "Age": 49
                  },
                  {
                    "%WorkingYearsAtCompany": 0.75,
                    "Age": 36
                  },
                  {
                    "%WorkingYearsAtCompany": 0.38461538461538464,
                    "Age": 36
                  },
                  {
                    "%WorkingYearsAtCompany": 0.2777777777777778,
                    "Age": 54
                  },
                  {
                    "%WorkingYearsAtCompany": 1,
                    "Age": 43
                  },
                  {
                    "%WorkingYearsAtCompany": 0.8461538461538461,
                    "Age": 35
                  },
                  {
                    "%WorkingYearsAtCompany": 0.6842105263157895,
                    "Age": 38
                  },
                  {
                    "%WorkingYearsAtCompany": 1,
                    "Age": 29
                  },
                  {
                    "%WorkingYearsAtCompany": 1,
                    "Age": 33
                  },
                  {
                    "%WorkingYearsAtCompany": 0.9,
                    "Age": 32
                  },
                  {
                    "%WorkingYearsAtCompany": 1,
                    "Age": 31
                  },
                  {
                    "%WorkingYearsAtCompany": 0.11764705882352941,
                    "Age": 49
                  },
                  {
                    "%WorkingYearsAtCompany": 1,
                    "Age": 38
                  },
                  {
                    "%WorkingYearsAtCompany": 0.10344827586206896,
                    "Age": 47
                  },
                  {
                    "%WorkingYearsAtCompany": 0.34782608695652173,
                    "Age": 49
                  },
                  {
                    "%WorkingYearsAtCompany": 0.09523809523809523,
                    "Age": 41
                  },
                  {
                    "%WorkingYearsAtCompany": 1,
                    "Age": 20
                  },
                  {
                    "%WorkingYearsAtCompany": 0.8571428571428571,
                    "Age": 33
                  },
                  {
                    "%WorkingYearsAtCompany": 0.3,
                    "Age": 36
                  },
                  {
                    "%WorkingYearsAtCompany": 0.25,
                    "Age": 44
                  },
                  {
                    "%WorkingYearsAtCompany": 1,
                    "Age": 23
                  },
                  {
                    "%WorkingYearsAtCompany": 0,
                    "Age": 38
                  },
                  {
                    "%WorkingYearsAtCompany": 0.36363636363636365,
                    "Age": 53
                  },
                  {
                    "%WorkingYearsAtCompany": 0.47368421052631576,
                    "Age": 48
                  },
                  {
                    "%WorkingYearsAtCompany": 1,
                    "Age": 32
                  },
                  {
                    "%WorkingYearsAtCompany": 1,
                    "Age": 26
                  },
                  {
                    "%WorkingYearsAtCompany": 0.5,
                    "Age": 55
                  },
                  {
                    "%WorkingYearsAtCompany": 1,
                    "Age": 34
                  },
                  {
                    "%WorkingYearsAtCompany": 0.05263157894736842,
                    "Age": 60
                  },
                  {
                    "%WorkingYearsAtCompany": 1,
                    "Age": 33
                  },
                  {
                    "%WorkingYearsAtCompany": 1,
                    "Age": 37
                  },
                  {
                    "%WorkingYearsAtCompany": 1,
                    "Age": 34
                  },
                  {
                    "%WorkingYearsAtCompany": 1,
                    "Age": 23
                  },
                  {
                    "%WorkingYearsAtCompany": 0.8888888888888888,
                    "Age": 44
                  },
                  {
                    "%WorkingYearsAtCompany": 0.8333333333333334,
                    "Age": 35
                  },
                  {
                    "%WorkingYearsAtCompany": 1,
                    "Age": 43
                  },
                  {
                    "%WorkingYearsAtCompany": 1,
                    "Age": 24
                  },
                  {
                    "%WorkingYearsAtCompany": 1,
                    "Age": 41
                  },
                  {
                    "%WorkingYearsAtCompany": 0.5555555555555556,
                    "Age": 29
                  },
                  {
                    "%WorkingYearsAtCompany": 0.7647058823529411,
                    "Age": 36
                  },
                  {
                    "%WorkingYearsAtCompany": 0.92,
                    "Age": 45
                  },
                  {
                    "%WorkingYearsAtCompany": 1,
                    "Age": 24
                  },
                  {
                    "%WorkingYearsAtCompany": 0.92,
                    "Age": 47
                  },
                  {
                    "%WorkingYearsAtCompany": 1,
                    "Age": 26
                  },
                  {
                    "%WorkingYearsAtCompany": 1,
                    "Age": 45
                  },
                  {
                    "%WorkingYearsAtCompany": 0.5,
                    "Age": 32
                  },
                  {
                    "%WorkingYearsAtCompany": 0.8333333333333334,
                    "Age": 31
                  },
                  {
                    "%WorkingYearsAtCompany": 0.3,
                    "Age": 41
                  },
                  {
                    "%WorkingYearsAtCompany": 0.05555555555555555,
                    "Age": 40
                  },
                  {
                    "%WorkingYearsAtCompany": 1,
                    "Age": 24
                  },
                  {
                    "%WorkingYearsAtCompany": 0.5263157894736842,
                    "Age": 46
                  },
                  {
                    "%WorkingYearsAtCompany": 0.4117647058823529,
                    "Age": 35
                  },
                  {
                    "%WorkingYearsAtCompany": 1,
                    "Age": 30
                  },
                  {
                    "%WorkingYearsAtCompany": 0.25,
                    "Age": 47
                  },
                  {
                    "%WorkingYearsAtCompany": 0.7692307692307693,
                    "Age": 46
                  },
                  {
                    "%WorkingYearsAtCompany": 0.125,
                    "Age": 36
                  },
                  {
                    "%WorkingYearsAtCompany": 0,
                    "Age": 32
                  },
                  {
                    "%WorkingYearsAtCompany": 1,
                    "Age": 23
                  },
                  {
                    "%WorkingYearsAtCompany": 0.5555555555555556,
                    "Age": 31
                  },
                  {
                    "%WorkingYearsAtCompany": 1,
                    "Age": 39
                  },
                  {
                    "%WorkingYearsAtCompany": 0.4,
                    "Age": 32
                  },
                  {
                    "%WorkingYearsAtCompany": 1,
                    "Age": 40
                  },
                  {
                    "%WorkingYearsAtCompany": 0.5555555555555556,
                    "Age": 45
                  },
                  {
                    "%WorkingYearsAtCompany": 0.9,
                    "Age": 30
                  },
                  {
                    "%WorkingYearsAtCompany": 0.6666666666666666,
                    "Age": 24
                  },
                  {
                    "%WorkingYearsAtCompany": 0.6666666666666666,
                    "Age": 30
                  },
                  {
                    "%WorkingYearsAtCompany": 0.8333333333333334,
                    "Age": 31
                  },
                  {
                    "%WorkingYearsAtCompany": 1,
                    "Age": 27
                  },
                  {
                    "%WorkingYearsAtCompany": 1,
                    "Age": 29
                  },
                  {
                    "%WorkingYearsAtCompany": 0.3,
                    "Age": 29
                  },
                  {
                    "%WorkingYearsAtCompany": 0.5833333333333334,
                    "Age": 30
                  },
                  {
                    "%WorkingYearsAtCompany": 0.8333333333333334,
                    "Age": 34
                  },
                  {
                    "%WorkingYearsAtCompany": 0.8461538461538461,
                    "Age": 33
                  },
                  {
                    "%WorkingYearsAtCompany": 0.625,
                    "Age": 49
                  },
                  {
                    "%WorkingYearsAtCompany": 0,
                    "Age": 33
                  },
                  {
                    "%WorkingYearsAtCompany": 0.6666666666666666,
                    "Age": 38
                  },
                  {
                    "%WorkingYearsAtCompany": 0.1,
                    "Age": 31
                  },
                  {
                    "%WorkingYearsAtCompany": 1,
                    "Age": 29
                  },
                  {
                    "%WorkingYearsAtCompany": 0.7,
                    "Age": 30
                  },
                  {
                    "%WorkingYearsAtCompany": 0.5833333333333334,
                    "Age": 32
                  },
                  {
                    "%WorkingYearsAtCompany": 0.06666666666666667,
                    "Age": 38
                  },
                  {
                    "%WorkingYearsAtCompany": 0.16666666666666666,
                    "Age": 43
                  },
                  {
                    "%WorkingYearsAtCompany": 0.7142857142857143,
                    "Age": 42
                  },
                  {
                    "%WorkingYearsAtCompany": 0.029411764705882353,
                    "Age": 55
                  },
                  {
                    "%WorkingYearsAtCompany": 0.8181818181818182,
                    "Age": 33
                  },
                  {
                    "%WorkingYearsAtCompany": 1,
                    "Age": 41
                  },
                  {
                    "%WorkingYearsAtCompany": 1,
                    "Age": 34
                  },
                  {
                    "%WorkingYearsAtCompany": 0.1111111111111111,
                    "Age": 53
                  },
                  {
                    "%WorkingYearsAtCompany": 0.9,
                    "Age": 43
                  },
                  {
                    "%WorkingYearsAtCompany": 0.3333333333333333,
                    "Age": 34
                  },
                  {
                    "%WorkingYearsAtCompany": 1,
                    "Age": 21
                  },
                  {
                    "%WorkingYearsAtCompany": 1,
                    "Age": 38
                  },
                  {
                    "%WorkingYearsAtCompany": 1,
                    "Age": 22
                  },
                  {
                    "%WorkingYearsAtCompany": 0.9230769230769231,
                    "Age": 31
                  },
                  {
                    "%WorkingYearsAtCompany": 0.13333333333333333,
                    "Age": 51
                  },
                  {
                    "%WorkingYearsAtCompany": 1,
                    "Age": 37
                  },
                  {
                    "%WorkingYearsAtCompany": 0.08333333333333333,
                    "Age": 46
                  },
                  {
                    "%WorkingYearsAtCompany": 0.8,
                    "Age": 36
                  },
                  {
                    "%WorkingYearsAtCompany": 0.8333333333333334,
                    "Age": 44
                  },
                  {
                    "%WorkingYearsAtCompany": 0.5263157894736842,
                    "Age": 37
                  },
                  {
                    "%WorkingYearsAtCompany": 1,
                    "Age": 35
                  },
                  {
                    "%WorkingYearsAtCompany": 0.7142857142857143,
                    "Age": 33
                  },
                  {
                    "%WorkingYearsAtCompany": 1,
                    "Age": 28
                  },
                  {
                    "%WorkingYearsAtCompany": 0.4444444444444444,
                    "Age": 39
                  },
                  {
                    "%WorkingYearsAtCompany": 0.3333333333333333,
                    "Age": 46
                  },
                  {
                    "%WorkingYearsAtCompany": 0.5714285714285714,
                    "Age": 40
                  },
                  {
                    "%WorkingYearsAtCompany": 0,
                    "Age": 42
                  },
                  {
                    "%WorkingYearsAtCompany": 0.4666666666666667,
                    "Age": 35
                  },
                  {
                    "%WorkingYearsAtCompany": 0.8461538461538461,
                    "Age": 38
                  },
                  {
                    "%WorkingYearsAtCompany": 0.6363636363636364,
                    "Age": 34
                  },
                  {
                    "%WorkingYearsAtCompany": 1,
                    "Age": 37
                  },
                  {
                    "%WorkingYearsAtCompany": 0.2857142857142857,
                    "Age": 39
                  },
                  {
                    "%WorkingYearsAtCompany": 0.42857142857142855,
                    "Age": 43
                  },
                  {
                    "%WorkingYearsAtCompany": 0.2727272727272727,
                    "Age": 41
                  },
                  {
                    "%WorkingYearsAtCompany": 0.9565217391304348,
                    "Age": 41
                  },
                  {
                    "%WorkingYearsAtCompany": 0.7777777777777778,
                    "Age": 30
                  },
                  {
                    "%WorkingYearsAtCompany": 0.8333333333333334,
                    "Age": 26
                  },
                  {
                    "%WorkingYearsAtCompany": 0.6923076923076923,
                    "Age": 46
                  },
                  {
                    "%WorkingYearsAtCompany": 0.4166666666666667,
                    "Age": 40
                  },
                  {
                    "%WorkingYearsAtCompany": 1,
                    "Age": 34
                  },
                  {
                    "%WorkingYearsAtCompany": 0.43243243243243246,
                    "Age": 58
                  },
                  {
                    "%WorkingYearsAtCompany": 0.8333333333333334,
                    "Age": 35
                  },
                  {
                    "%WorkingYearsAtCompany": 0.7857142857142857,
                    "Age": 47
                  },
                  {
                    "%WorkingYearsAtCompany": 0.4666666666666667,
                    "Age": 40
                  },
                  {
                    "%WorkingYearsAtCompany": 0.5,
                    "Age": 54
                  },
                  {
                    "%WorkingYearsAtCompany": 0.3333333333333333,
                    "Age": 31
                  },
                  {
                    "%WorkingYearsAtCompany": 1,
                    "Age": 28
                  },
                  {
                    "%WorkingYearsAtCompany": 0.2,
                    "Age": 38
                  },
                  {
                    "%WorkingYearsAtCompany": 1,
                    "Age": 26
                  },
                  {
                    "%WorkingYearsAtCompany": 0.08695652173913043,
                    "Age": 58
                  },
                  {
                    "%WorkingYearsAtCompany": null,
                    "Age": 18
                  },
                  {
                    "%WorkingYearsAtCompany": 0.5,
                    "Age": 31
                  },
                  {
                    "%WorkingYearsAtCompany": 0.5,
                    "Age": 29
                  },
                  {
                    "%WorkingYearsAtCompany": 0.8,
                    "Age": 45
                  },
                  {
                    "%WorkingYearsAtCompany": 0.06666666666666667,
                    "Age": 36
                  },
                  {
                    "%WorkingYearsAtCompany": 1,
                    "Age": 43
                  },
                  {
                    "%WorkingYearsAtCompany": 0.8333333333333334,
                    "Age": 27
                  },
                  {
                    "%WorkingYearsAtCompany": 1,
                    "Age": 29
                  },
                  {
                    "%WorkingYearsAtCompany": 0,
                    "Age": 32
                  },
                  {
                    "%WorkingYearsAtCompany": 0.6,
                    "Age": 42
                  },
                  {
                    "%WorkingYearsAtCompany": 0.2857142857142857,
                    "Age": 47
                  },
                  {
                    "%WorkingYearsAtCompany": 0.75,
                    "Age": 46
                  },
                  {
                    "%WorkingYearsAtCompany": 1,
                    "Age": 28
                  },
                  {
                    "%WorkingYearsAtCompany": 0.6363636363636364,
                    "Age": 29
                  },
                  {
                    "%WorkingYearsAtCompany": 0,
                    "Age": 42
                  },
                  {
                    "%WorkingYearsAtCompany": 0.2857142857142857,
                    "Age": 32
                  },
                  {
                    "%WorkingYearsAtCompany": 0.76,
                    "Age": 46
                  },
                  {
                    "%WorkingYearsAtCompany": 1,
                    "Age": 27
                  },
                  {
                    "%WorkingYearsAtCompany": 1,
                    "Age": 29
                  },
                  {
                    "%WorkingYearsAtCompany": 0.7619047619047619,
                    "Age": 43
                  },
                  {
                    "%WorkingYearsAtCompany": 0.7586206896551724,
                    "Age": 48
                  },
                  {
                    "%WorkingYearsAtCompany": 1,
                    "Age": 29
                  },
                  {
                    "%WorkingYearsAtCompany": 0.5714285714285714,
                    "Age": 46
                  },
                  {
                    "%WorkingYearsAtCompany": 0.875,
                    "Age": 27
                  },
                  {
                    "%WorkingYearsAtCompany": 0.2857142857142857,
                    "Age": 39
                  },
                  {
                    "%WorkingYearsAtCompany": 0.2631578947368421,
                    "Age": 55
                  },
                  {
                    "%WorkingYearsAtCompany": 1,
                    "Age": 28
                  },
                  {
                    "%WorkingYearsAtCompany": 1,
                    "Age": 30
                  },
                  {
                    "%WorkingYearsAtCompany": 1,
                    "Age": 22
                  },
                  {
                    "%WorkingYearsAtCompany": 1,
                    "Age": 36
                  },
                  {
                    "%WorkingYearsAtCompany": 1,
                    "Age": 31
                  },
                  {
                    "%WorkingYearsAtCompany": 0.5555555555555556,
                    "Age": 34
                  },
                  {
                    "%WorkingYearsAtCompany": 0.2727272727272727,
                    "Age": 29
                  },
                  {
                    "%WorkingYearsAtCompany": 0.3125,
                    "Age": 37
                  },
                  {
                    "%WorkingYearsAtCompany": 0.75,
                    "Age": 35
                  },
                  {
                    "%WorkingYearsAtCompany": 0.9,
                    "Age": 45
                  },
                  {
                    "%WorkingYearsAtCompany": 1,
                    "Age": 36
                  },
                  {
                    "%WorkingYearsAtCompany": 0.8636363636363636,
                    "Age": 40
                  },
                  {
                    "%WorkingYearsAtCompany": 1,
                    "Age": 26
                  },
                  {
                    "%WorkingYearsAtCompany": 0.8888888888888888,
                    "Age": 27
                  },
                  {
                    "%WorkingYearsAtCompany": 0.9166666666666666,
                    "Age": 48
                  },
                  {
                    "%WorkingYearsAtCompany": 0.2,
                    "Age": 44
                  },
                  {
                    "%WorkingYearsAtCompany": 1,
                    "Age": 34
                  },
                  {
                    "%WorkingYearsAtCompany": 0.8,
                    "Age": 56
                  },
                  {
                    "%WorkingYearsAtCompany": 0.3333333333333333,
                    "Age": 36
                  },
                  {
                    "%WorkingYearsAtCompany": 0.35714285714285715,
                    "Age": 41
                  },
                  {
                    "%WorkingYearsAtCompany": 0.7222222222222222,
                    "Age": 42
                  },
                  {
                    "%WorkingYearsAtCompany": 0.625,
                    "Age": 31
                  },
                  {
                    "%WorkingYearsAtCompany": 0.4444444444444444,
                    "Age": 34
                  },
                  {
                    "%WorkingYearsAtCompany": 0.5,
                    "Age": 31
                  },
                  {
                    "%WorkingYearsAtCompany": 0.875,
                    "Age": 26
                  },
                  {
                    "%WorkingYearsAtCompany": 0.3333333333333333,
                    "Age": 45
                  },
                  {
                    "%WorkingYearsAtCompany": 1,
                    "Age": 33
                  },
                  {
                    "%WorkingYearsAtCompany": 1,
                    "Age": 28
                  },
                  {
                    "%WorkingYearsAtCompany": 1,
                    "Age": 29
                  },
                  {
                    "%WorkingYearsAtCompany": 0.3,
                    "Age": 39
                  },
                  {
                    "%WorkingYearsAtCompany": 0.8333333333333334,
                    "Age": 27
                  },
                  {
                    "%WorkingYearsAtCompany": 0.9375,
                    "Age": 34
                  },
                  {
                    "%WorkingYearsAtCompany": 0.3333333333333333,
                    "Age": 28
                  },
                  {
                    "%WorkingYearsAtCompany": 0.5,
                    "Age": 47
                  },
                  {
                    "%WorkingYearsAtCompany": 0,
                    "Age": 56
                  },
                  {
                    "%WorkingYearsAtCompany": 1,
                    "Age": 39
                  },
                  {
                    "%WorkingYearsAtCompany": 1,
                    "Age": 38
                  },
                  {
                    "%WorkingYearsAtCompany": 0.034482758620689655,
                    "Age": 58
                  },
                  {
                    "%WorkingYearsAtCompany": 0.5,
                    "Age": 32
                  },
                  {
                    "%WorkingYearsAtCompany": 0.5,
                    "Age": 38
                  },
                  {
                    "%WorkingYearsAtCompany": 0.17857142857142858,
                    "Age": 49
                  },
                  {
                    "%WorkingYearsAtCompany": 0,
                    "Age": 42
                  },
                  {
                    "%WorkingYearsAtCompany": 1,
                    "Age": 27
                  },
                  {
                    "%WorkingYearsAtCompany": 0.8333333333333334,
                    "Age": 35
                  },
                  {
                    "%WorkingYearsAtCompany": 1,
                    "Age": 28
                  },
                  {
                    "%WorkingYearsAtCompany": 1,
                    "Age": 31
                  },
                  {
                    "%WorkingYearsAtCompany": 1,
                    "Age": 36
                  },
                  {
                    "%WorkingYearsAtCompany": 1,
                    "Age": 34
                  },
                  {
                    "%WorkingYearsAtCompany": 0.8888888888888888,
                    "Age": 34
                  },
                  {
                    "%WorkingYearsAtCompany": 0.875,
                    "Age": 26
                  },
                  {
                    "%WorkingYearsAtCompany": 0.8333333333333334,
                    "Age": 29
                  },
                  {
                    "%WorkingYearsAtCompany": 0.5555555555555556,
                    "Age": 32
                  },
                  {
                    "%WorkingYearsAtCompany": 1,
                    "Age": 31
                  },
                  {
                    "%WorkingYearsAtCompany": 0.6666666666666666,
                    "Age": 28
                  },
                  {
                    "%WorkingYearsAtCompany": 0.05,
                    "Age": 38
                  },
                  {
                    "%WorkingYearsAtCompany": 1,
                    "Age": 35
                  },
                  {
                    "%WorkingYearsAtCompany": 1,
                    "Age": 27
                  },
                  {
                    "%WorkingYearsAtCompany": 0.125,
                    "Age": 32
                  },
                  {
                    "%WorkingYearsAtCompany": 1,
                    "Age": 31
                  },
                  {
                    "%WorkingYearsAtCompany": 0.13333333333333333,
                    "Age": 53
                  },
                  {
                    "%WorkingYearsAtCompany": 0.4444444444444444,
                    "Age": 54
                  },
                  {
                    "%WorkingYearsAtCompany": 1,
                    "Age": 33
                  },
                  {
                    "%WorkingYearsAtCompany": 1,
                    "Age": 43
                  },
                  {
                    "%WorkingYearsAtCompany": 0.8571428571428571,
                    "Age": 38
                  },
                  {
                    "%WorkingYearsAtCompany": 0.2857142857142857,
                    "Age": 55
                  },
                  {
                    "%WorkingYearsAtCompany": 1,
                    "Age": 31
                  },
                  {
                    "%WorkingYearsAtCompany": 0.9523809523809523,
                    "Age": 39
                  },
                  {
                    "%WorkingYearsAtCompany": 1,
                    "Age": 42
                  },
                  {
                    "%WorkingYearsAtCompany": 0.8461538461538461,
                    "Age": 31
                  },
                  {
                    "%WorkingYearsAtCompany": 0.5555555555555556,
                    "Age": 54
                  },
                  {
                    "%WorkingYearsAtCompany": 1,
                    "Age": 24
                  },
                  {
                    "%WorkingYearsAtCompany": 1,
                    "Age": 23
                  },
                  {
                    "%WorkingYearsAtCompany": 1,
                    "Age": 40
                  },
                  {
                    "%WorkingYearsAtCompany": 0.7333333333333333,
                    "Age": 40
                  },
                  {
                    "%WorkingYearsAtCompany": 0.3333333333333333,
                    "Age": 25
                  },
                  {
                    "%WorkingYearsAtCompany": 1,
                    "Age": 30
                  },
                  {
                    "%WorkingYearsAtCompany": 0.2857142857142857,
                    "Age": 25
                  },
                  {
                    "%WorkingYearsAtCompany": 0.68,
                    "Age": 47
                  },
                  {
                    "%WorkingYearsAtCompany": 1,
                    "Age": 33
                  },
                  {
                    "%WorkingYearsAtCompany": 0.9375,
                    "Age": 38
                  },
                  {
                    "%WorkingYearsAtCompany": 0.6666666666666666,
                    "Age": 31
                  },
                  {
                    "%WorkingYearsAtCompany": 0.8,
                    "Age": 38
                  },
                  {
                    "%WorkingYearsAtCompany": 0.4444444444444444,
                    "Age": 42
                  },
                  {
                    "%WorkingYearsAtCompany": 0.4166666666666667,
                    "Age": 41
                  },
                  {
                    "%WorkingYearsAtCompany": 0.9285714285714286,
                    "Age": 47
                  },
                  {
                    "%WorkingYearsAtCompany": 0.4,
                    "Age": 35
                  },
                  {
                    "%WorkingYearsAtCompany": 0.75,
                    "Age": 22
                  },
                  {
                    "%WorkingYearsAtCompany": 1,
                    "Age": 35
                  },
                  {
                    "%WorkingYearsAtCompany": 0.9,
                    "Age": 33
                  },
                  {
                    "%WorkingYearsAtCompany": 1,
                    "Age": 32
                  },
                  {
                    "%WorkingYearsAtCompany": 0.125,
                    "Age": 40
                  },
                  {
                    "%WorkingYearsAtCompany": 0.6666666666666666,
                    "Age": 32
                  },
                  {
                    "%WorkingYearsAtCompany": 0.3888888888888889,
                    "Age": 39
                  },
                  {
                    "%WorkingYearsAtCompany": 0.9,
                    "Age": 38
                  },
                  {
                    "%WorkingYearsAtCompany": 1,
                    "Age": 32
                  },
                  {
                    "%WorkingYearsAtCompany": 1,
                    "Age": 37
                  },
                  {
                    "%WorkingYearsAtCompany": 0.8333333333333334,
                    "Age": 25
                  },
                  {
                    "%WorkingYearsAtCompany": 0.5625,
                    "Age": 52
                  },
                  {
                    "%WorkingYearsAtCompany": 0.6666666666666666,
                    "Age": 44
                  },
                  {
                    "%WorkingYearsAtCompany": 1,
                    "Age": 21
                  },
                  {
                    "%WorkingYearsAtCompany": 0.2857142857142857,
                    "Age": 39
                  },
                  {
                    "%WorkingYearsAtCompany": 1,
                    "Age": 23
                  },
                  {
                    "%WorkingYearsAtCompany": 0.9,
                    "Age": 36
                  },
                  {
                    "%WorkingYearsAtCompany": 0.2222222222222222,
                    "Age": 36
                  },
                  {
                    "%WorkingYearsAtCompany": 1,
                    "Age": 56
                  },
                  {
                    "%WorkingYearsAtCompany": 0.5,
                    "Age": 29
                  },
                  {
                    "%WorkingYearsAtCompany": 0.9166666666666666,
                    "Age": 42
                  },
                  {
                    "%WorkingYearsAtCompany": 0.7142857142857143,
                    "Age": 56
                  },
                  {
                    "%WorkingYearsAtCompany": 0.9523809523809523,
                    "Age": 41
                  },
                  {
                    "%WorkingYearsAtCompany": 1,
                    "Age": 34
                  },
                  {
                    "%WorkingYearsAtCompany": 1,
                    "Age": 36
                  },
                  {
                    "%WorkingYearsAtCompany": 0.35714285714285715,
                    "Age": 41
                  },
                  {
                    "%WorkingYearsAtCompany": 1,
                    "Age": 32
                  },
                  {
                    "%WorkingYearsAtCompany": 1,
                    "Age": 35
                  },
                  {
                    "%WorkingYearsAtCompany": 1,
                    "Age": 38
                  },
                  {
                    "%WorkingYearsAtCompany": 0.5,
                    "Age": 50
                  },
                  {
                    "%WorkingYearsAtCompany": 0.75,
                    "Age": 36
                  },
                  {
                    "%WorkingYearsAtCompany": 0.625,
                    "Age": 45
                  },
                  {
                    "%WorkingYearsAtCompany": 0.25,
                    "Age": 40
                  },
                  {
                    "%WorkingYearsAtCompany": 1,
                    "Age": 35
                  },
                  {
                    "%WorkingYearsAtCompany": 0.25,
                    "Age": 40
                  },
                  {
                    "%WorkingYearsAtCompany": 1,
                    "Age": 35
                  },
                  {
                    "%WorkingYearsAtCompany": 0.4,
                    "Age": 29
                  },
                  {
                    "%WorkingYearsAtCompany": 1,
                    "Age": 29
                  },
                  {
                    "%WorkingYearsAtCompany": 0.15,
                    "Age": 50
                  },
                  {
                    "%WorkingYearsAtCompany": 0.9523809523809523,
                    "Age": 39
                  },
                  {
                    "%WorkingYearsAtCompany": 0.9,
                    "Age": 31
                  },
                  {
                    "%WorkingYearsAtCompany": 0.8,
                    "Age": 26
                  },
                  {
                    "%WorkingYearsAtCompany": 0.29411764705882354,
                    "Age": 36
                  },
                  {
                    "%WorkingYearsAtCompany": 0.7777777777777778,
                    "Age": 39
                  },
                  {
                    "%WorkingYearsAtCompany": 1,
                    "Age": 27
                  },
                  {
                    "%WorkingYearsAtCompany": 0.5294117647058824,
                    "Age": 49
                  },
                  {
                    "%WorkingYearsAtCompany": 0.6666666666666666,
                    "Age": 34
                  }
                ]
              },
              "allcols": false,
              "vislib": "vegalite",
              "$schema": "https://vega.github.io/schema/vega-lite/v4.8.1.json",
              "mark": "circle",
              "data": {
                "name": "data-7f82e64c143d6a0043fdc34d23299cbb"
              }
            },
            "_model_module": "luxwidget"
          }
        },
        "db527602bec742e7989098e815079e73": {
          "model_module": "@jupyter-widgets/controls",
          "model_name": "ButtonModel",
          "state": {
            "_view_name": "ButtonView",
            "style": "IPY_MODEL_9fe5b5c57d1d4fddb05d913dd6963701",
            "_dom_classes": [],
            "description": "Toggle Pandas/Lux",
            "_model_name": "ButtonModel",
            "button_style": "",
            "_view_module": "@jupyter-widgets/controls",
            "_model_module_version": "1.5.0",
            "tooltip": "",
            "_view_count": null,
            "disabled": false,
            "_view_module_version": "1.5.0",
            "layout": "IPY_MODEL_fadad1cd6d304aa2bb4d3bef48c547a9",
            "_model_module": "@jupyter-widgets/controls",
            "icon": ""
          }
        },
        "9fe5b5c57d1d4fddb05d913dd6963701": {
          "model_module": "@jupyter-widgets/controls",
          "model_name": "ButtonStyleModel",
          "state": {
            "_view_name": "StyleView",
            "_model_name": "ButtonStyleModel",
            "_view_module": "@jupyter-widgets/base",
            "_model_module_version": "1.5.0",
            "_view_count": null,
            "button_color": null,
            "font_weight": "",
            "_view_module_version": "1.2.0",
            "_model_module": "@jupyter-widgets/controls"
          }
        },
        "fadad1cd6d304aa2bb4d3bef48c547a9": {
          "model_module": "@jupyter-widgets/base",
          "model_name": "LayoutModel",
          "state": {
            "_view_name": "LayoutView",
            "grid_template_rows": null,
            "right": null,
            "justify_content": null,
            "_view_module": "@jupyter-widgets/base",
            "overflow": null,
            "_model_module_version": "1.2.0",
            "_view_count": null,
            "flex_flow": null,
            "width": "140px",
            "min_width": null,
            "border": null,
            "align_items": null,
            "bottom": null,
            "_model_module": "@jupyter-widgets/base",
            "top": "5px",
            "grid_column": null,
            "overflow_y": null,
            "overflow_x": null,
            "grid_auto_flow": null,
            "grid_area": null,
            "grid_template_columns": null,
            "flex": null,
            "_model_name": "LayoutModel",
            "justify_items": null,
            "grid_row": null,
            "max_height": null,
            "align_content": null,
            "visibility": null,
            "align_self": null,
            "height": null,
            "min_height": null,
            "padding": null,
            "grid_auto_rows": null,
            "grid_gap": null,
            "max_width": null,
            "order": null,
            "_view_module_version": "1.2.0",
            "grid_template_areas": null,
            "object_position": null,
            "object_fit": null,
            "grid_auto_columns": null,
            "margin": null,
            "display": null,
            "left": null
          }
        },
        "3001f048e96d4d5da590d16d326130c8": {
          "model_module": "@jupyter-widgets/output",
          "model_name": "OutputModel",
          "state": {
            "_view_name": "OutputView",
            "msg_id": "",
            "_dom_classes": [],
            "_model_name": "OutputModel",
            "outputs": [
              {
                "output_type": "stream",
                "metadata": {
                  "tags": []
                },
                "text": "0       41\n1       49\n2       37\n3       33\n4       27\n        ..\n1465    36\n1466    39\n1467    27\n1468    49\n1469    34\nName: Age, Length: 1470, dtype: int64\n",
                "stream": "stdout"
              }
            ],
            "_view_module": "@jupyter-widgets/output",
            "_model_module_version": "1.0.0",
            "_view_count": null,
            "_view_module_version": "1.0.0",
            "layout": "IPY_MODEL_39ac8381904245099966483799b5b19c",
            "_model_module": "@jupyter-widgets/output"
          }
        },
        "39ac8381904245099966483799b5b19c": {
          "model_module": "@jupyter-widgets/base",
          "model_name": "LayoutModel",
          "state": {
            "_view_name": "LayoutView",
            "grid_template_rows": null,
            "right": null,
            "justify_content": null,
            "_view_module": "@jupyter-widgets/base",
            "overflow": null,
            "_model_module_version": "1.2.0",
            "_view_count": null,
            "flex_flow": null,
            "width": null,
            "min_width": null,
            "border": null,
            "align_items": null,
            "bottom": null,
            "_model_module": "@jupyter-widgets/base",
            "top": null,
            "grid_column": null,
            "overflow_y": null,
            "overflow_x": null,
            "grid_auto_flow": null,
            "grid_area": null,
            "grid_template_columns": null,
            "flex": null,
            "_model_name": "LayoutModel",
            "justify_items": null,
            "grid_row": null,
            "max_height": null,
            "align_content": null,
            "visibility": null,
            "align_self": null,
            "height": null,
            "min_height": null,
            "padding": null,
            "grid_auto_rows": null,
            "grid_gap": null,
            "max_width": null,
            "order": null,
            "_view_module_version": "1.2.0",
            "grid_template_areas": null,
            "object_position": null,
            "object_fit": null,
            "grid_auto_columns": null,
            "margin": null,
            "display": null,
            "left": null
          }
        },
        "c4fc618684374200a7e84d546fd23ea4": {
          "model_module": "@jupyter-widgets/controls",
          "model_name": "ButtonModel",
          "state": {
            "_view_name": "ButtonView",
            "style": "IPY_MODEL_cdb69dc80dbe49c5b976d5978255472f",
            "_dom_classes": [],
            "description": "Toggle Pandas/Lux",
            "_model_name": "ButtonModel",
            "button_style": "",
            "_view_module": "@jupyter-widgets/controls",
            "_model_module_version": "1.5.0",
            "tooltip": "",
            "_view_count": null,
            "disabled": false,
            "_view_module_version": "1.5.0",
            "layout": "IPY_MODEL_cca4b35052e340b382db6113ed3c5bcd",
            "_model_module": "@jupyter-widgets/controls",
            "icon": ""
          }
        },
        "cdb69dc80dbe49c5b976d5978255472f": {
          "model_module": "@jupyter-widgets/controls",
          "model_name": "ButtonStyleModel",
          "state": {
            "_view_name": "StyleView",
            "_model_name": "ButtonStyleModel",
            "_view_module": "@jupyter-widgets/base",
            "_model_module_version": "1.5.0",
            "_view_count": null,
            "button_color": null,
            "font_weight": "",
            "_view_module_version": "1.2.0",
            "_model_module": "@jupyter-widgets/controls"
          }
        },
        "cca4b35052e340b382db6113ed3c5bcd": {
          "model_module": "@jupyter-widgets/base",
          "model_name": "LayoutModel",
          "state": {
            "_view_name": "LayoutView",
            "grid_template_rows": null,
            "right": null,
            "justify_content": null,
            "_view_module": "@jupyter-widgets/base",
            "overflow": null,
            "_model_module_version": "1.2.0",
            "_view_count": null,
            "flex_flow": null,
            "width": "140px",
            "min_width": null,
            "border": null,
            "align_items": null,
            "bottom": null,
            "_model_module": "@jupyter-widgets/base",
            "top": "5px",
            "grid_column": null,
            "overflow_y": null,
            "overflow_x": null,
            "grid_auto_flow": null,
            "grid_area": null,
            "grid_template_columns": null,
            "flex": null,
            "_model_name": "LayoutModel",
            "justify_items": null,
            "grid_row": null,
            "max_height": null,
            "align_content": null,
            "visibility": null,
            "align_self": null,
            "height": null,
            "min_height": null,
            "padding": null,
            "grid_auto_rows": null,
            "grid_gap": null,
            "max_width": null,
            "order": null,
            "_view_module_version": "1.2.0",
            "grid_template_areas": null,
            "object_position": null,
            "object_fit": null,
            "grid_auto_columns": null,
            "margin": null,
            "display": null,
            "left": null
          }
        },
        "4bdaa3bb686940b79aee22247e723833": {
          "model_module": "@jupyter-widgets/output",
          "model_name": "OutputModel",
          "state": {
            "_view_name": "OutputView",
            "msg_id": "",
            "_dom_classes": [],
            "_model_name": "OutputModel",
            "outputs": [
              {
                "output_type": "stream",
                "metadata": {
                  "tags": []
                },
                "text": "0        True\n1        True\n2        True\n3       False\n4       False\n        ...  \n1465    False\n1466     True\n1467    False\n1468     True\n1469    False\nName: IsOld, Length: 1470, dtype: bool\n",
                "stream": "stdout"
              }
            ],
            "_view_module": "@jupyter-widgets/output",
            "_model_module_version": "1.0.0",
            "_view_count": null,
            "_view_module_version": "1.0.0",
            "layout": "IPY_MODEL_e024b328014945ec801913d9205cbb3a",
            "_model_module": "@jupyter-widgets/output"
          }
        },
        "e024b328014945ec801913d9205cbb3a": {
          "model_module": "@jupyter-widgets/base",
          "model_name": "LayoutModel",
          "state": {
            "_view_name": "LayoutView",
            "grid_template_rows": null,
            "right": null,
            "justify_content": null,
            "_view_module": "@jupyter-widgets/base",
            "overflow": null,
            "_model_module_version": "1.2.0",
            "_view_count": null,
            "flex_flow": null,
            "width": null,
            "min_width": null,
            "border": null,
            "align_items": null,
            "bottom": null,
            "_model_module": "@jupyter-widgets/base",
            "top": null,
            "grid_column": null,
            "overflow_y": null,
            "overflow_x": null,
            "grid_auto_flow": null,
            "grid_area": null,
            "grid_template_columns": null,
            "flex": null,
            "_model_name": "LayoutModel",
            "justify_items": null,
            "grid_row": null,
            "max_height": null,
            "align_content": null,
            "visibility": null,
            "align_self": null,
            "height": null,
            "min_height": null,
            "padding": null,
            "grid_auto_rows": null,
            "grid_gap": null,
            "max_width": null,
            "order": null,
            "_view_module_version": "1.2.0",
            "grid_template_areas": null,
            "object_position": null,
            "object_fit": null,
            "grid_auto_columns": null,
            "margin": null,
            "display": null,
            "left": null
          }
        },
        "c2401d653c244b3da4fd09beaa39fd4f": {
          "model_module": "luxwidget",
          "model_name": "LuxModel",
          "state": {
            "_view_name": "LuxWidgetView",
            "_dom_classes": [],
            "_selectedVisIdxs": {},
            "_model_name": "LuxModel",
            "all_column": false,
            "data": [],
            "selectedIntentIndex": {},
            "_view_module": "luxwidget",
            "_model_module_version": "0.1.6",
            "_view_count": null,
            "deletedIndices": {},
            "plotting_scale": 1,
            "_view_module_version": "0.1.6",
            "intent": "",
            "recommendations": [],
            "layout": "IPY_MODEL_d6640b6b3959456e87b5018023129e35",
            "message": "",
            "current_vis": {
              "datasets": {
                "data-189e85e7d235662bb0b14d705b804515": [
                  {
                    "IsOld": false,
                    "%WorkingYearsAtCompany": 0.7856282406127311
                  },
                  {
                    "IsOld": true,
                    "%WorkingYearsAtCompany": 0.5632136008095073
                  }
                ]
              },
              "encoding": {
                "y": {
                  "field": "IsOld",
                  "type": "nominal",
                  "axis": {
                    "title": "IsOld",
                    "labelOverlap": true
                  }
                },
                "x": {
                  "field": "%WorkingYearsAtCompany",
                  "title": "Mean of %WorkingYearsAt...",
                  "type": "quantitative",
                  "axis": {
                    "title": "Mean of %WorkingYearsAt..."
                  }
                }
              },
              "config": {
                "mark": {
                  "tooltip": {
                    "content": "encoding"
                  }
                },
                "axis": {
                  "labelFont": "Helvetica Neue",
                  "labelFontSize": 9,
                  "labelColor": "#505050",
                  "titleFont": "Helvetica Neue",
                  "labelFontWeight": 400,
                  "titleFontSize": 11,
                  "titleFontWeight": 500
                },
                "title": {
                  "fontWeight": 500,
                  "font": "Helvetica Neue",
                  "fontSize": 13
                },
                "legend": {
                  "labelFont": "Helvetica Neue",
                  "labelFontSize": 9,
                  "titleFont": "Helvetica Neue",
                  "labelFontWeight": 400,
                  "titleFontSize": 10,
                  "titleFontWeight": 500
                },
                "view": {
                  "continuousWidth": 400,
                  "continuousHeight": 300
                }
              },
              "height": 150,
              "width": 160,
              "allcols": false,
              "vislib": "vegalite",
              "$schema": "https://vega.github.io/schema/vega-lite/v4.8.1.json",
              "mark": "bar",
              "data": {
                "name": "data-189e85e7d235662bb0b14d705b804515"
              }
            },
            "_model_module": "luxwidget"
          }
        },
        "f5acd4e295e540268a8eb31133039e76": {
          "model_module": "luxwidget",
          "model_name": "LuxModel",
          "state": {
            "_view_name": "LuxWidgetView",
            "_dom_classes": [],
            "_selectedVisIdxs": {},
            "_model_name": "LuxModel",
            "all_column": false,
            "data": [],
            "selectedIntentIndex": {},
            "_view_module": "luxwidget",
            "_model_module_version": "0.1.6",
            "_view_count": null,
            "deletedIndices": {},
            "plotting_scale": 1,
            "_view_module_version": "0.1.6",
            "intent": "",
            "recommendations": [
              {
                "action": "Vis List",
                "vspec": [
                  {
                    "datasets": {
                      "data-ca86ff9b8b5a772bf06fef8a06fdba32": [
                        {
                          "DailyRate": 799.2994987468671,
                          "IsOld": false
                        },
                        {
                          "DailyRate": 806.2693452380952,
                          "IsOld": true
                        }
                      ]
                    },
                    "encoding": {
                      "y": {
                        "field": "IsOld",
                        "type": "nominal",
                        "axis": {
                          "title": "IsOld",
                          "labelOverlap": true
                        }
                      },
                      "x": {
                        "field": "DailyRate",
                        "title": "Mean of DailyRate",
                        "type": "quantitative",
                        "axis": {
                          "title": "Mean of DailyRate"
                        }
                      }
                    },
                    "config": {
                      "mark": {
                        "tooltip": {
                          "content": "encoding"
                        }
                      },
                      "axis": {
                        "labelFont": "Helvetica Neue",
                        "labelFontSize": 9,
                        "labelColor": "#505050",
                        "titleFont": "Helvetica Neue",
                        "labelFontWeight": 400,
                        "titleFontSize": 11,
                        "titleFontWeight": 500
                      },
                      "title": {
                        "fontWeight": 500,
                        "font": "Helvetica Neue",
                        "fontSize": 13
                      },
                      "legend": {
                        "labelFont": "Helvetica Neue",
                        "labelFontSize": 9,
                        "titleFont": "Helvetica Neue",
                        "labelFontWeight": 400,
                        "titleFontSize": 10,
                        "titleFontWeight": 500
                      },
                      "view": {
                        "continuousWidth": 400,
                        "continuousHeight": 300
                      }
                    },
                    "height": 150,
                    "width": 160,
                    "vislib": "vegalite",
                    "$schema": "https://vega.github.io/schema/vega-lite/v4.8.1.json",
                    "mark": "bar",
                    "data": {
                      "name": "data-ca86ff9b8b5a772bf06fef8a06fdba32"
                    }
                  },
                  {
                    "datasets": {
                      "data-ce57642688e5c9364b80a97204c9e3ce": [
                        {
                          "IsOld": false,
                          "HourlyRate": 65.48370927318295
                        },
                        {
                          "IsOld": true,
                          "HourlyRate": 66.375
                        }
                      ]
                    },
                    "encoding": {
                      "y": {
                        "field": "IsOld",
                        "type": "nominal",
                        "axis": {
                          "title": "IsOld",
                          "labelOverlap": true
                        }
                      },
                      "x": {
                        "field": "HourlyRate",
                        "title": "Mean of HourlyRate",
                        "type": "quantitative",
                        "axis": {
                          "title": "Mean of HourlyRate"
                        }
                      }
                    },
                    "config": {
                      "mark": {
                        "tooltip": {
                          "content": "encoding"
                        }
                      },
                      "axis": {
                        "labelFont": "Helvetica Neue",
                        "labelFontSize": 9,
                        "labelColor": "#505050",
                        "titleFont": "Helvetica Neue",
                        "labelFontWeight": 400,
                        "titleFontSize": 11,
                        "titleFontWeight": 500
                      },
                      "title": {
                        "fontWeight": 500,
                        "font": "Helvetica Neue",
                        "fontSize": 13
                      },
                      "legend": {
                        "labelFont": "Helvetica Neue",
                        "labelFontSize": 9,
                        "titleFont": "Helvetica Neue",
                        "labelFontWeight": 400,
                        "titleFontSize": 10,
                        "titleFontWeight": 500
                      },
                      "view": {
                        "continuousWidth": 400,
                        "continuousHeight": 300
                      }
                    },
                    "height": 150,
                    "width": 160,
                    "vislib": "vegalite",
                    "$schema": "https://vega.github.io/schema/vega-lite/v4.8.1.json",
                    "mark": "bar",
                    "data": {
                      "name": "data-ce57642688e5c9364b80a97204c9e3ce"
                    }
                  },
                  {
                    "datasets": {
                      "data-bc5b02764b4e223cd629a87f21404c23": [
                        {
                          "IsOld": false,
                          "MonthlyRate": 14322.419799498746
                        },
                        {
                          "IsOld": true,
                          "MonthlyRate": 14302.04017857143
                        }
                      ]
                    },
                    "encoding": {
                      "y": {
                        "field": "IsOld",
                        "type": "nominal",
                        "axis": {
                          "title": "IsOld",
                          "labelOverlap": true
                        }
                      },
                      "x": {
                        "field": "MonthlyRate",
                        "title": "Mean of MonthlyRate",
                        "type": "quantitative",
                        "axis": {
                          "title": "Mean of MonthlyRate"
                        }
                      }
                    },
                    "config": {
                      "mark": {
                        "tooltip": {
                          "content": "encoding"
                        }
                      },
                      "axis": {
                        "labelFont": "Helvetica Neue",
                        "labelFontSize": 9,
                        "labelColor": "#505050",
                        "titleFont": "Helvetica Neue",
                        "labelFontWeight": 400,
                        "titleFontSize": 11,
                        "titleFontWeight": 500
                      },
                      "title": {
                        "fontWeight": 500,
                        "font": "Helvetica Neue",
                        "fontSize": 13
                      },
                      "legend": {
                        "labelFont": "Helvetica Neue",
                        "labelFontSize": 9,
                        "titleFont": "Helvetica Neue",
                        "labelFontWeight": 400,
                        "titleFontSize": 10,
                        "titleFontWeight": 500
                      },
                      "view": {
                        "continuousWidth": 400,
                        "continuousHeight": 300
                      }
                    },
                    "height": 150,
                    "width": 160,
                    "vislib": "vegalite",
                    "$schema": "https://vega.github.io/schema/vega-lite/v4.8.1.json",
                    "mark": "bar",
                    "data": {
                      "name": "data-bc5b02764b4e223cd629a87f21404c23"
                    }
                  }
                ],
                "description": "Shows a vis list defined by the intent"
              }
            ],
            "layout": "IPY_MODEL_80cb16437afb44d8bdd2791f11fa27e5",
            "message": "",
            "current_vis": {},
            "_model_module": "luxwidget"
          }
        },
        "20f52d36d1454547b31f619f8e61c073": {
          "model_module": "@jupyter-widgets/controls",
          "model_name": "ButtonModel",
          "state": {
            "_view_name": "ButtonView",
            "style": "IPY_MODEL_974600bfe97c4c2b874972829e216f29",
            "_dom_classes": [],
            "description": "Toggle Pandas/Lux",
            "_model_name": "ButtonModel",
            "button_style": "",
            "_view_module": "@jupyter-widgets/controls",
            "_model_module_version": "1.5.0",
            "tooltip": "",
            "_view_count": null,
            "disabled": false,
            "_view_module_version": "1.5.0",
            "layout": "IPY_MODEL_f7337904ebaa4b1b9f092c62d806af13",
            "_model_module": "@jupyter-widgets/controls",
            "icon": ""
          }
        },
        "974600bfe97c4c2b874972829e216f29": {
          "model_module": "@jupyter-widgets/controls",
          "model_name": "ButtonStyleModel",
          "state": {
            "_view_name": "StyleView",
            "_model_name": "ButtonStyleModel",
            "_view_module": "@jupyter-widgets/base",
            "_model_module_version": "1.5.0",
            "_view_count": null,
            "button_color": null,
            "font_weight": "",
            "_view_module_version": "1.2.0",
            "_model_module": "@jupyter-widgets/controls"
          }
        },
        "f7337904ebaa4b1b9f092c62d806af13": {
          "model_module": "@jupyter-widgets/base",
          "model_name": "LayoutModel",
          "state": {
            "_view_name": "LayoutView",
            "grid_template_rows": null,
            "right": null,
            "justify_content": null,
            "_view_module": "@jupyter-widgets/base",
            "overflow": null,
            "_model_module_version": "1.2.0",
            "_view_count": null,
            "flex_flow": null,
            "width": "140px",
            "min_width": null,
            "border": null,
            "align_items": null,
            "bottom": null,
            "_model_module": "@jupyter-widgets/base",
            "top": "5px",
            "grid_column": null,
            "overflow_y": null,
            "overflow_x": null,
            "grid_auto_flow": null,
            "grid_area": null,
            "grid_template_columns": null,
            "flex": null,
            "_model_name": "LayoutModel",
            "justify_items": null,
            "grid_row": null,
            "max_height": null,
            "align_content": null,
            "visibility": null,
            "align_self": null,
            "height": null,
            "min_height": null,
            "padding": null,
            "grid_auto_rows": null,
            "grid_gap": null,
            "max_width": null,
            "order": null,
            "_view_module_version": "1.2.0",
            "grid_template_areas": null,
            "object_position": null,
            "object_fit": null,
            "grid_auto_columns": null,
            "margin": null,
            "display": null,
            "left": null
          }
        },
        "93066c2814954250a6b25da14c225636": {
          "model_module": "@jupyter-widgets/output",
          "model_name": "OutputModel",
          "state": {
            "_view_name": "OutputView",
            "msg_id": "",
            "_dom_classes": [],
            "_model_name": "OutputModel",
            "outputs": [
              {
                "output_type": "display_data",
                "metadata": {
                  "tags": []
                },
                "text/html": "<div>\n<style scoped>\n    .dataframe tbody tr th:only-of-type {\n        vertical-align: middle;\n    }\n\n    .dataframe tbody tr th {\n        vertical-align: top;\n    }\n\n    .dataframe thead th {\n        text-align: right;\n    }\n</style>\n<table border=\"1\" class=\"dataframe\">\n  <thead>\n    <tr style=\"text-align: right;\">\n      <th></th>\n      <th>Age</th>\n      <th>Attrition</th>\n      <th>BusinessTravel</th>\n      <th>DailyRate</th>\n      <th>Department</th>\n      <th>DistanceFromHome</th>\n      <th>Education</th>\n      <th>EducationField</th>\n      <th>EmployeeCount</th>\n      <th>EmployeeNumber</th>\n      <th>EnvironmentSatisfaction</th>\n      <th>Gender</th>\n      <th>HourlyRate</th>\n      <th>JobInvolvement</th>\n      <th>JobLevel</th>\n      <th>JobRole</th>\n      <th>JobSatisfaction</th>\n      <th>MaritalStatus</th>\n      <th>MonthlyIncome</th>\n      <th>MonthlyRate</th>\n      <th>NumCompaniesWorked</th>\n      <th>Over18</th>\n      <th>OverTime</th>\n      <th>PercentSalaryHike</th>\n      <th>PerformanceRating</th>\n      <th>RelationshipSatisfaction</th>\n      <th>StandardHours</th>\n      <th>StockOptionLevel</th>\n      <th>TotalWorkingYears</th>\n      <th>TrainingTimesLastYear</th>\n      <th>WorkLifeBalance</th>\n      <th>YearsAtCompany</th>\n      <th>YearsInCurrentRole</th>\n      <th>YearsSinceLastPromotion</th>\n      <th>YearsWithCurrManager</th>\n      <th>%WorkingYearsAtCompany</th>\n      <th>IsOld</th>\n    </tr>\n  </thead>\n  <tbody>\n    <tr>\n      <th>0</th>\n      <td>41</td>\n      <td>Yes</td>\n      <td>Travel_Rarely</td>\n      <td>1102</td>\n      <td>Sales</td>\n      <td>1</td>\n      <td>2</td>\n      <td>Life Sciences</td>\n      <td>1</td>\n      <td>1</td>\n      <td>2</td>\n      <td>Female</td>\n      <td>94</td>\n      <td>3</td>\n      <td>2</td>\n      <td>Sales Executive</td>\n      <td>4</td>\n      <td>Single</td>\n      <td>5993</td>\n      <td>19479</td>\n      <td>8</td>\n      <td>Y</td>\n      <td>Yes</td>\n      <td>11</td>\n      <td>3</td>\n      <td>1</td>\n      <td>80</td>\n      <td>0</td>\n      <td>8</td>\n      <td>0</td>\n      <td>1</td>\n      <td>6</td>\n      <td>4</td>\n      <td>0</td>\n      <td>5</td>\n      <td>0.750000</td>\n      <td>True</td>\n    </tr>\n    <tr>\n      <th>1</th>\n      <td>49</td>\n      <td>No</td>\n      <td>Travel_Frequently</td>\n      <td>279</td>\n      <td>Research &amp; Development</td>\n      <td>8</td>\n      <td>1</td>\n      <td>Life Sciences</td>\n      <td>1</td>\n      <td>2</td>\n      <td>3</td>\n      <td>Male</td>\n      <td>61</td>\n      <td>2</td>\n      <td>2</td>\n      <td>Research Scientist</td>\n      <td>2</td>\n      <td>Married</td>\n      <td>5130</td>\n      <td>24907</td>\n      <td>1</td>\n      <td>Y</td>\n      <td>No</td>\n      <td>23</td>\n      <td>4</td>\n      <td>4</td>\n      <td>80</td>\n      <td>1</td>\n      <td>10</td>\n      <td>3</td>\n      <td>3</td>\n      <td>10</td>\n      <td>7</td>\n      <td>1</td>\n      <td>7</td>\n      <td>1.000000</td>\n      <td>True</td>\n    </tr>\n    <tr>\n      <th>2</th>\n      <td>37</td>\n      <td>Yes</td>\n      <td>Travel_Rarely</td>\n      <td>1373</td>\n      <td>Research &amp; Development</td>\n      <td>2</td>\n      <td>2</td>\n      <td>Other</td>\n      <td>1</td>\n      <td>4</td>\n      <td>4</td>\n      <td>Male</td>\n      <td>92</td>\n      <td>2</td>\n      <td>1</td>\n      <td>Laboratory Technician</td>\n      <td>3</td>\n      <td>Single</td>\n      <td>2090</td>\n      <td>2396</td>\n      <td>6</td>\n      <td>Y</td>\n      <td>Yes</td>\n      <td>15</td>\n      <td>3</td>\n      <td>2</td>\n      <td>80</td>\n      <td>0</td>\n      <td>7</td>\n      <td>3</td>\n      <td>3</td>\n      <td>0</td>\n      <td>0</td>\n      <td>0</td>\n      <td>0</td>\n      <td>0.000000</td>\n      <td>True</td>\n    </tr>\n    <tr>\n      <th>3</th>\n      <td>33</td>\n      <td>No</td>\n      <td>Travel_Frequently</td>\n      <td>1392</td>\n      <td>Research &amp; Development</td>\n      <td>3</td>\n      <td>4</td>\n      <td>Life Sciences</td>\n      <td>1</td>\n      <td>5</td>\n      <td>4</td>\n      <td>Female</td>\n      <td>56</td>\n      <td>3</td>\n      <td>1</td>\n      <td>Research Scientist</td>\n      <td>3</td>\n      <td>Married</td>\n      <td>2909</td>\n      <td>23159</td>\n      <td>1</td>\n      <td>Y</td>\n      <td>Yes</td>\n      <td>11</td>\n      <td>3</td>\n      <td>3</td>\n      <td>80</td>\n      <td>0</td>\n      <td>8</td>\n      <td>3</td>\n      <td>3</td>\n      <td>8</td>\n      <td>7</td>\n      <td>3</td>\n      <td>0</td>\n      <td>1.000000</td>\n      <td>False</td>\n    </tr>\n    <tr>\n      <th>4</th>\n      <td>27</td>\n      <td>No</td>\n      <td>Travel_Rarely</td>\n      <td>591</td>\n      <td>Research &amp; Development</td>\n      <td>2</td>\n      <td>1</td>\n      <td>Medical</td>\n      <td>1</td>\n      <td>7</td>\n      <td>1</td>\n      <td>Male</td>\n      <td>40</td>\n      <td>3</td>\n      <td>1</td>\n      <td>Laboratory Technician</td>\n      <td>2</td>\n      <td>Married</td>\n      <td>3468</td>\n      <td>16632</td>\n      <td>9</td>\n      <td>Y</td>\n      <td>No</td>\n      <td>12</td>\n      <td>3</td>\n      <td>4</td>\n      <td>80</td>\n      <td>1</td>\n      <td>6</td>\n      <td>3</td>\n      <td>3</td>\n      <td>2</td>\n      <td>2</td>\n      <td>2</td>\n      <td>2</td>\n      <td>0.333333</td>\n      <td>False</td>\n    </tr>\n    <tr>\n      <th>...</th>\n      <td>...</td>\n      <td>...</td>\n      <td>...</td>\n      <td>...</td>\n      <td>...</td>\n      <td>...</td>\n      <td>...</td>\n      <td>...</td>\n      <td>...</td>\n      <td>...</td>\n      <td>...</td>\n      <td>...</td>\n      <td>...</td>\n      <td>...</td>\n      <td>...</td>\n      <td>...</td>\n      <td>...</td>\n      <td>...</td>\n      <td>...</td>\n      <td>...</td>\n      <td>...</td>\n      <td>...</td>\n      <td>...</td>\n      <td>...</td>\n      <td>...</td>\n      <td>...</td>\n      <td>...</td>\n      <td>...</td>\n      <td>...</td>\n      <td>...</td>\n      <td>...</td>\n      <td>...</td>\n      <td>...</td>\n      <td>...</td>\n      <td>...</td>\n      <td>...</td>\n      <td>...</td>\n    </tr>\n    <tr>\n      <th>1465</th>\n      <td>36</td>\n      <td>No</td>\n      <td>Travel_Frequently</td>\n      <td>884</td>\n      <td>Research &amp; Development</td>\n      <td>23</td>\n      <td>2</td>\n      <td>Medical</td>\n      <td>1</td>\n      <td>2061</td>\n      <td>3</td>\n      <td>Male</td>\n      <td>41</td>\n      <td>4</td>\n      <td>2</td>\n      <td>Laboratory Technician</td>\n      <td>4</td>\n      <td>Married</td>\n      <td>2571</td>\n      <td>12290</td>\n      <td>4</td>\n      <td>Y</td>\n      <td>No</td>\n      <td>17</td>\n      <td>3</td>\n      <td>3</td>\n      <td>80</td>\n      <td>1</td>\n      <td>17</td>\n      <td>3</td>\n      <td>3</td>\n      <td>5</td>\n      <td>2</td>\n      <td>0</td>\n      <td>3</td>\n      <td>0.294118</td>\n      <td>False</td>\n    </tr>\n    <tr>\n      <th>1466</th>\n      <td>39</td>\n      <td>No</td>\n      <td>Travel_Rarely</td>\n      <td>613</td>\n      <td>Research &amp; Development</td>\n      <td>6</td>\n      <td>1</td>\n      <td>Medical</td>\n      <td>1</td>\n      <td>2062</td>\n      <td>4</td>\n      <td>Male</td>\n      <td>42</td>\n      <td>2</td>\n      <td>3</td>\n      <td>Healthcare Representative</td>\n      <td>1</td>\n      <td>Married</td>\n      <td>9991</td>\n      <td>21457</td>\n      <td>4</td>\n      <td>Y</td>\n      <td>No</td>\n      <td>15</td>\n      <td>3</td>\n      <td>1</td>\n      <td>80</td>\n      <td>1</td>\n      <td>9</td>\n      <td>5</td>\n      <td>3</td>\n      <td>7</td>\n      <td>7</td>\n      <td>1</td>\n      <td>7</td>\n      <td>0.777778</td>\n      <td>True</td>\n    </tr>\n    <tr>\n      <th>1467</th>\n      <td>27</td>\n      <td>No</td>\n      <td>Travel_Rarely</td>\n      <td>155</td>\n      <td>Research &amp; Development</td>\n      <td>4</td>\n      <td>3</td>\n      <td>Life Sciences</td>\n      <td>1</td>\n      <td>2064</td>\n      <td>2</td>\n      <td>Male</td>\n      <td>87</td>\n      <td>4</td>\n      <td>2</td>\n      <td>Manufacturing Director</td>\n      <td>2</td>\n      <td>Married</td>\n      <td>6142</td>\n      <td>5174</td>\n      <td>1</td>\n      <td>Y</td>\n      <td>Yes</td>\n      <td>20</td>\n      <td>4</td>\n      <td>2</td>\n      <td>80</td>\n      <td>1</td>\n      <td>6</td>\n      <td>0</td>\n      <td>3</td>\n      <td>6</td>\n      <td>2</td>\n      <td>0</td>\n      <td>3</td>\n      <td>1.000000</td>\n      <td>False</td>\n    </tr>\n    <tr>\n      <th>1468</th>\n      <td>49</td>\n      <td>No</td>\n      <td>Travel_Frequently</td>\n      <td>1023</td>\n      <td>Sales</td>\n      <td>2</td>\n      <td>3</td>\n      <td>Medical</td>\n      <td>1</td>\n      <td>2065</td>\n      <td>4</td>\n      <td>Male</td>\n      <td>63</td>\n      <td>2</td>\n      <td>2</td>\n      <td>Sales Executive</td>\n      <td>2</td>\n      <td>Married</td>\n      <td>5390</td>\n      <td>13243</td>\n      <td>2</td>\n      <td>Y</td>\n      <td>No</td>\n      <td>14</td>\n      <td>3</td>\n      <td>4</td>\n      <td>80</td>\n      <td>0</td>\n      <td>17</td>\n      <td>3</td>\n      <td>2</td>\n      <td>9</td>\n      <td>6</td>\n      <td>0</td>\n      <td>8</td>\n      <td>0.529412</td>\n      <td>True</td>\n    </tr>\n    <tr>\n      <th>1469</th>\n      <td>34</td>\n      <td>No</td>\n      <td>Travel_Rarely</td>\n      <td>628</td>\n      <td>Research &amp; Development</td>\n      <td>8</td>\n      <td>3</td>\n      <td>Medical</td>\n      <td>1</td>\n      <td>2068</td>\n      <td>2</td>\n      <td>Male</td>\n      <td>82</td>\n      <td>4</td>\n      <td>2</td>\n      <td>Laboratory Technician</td>\n      <td>3</td>\n      <td>Married</td>\n      <td>4404</td>\n      <td>10228</td>\n      <td>2</td>\n      <td>Y</td>\n      <td>No</td>\n      <td>12</td>\n      <td>3</td>\n      <td>1</td>\n      <td>80</td>\n      <td>0</td>\n      <td>6</td>\n      <td>3</td>\n      <td>4</td>\n      <td>4</td>\n      <td>3</td>\n      <td>1</td>\n      <td>2</td>\n      <td>0.666667</td>\n      <td>False</td>\n    </tr>\n  </tbody>\n</table>\n<p>1470 rows × 37 columns</p>\n</div>",
                "text/plain": "      Age Attrition  ... %WorkingYearsAtCompany  IsOld\n0      41       Yes  ...               0.750000   True\n1      49        No  ...               1.000000   True\n2      37       Yes  ...               0.000000   True\n3      33        No  ...               1.000000  False\n4      27        No  ...               0.333333  False\n...   ...       ...  ...                    ...    ...\n1465   36        No  ...               0.294118  False\n1466   39        No  ...               0.777778   True\n1467   27        No  ...               1.000000  False\n1468   49        No  ...               0.529412   True\n1469   34        No  ...               0.666667  False\n\n[1470 rows x 37 columns]"
              }
            ],
            "_view_module": "@jupyter-widgets/output",
            "_model_module_version": "1.0.0",
            "_view_count": null,
            "_view_module_version": "1.0.0",
            "layout": "IPY_MODEL_39494f14f7804d8cba0aaf0c49a20f2a",
            "_model_module": "@jupyter-widgets/output"
          }
        },
        "39494f14f7804d8cba0aaf0c49a20f2a": {
          "model_module": "@jupyter-widgets/base",
          "model_name": "LayoutModel",
          "state": {
            "_view_name": "LayoutView",
            "grid_template_rows": null,
            "right": null,
            "justify_content": null,
            "_view_module": "@jupyter-widgets/base",
            "overflow": null,
            "_model_module_version": "1.2.0",
            "_view_count": null,
            "flex_flow": null,
            "width": null,
            "min_width": null,
            "border": null,
            "align_items": null,
            "bottom": null,
            "_model_module": "@jupyter-widgets/base",
            "top": null,
            "grid_column": null,
            "overflow_y": null,
            "overflow_x": null,
            "grid_auto_flow": null,
            "grid_area": null,
            "grid_template_columns": null,
            "flex": null,
            "_model_name": "LayoutModel",
            "justify_items": null,
            "grid_row": null,
            "max_height": null,
            "align_content": null,
            "visibility": null,
            "align_self": null,
            "height": null,
            "min_height": null,
            "padding": null,
            "grid_auto_rows": null,
            "grid_gap": null,
            "max_width": null,
            "order": null,
            "_view_module_version": "1.2.0",
            "grid_template_areas": null,
            "object_position": null,
            "object_fit": null,
            "grid_auto_columns": null,
            "margin": null,
            "display": null,
            "left": null
          }
        }
      }
    }
  },
  "cells": [
    {
      "cell_type": "markdown",
      "metadata": {
        "id": "view-in-github",
        "colab_type": "text"
      },
      "source": [
        "<a href=\"https://colab.research.google.com/github/swarnava-96/Exploratory-Data-Analysis-EDA-/blob/main/LUX.ipynb\" target=\"_parent\"><img src=\"https://colab.research.google.com/assets/colab-badge.svg\" alt=\"Open In Colab\"/></a>"
      ]
    },
    {
      "cell_type": "code",
      "metadata": {
        "colab": {
          "base_uri": "https://localhost:8080/"
        },
        "id": "4tPez-DBa-Vl",
        "outputId": "332a374d-5244-4c68-dad0-90ff8d136c37"
      },
      "source": [
        "!pip install lux-api"
      ],
      "execution_count": 1,
      "outputs": [
        {
          "output_type": "stream",
          "text": [
            "Requirement already satisfied: lux-api in /usr/local/lib/python3.7/dist-packages (0.3.1)\n",
            "Requirement already satisfied: lux-widget>=0.1.4 in /usr/local/lib/python3.7/dist-packages (from lux-api) (0.1.6)\n",
            "Requirement already satisfied: scipy>=1.3.3 in /usr/local/lib/python3.7/dist-packages (from lux-api) (1.4.1)\n",
            "Requirement already satisfied: numpy>=1.16.5 in /usr/local/lib/python3.7/dist-packages (from lux-api) (1.19.5)\n",
            "Requirement already satisfied: iso3166 in /usr/local/lib/python3.7/dist-packages (from lux-api) (1.0.1)\n",
            "Requirement already satisfied: matplotlib>=3.0.0 in /usr/local/lib/python3.7/dist-packages (from lux-api) (3.2.2)\n",
            "Requirement already satisfied: altair>=4.0.0 in /usr/local/lib/python3.7/dist-packages (from lux-api) (4.1.0)\n",
            "Requirement already satisfied: scikit-learn>=0.22 in /usr/local/lib/python3.7/dist-packages (from lux-api) (0.22.2.post1)\n",
            "Requirement already satisfied: pandas>=1.2.0 in /usr/local/lib/python3.7/dist-packages (from lux-api) (1.2.5)\n",
            "Requirement already satisfied: ipywidgets>=7.5.0 in /usr/local/lib/python3.7/dist-packages (from lux-widget>=0.1.4->lux-api) (7.6.3)\n",
            "Requirement already satisfied: notebook>=4.0.0 in /usr/local/lib/python3.7/dist-packages (from lux-widget>=0.1.4->lux-api) (5.3.1)\n",
            "Requirement already satisfied: cycler>=0.10 in /usr/local/lib/python3.7/dist-packages (from matplotlib>=3.0.0->lux-api) (0.10.0)\n",
            "Requirement already satisfied: kiwisolver>=1.0.1 in /usr/local/lib/python3.7/dist-packages (from matplotlib>=3.0.0->lux-api) (1.3.1)\n",
            "Requirement already satisfied: pyparsing!=2.0.4,!=2.1.2,!=2.1.6,>=2.0.1 in /usr/local/lib/python3.7/dist-packages (from matplotlib>=3.0.0->lux-api) (2.4.7)\n",
            "Requirement already satisfied: python-dateutil>=2.1 in /usr/local/lib/python3.7/dist-packages (from matplotlib>=3.0.0->lux-api) (2.8.1)\n",
            "Requirement already satisfied: toolz in /usr/local/lib/python3.7/dist-packages (from altair>=4.0.0->lux-api) (0.11.1)\n",
            "Requirement already satisfied: jsonschema in /usr/local/lib/python3.7/dist-packages (from altair>=4.0.0->lux-api) (2.6.0)\n",
            "Requirement already satisfied: jinja2 in /usr/local/lib/python3.7/dist-packages (from altair>=4.0.0->lux-api) (2.11.3)\n",
            "Requirement already satisfied: entrypoints in /usr/local/lib/python3.7/dist-packages (from altair>=4.0.0->lux-api) (0.3)\n",
            "Requirement already satisfied: joblib>=0.11 in /usr/local/lib/python3.7/dist-packages (from scikit-learn>=0.22->lux-api) (1.0.1)\n",
            "Requirement already satisfied: pytz>=2017.3 in /usr/local/lib/python3.7/dist-packages (from pandas>=1.2.0->lux-api) (2018.9)\n",
            "Requirement already satisfied: nbformat>=4.2.0 in /usr/local/lib/python3.7/dist-packages (from ipywidgets>=7.5.0->lux-widget>=0.1.4->lux-api) (5.1.3)\n",
            "Requirement already satisfied: jupyterlab-widgets>=1.0.0; python_version >= \"3.6\" in /usr/local/lib/python3.7/dist-packages (from ipywidgets>=7.5.0->lux-widget>=0.1.4->lux-api) (1.0.0)\n",
            "Requirement already satisfied: ipykernel>=4.5.1 in /usr/local/lib/python3.7/dist-packages (from ipywidgets>=7.5.0->lux-widget>=0.1.4->lux-api) (4.10.1)\n",
            "Requirement already satisfied: ipython>=4.0.0; python_version >= \"3.3\" in /usr/local/lib/python3.7/dist-packages (from ipywidgets>=7.5.0->lux-widget>=0.1.4->lux-api) (5.5.0)\n",
            "Requirement already satisfied: traitlets>=4.3.1 in /usr/local/lib/python3.7/dist-packages (from ipywidgets>=7.5.0->lux-widget>=0.1.4->lux-api) (5.0.5)\n",
            "Requirement already satisfied: widgetsnbextension~=3.5.0 in /usr/local/lib/python3.7/dist-packages (from ipywidgets>=7.5.0->lux-widget>=0.1.4->lux-api) (3.5.1)\n",
            "Requirement already satisfied: tornado>=4 in /usr/local/lib/python3.7/dist-packages (from notebook>=4.0.0->lux-widget>=0.1.4->lux-api) (5.1.1)\n",
            "Requirement already satisfied: terminado>=0.8.1 in /usr/local/lib/python3.7/dist-packages (from notebook>=4.0.0->lux-widget>=0.1.4->lux-api) (0.10.1)\n",
            "Requirement already satisfied: nbconvert in /usr/local/lib/python3.7/dist-packages (from notebook>=4.0.0->lux-widget>=0.1.4->lux-api) (5.6.1)\n",
            "Requirement already satisfied: Send2Trash in /usr/local/lib/python3.7/dist-packages (from notebook>=4.0.0->lux-widget>=0.1.4->lux-api) (1.5.0)\n",
            "Requirement already satisfied: jupyter-core>=4.4.0 in /usr/local/lib/python3.7/dist-packages (from notebook>=4.0.0->lux-widget>=0.1.4->lux-api) (4.7.1)\n",
            "Requirement already satisfied: ipython-genutils in /usr/local/lib/python3.7/dist-packages (from notebook>=4.0.0->lux-widget>=0.1.4->lux-api) (0.2.0)\n",
            "Requirement already satisfied: jupyter-client>=5.2.0 in /usr/local/lib/python3.7/dist-packages (from notebook>=4.0.0->lux-widget>=0.1.4->lux-api) (5.3.5)\n",
            "Requirement already satisfied: six in /usr/local/lib/python3.7/dist-packages (from cycler>=0.10->matplotlib>=3.0.0->lux-api) (1.15.0)\n",
            "Requirement already satisfied: MarkupSafe>=0.23 in /usr/local/lib/python3.7/dist-packages (from jinja2->altair>=4.0.0->lux-api) (2.0.1)\n",
            "Requirement already satisfied: simplegeneric>0.8 in /usr/local/lib/python3.7/dist-packages (from ipython>=4.0.0; python_version >= \"3.3\"->ipywidgets>=7.5.0->lux-widget>=0.1.4->lux-api) (0.8.1)\n",
            "Requirement already satisfied: pexpect; sys_platform != \"win32\" in /usr/local/lib/python3.7/dist-packages (from ipython>=4.0.0; python_version >= \"3.3\"->ipywidgets>=7.5.0->lux-widget>=0.1.4->lux-api) (4.8.0)\n",
            "Requirement already satisfied: decorator in /usr/local/lib/python3.7/dist-packages (from ipython>=4.0.0; python_version >= \"3.3\"->ipywidgets>=7.5.0->lux-widget>=0.1.4->lux-api) (4.4.2)\n",
            "Requirement already satisfied: prompt-toolkit<2.0.0,>=1.0.4 in /usr/local/lib/python3.7/dist-packages (from ipython>=4.0.0; python_version >= \"3.3\"->ipywidgets>=7.5.0->lux-widget>=0.1.4->lux-api) (1.0.18)\n",
            "Requirement already satisfied: pygments in /usr/local/lib/python3.7/dist-packages (from ipython>=4.0.0; python_version >= \"3.3\"->ipywidgets>=7.5.0->lux-widget>=0.1.4->lux-api) (2.6.1)\n",
            "Requirement already satisfied: pickleshare in /usr/local/lib/python3.7/dist-packages (from ipython>=4.0.0; python_version >= \"3.3\"->ipywidgets>=7.5.0->lux-widget>=0.1.4->lux-api) (0.7.5)\n",
            "Requirement already satisfied: setuptools>=18.5 in /usr/local/lib/python3.7/dist-packages (from ipython>=4.0.0; python_version >= \"3.3\"->ipywidgets>=7.5.0->lux-widget>=0.1.4->lux-api) (57.0.0)\n",
            "Requirement already satisfied: ptyprocess; os_name != \"nt\" in /usr/local/lib/python3.7/dist-packages (from terminado>=0.8.1->notebook>=4.0.0->lux-widget>=0.1.4->lux-api) (0.7.0)\n",
            "Requirement already satisfied: pandocfilters>=1.4.1 in /usr/local/lib/python3.7/dist-packages (from nbconvert->notebook>=4.0.0->lux-widget>=0.1.4->lux-api) (1.4.3)\n",
            "Requirement already satisfied: testpath in /usr/local/lib/python3.7/dist-packages (from nbconvert->notebook>=4.0.0->lux-widget>=0.1.4->lux-api) (0.5.0)\n",
            "Requirement already satisfied: mistune<2,>=0.8.1 in /usr/local/lib/python3.7/dist-packages (from nbconvert->notebook>=4.0.0->lux-widget>=0.1.4->lux-api) (0.8.4)\n",
            "Requirement already satisfied: defusedxml in /usr/local/lib/python3.7/dist-packages (from nbconvert->notebook>=4.0.0->lux-widget>=0.1.4->lux-api) (0.7.1)\n",
            "Requirement already satisfied: bleach in /usr/local/lib/python3.7/dist-packages (from nbconvert->notebook>=4.0.0->lux-widget>=0.1.4->lux-api) (3.3.0)\n",
            "Requirement already satisfied: pyzmq>=13 in /usr/local/lib/python3.7/dist-packages (from jupyter-client>=5.2.0->notebook>=4.0.0->lux-widget>=0.1.4->lux-api) (22.1.0)\n",
            "Requirement already satisfied: wcwidth in /usr/local/lib/python3.7/dist-packages (from prompt-toolkit<2.0.0,>=1.0.4->ipython>=4.0.0; python_version >= \"3.3\"->ipywidgets>=7.5.0->lux-widget>=0.1.4->lux-api) (0.2.5)\n",
            "Requirement already satisfied: webencodings in /usr/local/lib/python3.7/dist-packages (from bleach->nbconvert->notebook>=4.0.0->lux-widget>=0.1.4->lux-api) (0.5.1)\n",
            "Requirement already satisfied: packaging in /usr/local/lib/python3.7/dist-packages (from bleach->nbconvert->notebook>=4.0.0->lux-widget>=0.1.4->lux-api) (20.9)\n"
          ],
          "name": "stdout"
        }
      ]
    },
    {
      "cell_type": "markdown",
      "metadata": {
        "id": "oIAj-Oe4cEzJ"
      },
      "source": [
        "## Visualizations of dataframes beyond simple tables"
      ]
    },
    {
      "cell_type": "code",
      "metadata": {
        "id": "CySQD5skbCMo"
      },
      "source": [
        "import pandas as pd\n",
        "import lux"
      ],
      "execution_count": 2,
      "outputs": []
    },
    {
      "cell_type": "code",
      "metadata": {
        "id": "_QuEmkbObQGq"
      },
      "source": [
        "# Collecting basic usage statistics for Lux (For more information, see: https://tinyurl.com/logging-consent)\n",
        "lux.logger = True # Remove this line if you do not want your interactions recorded"
      ],
      "execution_count": 3,
      "outputs": []
    },
    {
      "cell_type": "code",
      "metadata": {
        "id": "8tcR3bdVbYOY"
      },
      "source": [
        "df = pd.read_csv(\"https://raw.githubusercontent.com/lux-org/lux-datasets/master/data/employee.csv\")"
      ],
      "execution_count": 4,
      "outputs": []
    },
    {
      "cell_type": "code",
      "metadata": {
        "colab": {
          "base_uri": "https://localhost:8080/",
          "height": 641,
          "referenced_widgets": [
            "e9916974574c4d46941c706720073595",
            "8cbdebb2236543c998a1daea81f67e3c",
            "f2453699a9d24a73b3c4990a4d90101d",
            "ae8cbdd774164f7492b4a824d21f580e",
            "1096c15e14ef4ba88f3970f78a9c3928"
          ]
        },
        "id": "KJHZnwysbiOw",
        "outputId": "97fec60f-8735-43f1-899b-64e0cb6be069"
      },
      "source": [
        "df"
      ],
      "execution_count": 5,
      "outputs": [
        {
          "output_type": "display_data",
          "data": {
            "application/vnd.jupyter.widget-view+json": {
              "model_id": "e9916974574c4d46941c706720073595",
              "version_minor": 0,
              "version_major": 2
            },
            "text/plain": [
              "Button(description='Toggle Pandas/Lux', layout=Layout(top='5px', width='140px'), style=ButtonStyle())"
            ]
          },
          "metadata": {
            "tags": []
          }
        },
        {
          "output_type": "display_data",
          "data": {
            "application/vnd.jupyter.widget-view+json": {
              "model_id": "ae8cbdd774164f7492b4a824d21f580e",
              "version_minor": 0,
              "version_major": 2
            },
            "text/plain": [
              "Output()"
            ]
          },
          "metadata": {
            "tags": []
          }
        }
      ]
    },
    {
      "cell_type": "markdown",
      "metadata": {
        "id": "PKtu5BFg0iW3"
      },
      "source": [
        "## Steering analysis with intent"
      ]
    },
    {
      "cell_type": "code",
      "metadata": {
        "id": "7R5yqnSW0jh0"
      },
      "source": [
        "df.intent=[\"Attrition\"]"
      ],
      "execution_count": 6,
      "outputs": []
    },
    {
      "cell_type": "code",
      "metadata": {
        "colab": {
          "base_uri": "https://localhost:8080/",
          "height": 641,
          "referenced_widgets": [
            "68816de7cd4d4f0da71a8dc800c176b6",
            "93225f37907f495294d3941194057cb4",
            "16362bb77b744a1c8deb1b1be1fdd3fc",
            "5f965d4026d14877b2ce894e5473e774",
            "cd46ad303b5e47f3bddf4ff50925b94f"
          ]
        },
        "id": "vIYY7vcm0pBM",
        "outputId": "719ddb01-5ee8-43f4-ce2a-2a6e4d6576ad"
      },
      "source": [
        "df"
      ],
      "execution_count": 7,
      "outputs": [
        {
          "output_type": "display_data",
          "data": {
            "application/vnd.jupyter.widget-view+json": {
              "model_id": "68816de7cd4d4f0da71a8dc800c176b6",
              "version_minor": 0,
              "version_major": 2
            },
            "text/plain": [
              "Button(description='Toggle Pandas/Lux', layout=Layout(top='5px', width='140px'), style=ButtonStyle())"
            ]
          },
          "metadata": {
            "tags": []
          }
        },
        {
          "output_type": "display_data",
          "data": {
            "application/vnd.jupyter.widget-view+json": {
              "model_id": "5f965d4026d14877b2ce894e5473e774",
              "version_minor": 0,
              "version_major": 2
            },
            "text/plain": [
              "Output()"
            ]
          },
          "metadata": {
            "tags": []
          }
        }
      ]
    },
    {
      "cell_type": "markdown",
      "metadata": {
        "id": "jIzpVPC_1AFi"
      },
      "source": [
        "## Quick inspection of 1-D Series"
      ]
    },
    {
      "cell_type": "code",
      "metadata": {
        "colab": {
          "base_uri": "https://localhost:8080/",
          "height": 253,
          "referenced_widgets": [
            "dac2d2e7ef0f442e9a54b591809d92ac",
            "0badfee281624d15b58f56d3528a7dd0",
            "2bfc25f96b77453e9eca0dc4eb519c53",
            "da355caddfed4321a03bbbc1302f1aa3",
            "ecc598ea7c6046b38bdf54e4d662df16"
          ]
        },
        "id": "jJA-kb4N1BfR",
        "outputId": "b62c9db0-70cc-4bb6-d576-da1af0d14b81"
      },
      "source": [
        "df[\"YearsAtCompany\"]/df[\"TotalWorkingYears\"]"
      ],
      "execution_count": 8,
      "outputs": [
        {
          "output_type": "display_data",
          "data": {
            "application/vnd.jupyter.widget-view+json": {
              "model_id": "dac2d2e7ef0f442e9a54b591809d92ac",
              "version_minor": 0,
              "version_major": 2
            },
            "text/plain": [
              "Button(description='Toggle Pandas/Lux', layout=Layout(top='5px', width='140px'), style=ButtonStyle())"
            ]
          },
          "metadata": {
            "tags": []
          }
        },
        {
          "output_type": "display_data",
          "data": {
            "application/vnd.jupyter.widget-view+json": {
              "model_id": "da355caddfed4321a03bbbc1302f1aa3",
              "version_minor": 0,
              "version_major": 2
            },
            "text/plain": [
              "Output()"
            ]
          },
          "metadata": {
            "tags": []
          }
        }
      ]
    },
    {
      "cell_type": "code",
      "metadata": {
        "id": "-39aM0oS1ES6"
      },
      "source": [
        "df[\"%WorkingYearsAtCompany\"]=df[\"YearsAtCompany\"]/df[\"TotalWorkingYears\"]"
      ],
      "execution_count": 9,
      "outputs": []
    },
    {
      "cell_type": "markdown",
      "metadata": {
        "id": "5tD5aOwt1W_i"
      },
      "source": [
        "## Quick-and-dirty experimentation with visualizations"
      ]
    },
    {
      "cell_type": "code",
      "metadata": {
        "colab": {
          "base_uri": "https://localhost:8080/",
          "height": 17,
          "referenced_widgets": [
            "acd4b312d1c14764afa9df9240dd44c5"
          ]
        },
        "id": "NDxjFUll1X6s",
        "outputId": "929e5717-7c2c-4a23-f443-0645a06c589f"
      },
      "source": [
        "from lux.vis.Vis import Vis\n",
        "Vis([\"%WorkingYearsAtCompany\",\"Age\"],df)"
      ],
      "execution_count": 10,
      "outputs": [
        {
          "output_type": "display_data",
          "data": {
            "application/vnd.jupyter.widget-view+json": {
              "model_id": "acd4b312d1c14764afa9df9240dd44c5",
              "version_minor": 0,
              "version_major": 2
            },
            "text/plain": [
              "LuxWidget(current_vis={'config': {'view': {'continuousWidth': 400, 'continuousHeight': 300}, 'axis': {'labelCo…"
            ]
          },
          "metadata": {
            "tags": []
          }
        }
      ]
    },
    {
      "cell_type": "code",
      "metadata": {
        "colab": {
          "base_uri": "https://localhost:8080/",
          "height": 253,
          "referenced_widgets": [
            "db527602bec742e7989098e815079e73",
            "9fe5b5c57d1d4fddb05d913dd6963701",
            "fadad1cd6d304aa2bb4d3bef48c547a9",
            "3001f048e96d4d5da590d16d326130c8",
            "39ac8381904245099966483799b5b19c"
          ]
        },
        "id": "GLEEiCgh1ajJ",
        "outputId": "fd350d92-c68f-42c5-e40f-29eeb977448b"
      },
      "source": [
        "df[\"Age\"]"
      ],
      "execution_count": 11,
      "outputs": [
        {
          "output_type": "display_data",
          "data": {
            "application/vnd.jupyter.widget-view+json": {
              "model_id": "db527602bec742e7989098e815079e73",
              "version_minor": 0,
              "version_major": 2
            },
            "text/plain": [
              "Button(description='Toggle Pandas/Lux', layout=Layout(top='5px', width='140px'), style=ButtonStyle())"
            ]
          },
          "metadata": {
            "tags": []
          }
        },
        {
          "output_type": "display_data",
          "data": {
            "application/vnd.jupyter.widget-view+json": {
              "model_id": "3001f048e96d4d5da590d16d326130c8",
              "version_minor": 0,
              "version_major": 2
            },
            "text/plain": [
              "Output()"
            ]
          },
          "metadata": {
            "tags": []
          }
        }
      ]
    },
    {
      "cell_type": "code",
      "metadata": {
        "id": "paqmjW791d_P"
      },
      "source": [
        "df[\"IsOld\"]=df[\"Age\"]>df[\"Age\"].mean()"
      ],
      "execution_count": 12,
      "outputs": []
    },
    {
      "cell_type": "code",
      "metadata": {
        "colab": {
          "base_uri": "https://localhost:8080/",
          "height": 253,
          "referenced_widgets": [
            "c4fc618684374200a7e84d546fd23ea4",
            "cdb69dc80dbe49c5b976d5978255472f",
            "cca4b35052e340b382db6113ed3c5bcd",
            "4bdaa3bb686940b79aee22247e723833",
            "e024b328014945ec801913d9205cbb3a"
          ]
        },
        "id": "BWr-dPMb1hHa",
        "outputId": "744274a2-64b5-4941-bb6b-9eea7085fc6b"
      },
      "source": [
        "df[\"IsOld\"]"
      ],
      "execution_count": 13,
      "outputs": [
        {
          "output_type": "display_data",
          "data": {
            "application/vnd.jupyter.widget-view+json": {
              "model_id": "c4fc618684374200a7e84d546fd23ea4",
              "version_minor": 0,
              "version_major": 2
            },
            "text/plain": [
              "Button(description='Toggle Pandas/Lux', layout=Layout(top='5px', width='140px'), style=ButtonStyle())"
            ]
          },
          "metadata": {
            "tags": []
          }
        },
        {
          "output_type": "display_data",
          "data": {
            "application/vnd.jupyter.widget-view+json": {
              "model_id": "4bdaa3bb686940b79aee22247e723833",
              "version_minor": 0,
              "version_major": 2
            },
            "text/plain": [
              "Output()"
            ]
          },
          "metadata": {
            "tags": []
          }
        }
      ]
    },
    {
      "cell_type": "code",
      "metadata": {
        "colab": {
          "base_uri": "https://localhost:8080/",
          "height": 17,
          "referenced_widgets": [
            "c2401d653c244b3da4fd09beaa39fd4f"
          ]
        },
        "id": "v0q_zb4T1jyO",
        "outputId": "94bf34c7-8631-4d6c-be50-0a272d9a9ddf"
      },
      "source": [
        "Vis([\"%WorkingYearsAtCompany\",\"IsOld\"],df)"
      ],
      "execution_count": 14,
      "outputs": [
        {
          "output_type": "display_data",
          "data": {
            "application/vnd.jupyter.widget-view+json": {
              "model_id": "c2401d653c244b3da4fd09beaa39fd4f",
              "version_minor": 0,
              "version_major": 2
            },
            "text/plain": [
              "LuxWidget(current_vis={'config': {'view': {'continuousWidth': 400, 'continuousHeight': 300}, 'axis': {'labelCo…"
            ]
          },
          "metadata": {
            "tags": []
          }
        }
      ]
    },
    {
      "cell_type": "code",
      "metadata": {
        "colab": {
          "base_uri": "https://localhost:8080/"
        },
        "id": "UIR3uFyl1p8C",
        "outputId": "e1c92b7b-3edb-403e-9e4a-142762d0c58b"
      },
      "source": [
        "df.columns"
      ],
      "execution_count": 15,
      "outputs": [
        {
          "output_type": "execute_result",
          "data": {
            "text/plain": [
              "Index(['Age', 'Attrition', 'BusinessTravel', 'DailyRate', 'Department',\n",
              "       'DistanceFromHome', 'Education', 'EducationField', 'EmployeeCount',\n",
              "       'EmployeeNumber', 'EnvironmentSatisfaction', 'Gender', 'HourlyRate',\n",
              "       'JobInvolvement', 'JobLevel', 'JobRole', 'JobSatisfaction',\n",
              "       'MaritalStatus', 'MonthlyIncome', 'MonthlyRate', 'NumCompaniesWorked',\n",
              "       'Over18', 'OverTime', 'PercentSalaryHike', 'PerformanceRating',\n",
              "       'RelationshipSatisfaction', 'StandardHours', 'StockOptionLevel',\n",
              "       'TotalWorkingYears', 'TrainingTimesLastYear', 'WorkLifeBalance',\n",
              "       'YearsAtCompany', 'YearsInCurrentRole', 'YearsSinceLastPromotion',\n",
              "       'YearsWithCurrManager', '%WorkingYearsAtCompany', 'IsOld'],\n",
              "      dtype='object')"
            ]
          },
          "metadata": {
            "tags": []
          },
          "execution_count": 15
        }
      ]
    },
    {
      "cell_type": "code",
      "metadata": {
        "colab": {
          "base_uri": "https://localhost:8080/"
        },
        "id": "_eN1FpCl1snW",
        "outputId": "650b7153-6c55-4245-c363-ab229928f6a6"
      },
      "source": [
        "compensation = list(filter(lambda col: 'Rate' in col, df.columns))\n",
        "compensation"
      ],
      "execution_count": 16,
      "outputs": [
        {
          "output_type": "execute_result",
          "data": {
            "text/plain": [
              "['DailyRate', 'HourlyRate', 'MonthlyRate']"
            ]
          },
          "metadata": {
            "tags": []
          },
          "execution_count": 16
        }
      ]
    },
    {
      "cell_type": "code",
      "metadata": {
        "id": "XnAhfEf_1vgX"
      },
      "source": [
        "from lux.vis.VisList import VisList"
      ],
      "execution_count": 17,
      "outputs": []
    },
    {
      "cell_type": "code",
      "metadata": {
        "colab": {
          "base_uri": "https://localhost:8080/",
          "height": 17,
          "referenced_widgets": [
            "f5acd4e295e540268a8eb31133039e76"
          ]
        },
        "id": "Q2YZBRkh1y0F",
        "outputId": "af1a471d-1659-4914-d526-089897abab86"
      },
      "source": [
        "VisList([compensation,\"IsOld\"],df)"
      ],
      "execution_count": 18,
      "outputs": [
        {
          "output_type": "display_data",
          "data": {
            "application/vnd.jupyter.widget-view+json": {
              "model_id": "f5acd4e295e540268a8eb31133039e76",
              "version_minor": 0,
              "version_major": 2
            },
            "text/plain": [
              "LuxWidget(recommendations=[{'action': 'Vis List', 'description': 'Shows a vis list defined by the intent', 'vs…"
            ]
          },
          "metadata": {
            "tags": []
          }
        }
      ]
    },
    {
      "cell_type": "markdown",
      "metadata": {
        "id": "4H4m018U17OU"
      },
      "source": [
        "## Exporting visualization insight to edit and share"
      ]
    },
    {
      "cell_type": "code",
      "metadata": {
        "colab": {
          "base_uri": "https://localhost:8080/",
          "height": 641,
          "referenced_widgets": [
            "20f52d36d1454547b31f619f8e61c073",
            "974600bfe97c4c2b874972829e216f29",
            "f7337904ebaa4b1b9f092c62d806af13",
            "93066c2814954250a6b25da14c225636",
            "39494f14f7804d8cba0aaf0c49a20f2a"
          ]
        },
        "id": "unTMYe0_1-3j",
        "outputId": "d8f4f2dd-ba09-424e-cb91-bf64231f5b40"
      },
      "source": [
        "df"
      ],
      "execution_count": 19,
      "outputs": [
        {
          "output_type": "display_data",
          "data": {
            "application/vnd.jupyter.widget-view+json": {
              "model_id": "20f52d36d1454547b31f619f8e61c073",
              "version_minor": 0,
              "version_major": 2
            },
            "text/plain": [
              "Button(description='Toggle Pandas/Lux', layout=Layout(top='5px', width='140px'), style=ButtonStyle())"
            ]
          },
          "metadata": {
            "tags": []
          }
        },
        {
          "output_type": "display_data",
          "data": {
            "application/vnd.jupyter.widget-view+json": {
              "model_id": "93066c2814954250a6b25da14c225636",
              "version_minor": 0,
              "version_major": 2
            },
            "text/plain": [
              "Output()"
            ]
          },
          "metadata": {
            "tags": []
          }
        }
      ]
    },
    {
      "cell_type": "code",
      "metadata": {
        "colab": {
          "base_uri": "https://localhost:8080/",
          "height": 148
        },
        "id": "StzQB-kP2LFM",
        "outputId": "a4f93aa1-af1d-44a0-bacf-5d4af591636c"
      },
      "source": [
        "import altair as alt\n",
        "visData = pd.DataFrame({'Attrition': {0: 'No', 1: 'Yes'}, \n",
        "                        'DistanceFromHome': {0: 8.915652879156529, 1: 10.632911392405063}})\n",
        "\n",
        "chart = alt.Chart(visData,title=\"Important Factor for Employee Attrition!!\").mark_bar().encode(\n",
        "    y = alt.Y('Attrition', type= 'nominal', axis=alt.Axis(labelOverlap=True, title='Attrition')),\n",
        "    x = alt.X('DistanceFromHome', type= 'quantitative', axis=alt.Axis(title='Average Distance from Home')),\n",
        ")\n",
        "chart = chart.configure_mark(tooltip=alt.TooltipContent('encoding'))\n",
        "chart = chart.configure_title(fontWeight=500,fontSize=13,font='Helvetica Neue')\n",
        "chart = chart.configure_axis(titleFontWeight=500,titleFontSize=11,titleFont='Helvetica Neue',\n",
        "            labelFontWeight=400,labelFontSize=8,labelFont='Helvetica Neue',labelColor='#505050')\n",
        "chart = chart.configure_legend(titleFontWeight=500,titleFontSize=10,titleFont='Helvetica Neue',\n",
        "            labelFontWeight=400,labelFontSize=8,labelFont='Helvetica Neue')\n",
        "chart = chart.properties(width=250,height=70)\n",
        "\n",
        "chart"
      ],
      "execution_count": 21,
      "outputs": [
        {
          "output_type": "execute_result",
          "data": {
            "text/plain": [
              "alt.Chart(...)"
            ],
            "text/html": [
              "\n",
              "<div id=\"altair-viz-e252a4d61185443798ba914f6e00483e\"></div>\n",
              "<script type=\"text/javascript\">\n",
              "  (function(spec, embedOpt){\n",
              "    let outputDiv = document.currentScript.previousElementSibling;\n",
              "    if (outputDiv.id !== \"altair-viz-e252a4d61185443798ba914f6e00483e\") {\n",
              "      outputDiv = document.getElementById(\"altair-viz-e252a4d61185443798ba914f6e00483e\");\n",
              "    }\n",
              "    const paths = {\n",
              "      \"vega\": \"https://cdn.jsdelivr.net/npm//vega@5?noext\",\n",
              "      \"vega-lib\": \"https://cdn.jsdelivr.net/npm//vega-lib?noext\",\n",
              "      \"vega-lite\": \"https://cdn.jsdelivr.net/npm//vega-lite@4.8.1?noext\",\n",
              "      \"vega-embed\": \"https://cdn.jsdelivr.net/npm//vega-embed@6?noext\",\n",
              "    };\n",
              "\n",
              "    function loadScript(lib) {\n",
              "      return new Promise(function(resolve, reject) {\n",
              "        var s = document.createElement('script');\n",
              "        s.src = paths[lib];\n",
              "        s.async = true;\n",
              "        s.onload = () => resolve(paths[lib]);\n",
              "        s.onerror = () => reject(`Error loading script: ${paths[lib]}`);\n",
              "        document.getElementsByTagName(\"head\")[0].appendChild(s);\n",
              "      });\n",
              "    }\n",
              "\n",
              "    function showError(err) {\n",
              "      outputDiv.innerHTML = `<div class=\"error\" style=\"color:red;\">${err}</div>`;\n",
              "      throw err;\n",
              "    }\n",
              "\n",
              "    function displayChart(vegaEmbed) {\n",
              "      vegaEmbed(outputDiv, spec, embedOpt)\n",
              "        .catch(err => showError(`Javascript Error: ${err.message}<br>This usually means there's a typo in your chart specification. See the javascript console for the full traceback.`));\n",
              "    }\n",
              "\n",
              "    if(typeof define === \"function\" && define.amd) {\n",
              "      requirejs.config({paths});\n",
              "      require([\"vega-embed\"], displayChart, err => showError(`Error loading script: ${err.message}`));\n",
              "    } else if (typeof vegaEmbed === \"function\") {\n",
              "      displayChart(vegaEmbed);\n",
              "    } else {\n",
              "      loadScript(\"vega\")\n",
              "        .then(() => loadScript(\"vega-lite\"))\n",
              "        .then(() => loadScript(\"vega-embed\"))\n",
              "        .catch(showError)\n",
              "        .then(() => displayChart(vegaEmbed));\n",
              "    }\n",
              "  })({\"config\": {\"view\": {\"continuousWidth\": 400, \"continuousHeight\": 300}, \"axis\": {\"labelColor\": \"#505050\", \"labelFont\": \"Helvetica Neue\", \"labelFontSize\": 8, \"labelFontWeight\": 400, \"titleFont\": \"Helvetica Neue\", \"titleFontSize\": 11, \"titleFontWeight\": 500}, \"legend\": {\"labelFont\": \"Helvetica Neue\", \"labelFontSize\": 8, \"labelFontWeight\": 400, \"titleFont\": \"Helvetica Neue\", \"titleFontSize\": 10, \"titleFontWeight\": 500}, \"mark\": {\"tooltip\": {\"content\": \"encoding\"}}, \"title\": {\"font\": \"Helvetica Neue\", \"fontSize\": 13, \"fontWeight\": 500}}, \"data\": {\"name\": \"data-bc11a90267224468760c7f3f4d553d31\"}, \"mark\": \"bar\", \"encoding\": {\"x\": {\"type\": \"quantitative\", \"axis\": {\"title\": \"Average Distance from Home\"}, \"field\": \"DistanceFromHome\"}, \"y\": {\"type\": \"nominal\", \"axis\": {\"labelOverlap\": true, \"title\": \"Attrition\"}, \"field\": \"Attrition\"}}, \"height\": 70, \"title\": \"Important Factor for Employee Attrition!!\", \"width\": 250, \"$schema\": \"https://vega.github.io/schema/vega-lite/v4.8.1.json\", \"datasets\": {\"data-bc11a90267224468760c7f3f4d553d31\": [{\"Attrition\": \"No\", \"DistanceFromHome\": 8.915652879156529}, {\"Attrition\": \"Yes\", \"DistanceFromHome\": 10.632911392405063}]}}, {\"mode\": \"vega-lite\"});\n",
              "</script>"
            ]
          },
          "metadata": {
            "tags": []
          },
          "execution_count": 21
        }
      ]
    }
  ]
}